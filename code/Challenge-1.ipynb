{
 "cells": [
  {
   "cell_type": "markdown",
   "source": [
    "<div align=\"center\">\n",
    "<h1>\n",
    "Python for Social Science Workshop - Challenge 1\n",
    "</h1>\n",
    "</div>\n",
    "<br />\n",
    "<div align=\"center\">\n",
    "<h3>\n",
    "Jose J Alcocer\n",
    "</h3>\n",
    "</div>\n",
    "<br />\n",
    "<div align=\"center\">\n",
    "<h4>\n",
    "April 11, 2023\n",
    "</h4>\n",
    "</div>"
   ],
   "metadata": {
    "collapsed": false
   }
  },
  {
   "cell_type": "markdown",
   "source": [
    "****"
   ],
   "metadata": {
    "collapsed": false
   }
  },
  {
   "cell_type": "markdown",
   "source": [
    "This mini challenge will test your ability to use some of the stuff you learned for the purpose of data handling and visualization. For this challenge, we will be using a dataset that contains information about asylum applications in the EU from 2011 to 2022. The data was collected and compiled from an interactive dashboard (link [here](https://anonyms.shinyapps.io/asylum/)) created by [D. Toshkov](https://www.dimiter.eu/) (2022). <br>\n",
    "\n",
    "<br>\n",
    "\n",
    "Let's start by importing all the library packages we will use and upload/view the dataset."
   ],
   "metadata": {
    "collapsed": false
   }
  },
  {
   "cell_type": "code",
   "execution_count": null,
   "outputs": [],
   "source": [
    "import numpy as np\n",
    "import pandas as pd\n",
    "import matplotlib.pyplot as plt\n",
    "import seaborn as sns\n",
    "\n",
    "df = pd.read_csv('Asylum applications in the EU.csv')"
   ],
   "metadata": {
    "collapsed": false
   }
  },
  {
   "cell_type": "code",
   "execution_count": null,
   "outputs": [],
   "source": [
    "df"
   ],
   "metadata": {
    "collapsed": false
   }
  },
  {
   "cell_type": "markdown",
   "source": [
    "1. Let's start by rearranging our dataframe so that we can see each country's total number of asylum applicants, average number of asylum applicants, and highest number of applicants throughout the entire years of the dataset. Hint: `.groupby()` function might help with this."
   ],
   "metadata": {
    "collapsed": false
   }
  },
  {
   "cell_type": "code",
   "execution_count": null,
   "outputs": [],
   "source": [],
   "metadata": {
    "collapsed": false
   }
  },
  {
   "cell_type": "markdown",
   "source": [
    "2. In the original DataFrame, create a new variable that calculates the ratio of asylum positive decisions by the total number of applicants per country, per year."
   ],
   "metadata": {
    "collapsed": false
   }
  },
  {
   "cell_type": "code",
   "execution_count": null,
   "outputs": [],
   "source": [],
   "metadata": {
    "collapsed": false
   }
  },
  {
   "cell_type": "markdown",
   "source": [
    "3. Create a copy of the original DataFrame so that you can subset it to include only four countries of your choice."
   ],
   "metadata": {
    "collapsed": false
   }
  },
  {
   "cell_type": "code",
   "execution_count": null,
   "outputs": [],
   "source": [],
   "metadata": {
    "collapsed": false
   }
  },
  {
   "cell_type": "markdown",
   "source": [
    "4. Plot the newly created ratio variable for all four countries across all years. Hint(s): you do not need to use the `datetime` for this; you might need to google 'seaborn hue argument options'."
   ],
   "metadata": {
    "collapsed": false
   }
  },
  {
   "cell_type": "code",
   "execution_count": null,
   "outputs": [],
   "source": [],
   "metadata": {
    "collapsed": false
   }
  }
 ],
 "metadata": {
  "kernelspec": {
   "display_name": "Python 3",
   "language": "python",
   "name": "python3"
  },
  "language_info": {
   "codemirror_mode": {
    "name": "ipython",
    "version": 2
   },
   "file_extension": ".py",
   "mimetype": "text/x-python",
   "name": "python",
   "nbconvert_exporter": "python",
   "pygments_lexer": "ipython2",
   "version": "2.7.6"
  }
 },
 "nbformat": 4,
 "nbformat_minor": 0
}

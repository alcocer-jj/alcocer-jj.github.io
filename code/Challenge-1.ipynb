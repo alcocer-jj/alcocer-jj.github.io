{
 "cells": [
  {
   "cell_type": "markdown",
   "source": [
    "<div align=\"center\">\n",
    "<h1>\n",
    "Python for Social Science Workshop - Challenge 1\n",
    "</h1>\n",
    "</div>\n",
    "<br />\n",
    "<div align=\"center\">\n",
    "<h3>\n",
    "Jose J Alcocer\n",
    "</h3>\n",
    "</div>\n",
    "<br />\n",
    "<div align=\"center\">\n",
    "<h4>\n",
    "April 11, 2023\n",
    "</h4>\n",
    "</div>"
   ],
   "metadata": {
    "collapsed": false
   }
  },
  {
   "cell_type": "markdown",
   "source": [
    "****"
   ],
   "metadata": {
    "collapsed": false
   }
  },
  {
   "cell_type": "markdown",
   "source": [
    "This mini challenge will test your ability to use some of the stuff you learned for the purpose of data handling and visualization. For this challenge, we will be using a dataset that contains information about asylum applications in the EU from 2011 to 2022. The data was collected and compiled from an interactive dashboard (link [here](https://anonyms.shinyapps.io/asylum/)) created by [D. Toshkov](https://www.dimiter.eu/) (2022). <br>\n",
    "\n",
    "<br>\n",
    "\n",
    "Let's start by importing all the library packages we will use and upload/view the dataset."
   ],
   "metadata": {
    "collapsed": false
   }
  },
  {
   "cell_type": "code",
   "execution_count": 1,
   "outputs": [],
   "source": [
    "import numpy as np\n",
    "import pandas as pd\n",
    "import matplotlib.pyplot as plt\n",
    "import seaborn as sns\n",
    "\n",
    "df = pd.read_csv('Asylum applications in the EU.csv')"
   ],
   "metadata": {
    "collapsed": false
   }
  },
  {
   "cell_type": "code",
   "execution_count": 2,
   "outputs": [
    {
     "data": {
      "text/plain": "     id      Country  Year  Asylum applicants  Asylum applicants per capita  \\\n0    AT      Austria  2011              14455                           173   \n1    BE      Belgium  2011              32270                           293   \n2    BG     Bulgaria  2011                890                            12   \n3    CH  Switzerland  2011              23880                           303   \n4    CY       Cyprus  2011               1770                           211   \n..   ..          ...   ...                ...                           ...   \n373  PT     Portugal  2022               2120                            20   \n374  RO      Romania  2022              12355                            65   \n375  SE       Sweden  2022              18640                           178   \n376  SI     Slovenia  2022               6785                           322   \n377  SK     Slovakia  2022                545                            10   \n\n     Asylum applicants per GDP  Asylum applicants (first instance)  \\\n0                           47                               14455   \n1                           86                               25585   \n2                           21                                 705   \n3                           46                               19445   \n4                           89                                1745   \n..                         ...                                 ...   \n373                          9                                1980   \n374                         43                               12065   \n375                         33                               14075   \n376                        115                                6645   \n377                          5                                 505   \n\n     Asylum applicants (first instance) per capita  \\\n0                                              173   \n1                                              233   \n2                                               10   \n3                                              247   \n4                                              208   \n..                                             ...   \n373                                             19   \n374                                             63   \n375                                            135   \n376                                            315   \n377                                              9   \n\n     Asylum applicants (first instance) per GDP  Total positive decisions  \\\n0                                            47                      4085   \n1                                            68                      5075   \n2                                            17                       190   \n3                                            38                      6445   \n4                                            88                        70   \n..                                          ...                       ...   \n373                                           8                       675   \n374                                          42                      1025   \n375                                          25                      3390   \n376                                         113                       205   \n377                                           5                        70   \n\n     Total positive decisions per capita  Total positive decisions per GDP  \\\n0                                     49                                13   \n1                                     46                                13   \n2                                      3                                 5   \n3                                     82                                12   \n4                                      8                                 4   \n..                                   ...                               ...   \n373                                    7                                 3   \n374                                    5                                 4   \n375                                   32                                 6   \n376                                   10                                 3   \n377                                    1                                 1   \n\n     Geneva Convention status grants  \\\n0                               2480   \n1                               3810   \n2                                 10   \n3                               3675   \n4                                 55   \n..                               ...   \n373                              615   \n374                              490   \n375                             2200   \n376                               40   \n377                               15   \n\n     Geneva Convention status grants per capita  \\\n0                                            30   \n1                                            35   \n2                                             0   \n3                                            47   \n4                                             7   \n..                                          ...   \n373                                           6   \n374                                           3   \n375                                          21   \n376                                           2   \n377                                           0   \n\n     Geneva Convention status grants per GDP  \n0                                          8  \n1                                         10  \n2                                          0  \n3                                          7  \n4                                          3  \n..                                       ...  \n373                                        3  \n374                                        2  \n375                                        4  \n376                                        1  \n377                                        0  \n\n[378 rows x 15 columns]",
      "text/html": "<div>\n<style scoped>\n    .dataframe tbody tr th:only-of-type {\n        vertical-align: middle;\n    }\n\n    .dataframe tbody tr th {\n        vertical-align: top;\n    }\n\n    .dataframe thead th {\n        text-align: right;\n    }\n</style>\n<table border=\"1\" class=\"dataframe\">\n  <thead>\n    <tr style=\"text-align: right;\">\n      <th></th>\n      <th>id</th>\n      <th>Country</th>\n      <th>Year</th>\n      <th>Asylum applicants</th>\n      <th>Asylum applicants per capita</th>\n      <th>Asylum applicants per GDP</th>\n      <th>Asylum applicants (first instance)</th>\n      <th>Asylum applicants (first instance) per capita</th>\n      <th>Asylum applicants (first instance) per GDP</th>\n      <th>Total positive decisions</th>\n      <th>Total positive decisions per capita</th>\n      <th>Total positive decisions per GDP</th>\n      <th>Geneva Convention status grants</th>\n      <th>Geneva Convention status grants per capita</th>\n      <th>Geneva Convention status grants per GDP</th>\n    </tr>\n  </thead>\n  <tbody>\n    <tr>\n      <th>0</th>\n      <td>AT</td>\n      <td>Austria</td>\n      <td>2011</td>\n      <td>14455</td>\n      <td>173</td>\n      <td>47</td>\n      <td>14455</td>\n      <td>173</td>\n      <td>47</td>\n      <td>4085</td>\n      <td>49</td>\n      <td>13</td>\n      <td>2480</td>\n      <td>30</td>\n      <td>8</td>\n    </tr>\n    <tr>\n      <th>1</th>\n      <td>BE</td>\n      <td>Belgium</td>\n      <td>2011</td>\n      <td>32270</td>\n      <td>293</td>\n      <td>86</td>\n      <td>25585</td>\n      <td>233</td>\n      <td>68</td>\n      <td>5075</td>\n      <td>46</td>\n      <td>13</td>\n      <td>3810</td>\n      <td>35</td>\n      <td>10</td>\n    </tr>\n    <tr>\n      <th>2</th>\n      <td>BG</td>\n      <td>Bulgaria</td>\n      <td>2011</td>\n      <td>890</td>\n      <td>12</td>\n      <td>21</td>\n      <td>705</td>\n      <td>10</td>\n      <td>17</td>\n      <td>190</td>\n      <td>3</td>\n      <td>5</td>\n      <td>10</td>\n      <td>0</td>\n      <td>0</td>\n    </tr>\n    <tr>\n      <th>3</th>\n      <td>CH</td>\n      <td>Switzerland</td>\n      <td>2011</td>\n      <td>23880</td>\n      <td>303</td>\n      <td>46</td>\n      <td>19445</td>\n      <td>247</td>\n      <td>38</td>\n      <td>6445</td>\n      <td>82</td>\n      <td>12</td>\n      <td>3675</td>\n      <td>47</td>\n      <td>7</td>\n    </tr>\n    <tr>\n      <th>4</th>\n      <td>CY</td>\n      <td>Cyprus</td>\n      <td>2011</td>\n      <td>1770</td>\n      <td>211</td>\n      <td>89</td>\n      <td>1745</td>\n      <td>208</td>\n      <td>88</td>\n      <td>70</td>\n      <td>8</td>\n      <td>4</td>\n      <td>55</td>\n      <td>7</td>\n      <td>3</td>\n    </tr>\n    <tr>\n      <th>...</th>\n      <td>...</td>\n      <td>...</td>\n      <td>...</td>\n      <td>...</td>\n      <td>...</td>\n      <td>...</td>\n      <td>...</td>\n      <td>...</td>\n      <td>...</td>\n      <td>...</td>\n      <td>...</td>\n      <td>...</td>\n      <td>...</td>\n      <td>...</td>\n      <td>...</td>\n    </tr>\n    <tr>\n      <th>373</th>\n      <td>PT</td>\n      <td>Portugal</td>\n      <td>2022</td>\n      <td>2120</td>\n      <td>20</td>\n      <td>9</td>\n      <td>1980</td>\n      <td>19</td>\n      <td>8</td>\n      <td>675</td>\n      <td>7</td>\n      <td>3</td>\n      <td>615</td>\n      <td>6</td>\n      <td>3</td>\n    </tr>\n    <tr>\n      <th>374</th>\n      <td>RO</td>\n      <td>Romania</td>\n      <td>2022</td>\n      <td>12355</td>\n      <td>65</td>\n      <td>43</td>\n      <td>12065</td>\n      <td>63</td>\n      <td>42</td>\n      <td>1025</td>\n      <td>5</td>\n      <td>4</td>\n      <td>490</td>\n      <td>3</td>\n      <td>2</td>\n    </tr>\n    <tr>\n      <th>375</th>\n      <td>SE</td>\n      <td>Sweden</td>\n      <td>2022</td>\n      <td>18640</td>\n      <td>178</td>\n      <td>33</td>\n      <td>14075</td>\n      <td>135</td>\n      <td>25</td>\n      <td>3390</td>\n      <td>32</td>\n      <td>6</td>\n      <td>2200</td>\n      <td>21</td>\n      <td>4</td>\n    </tr>\n    <tr>\n      <th>376</th>\n      <td>SI</td>\n      <td>Slovenia</td>\n      <td>2022</td>\n      <td>6785</td>\n      <td>322</td>\n      <td>115</td>\n      <td>6645</td>\n      <td>315</td>\n      <td>113</td>\n      <td>205</td>\n      <td>10</td>\n      <td>3</td>\n      <td>40</td>\n      <td>2</td>\n      <td>1</td>\n    </tr>\n    <tr>\n      <th>377</th>\n      <td>SK</td>\n      <td>Slovakia</td>\n      <td>2022</td>\n      <td>545</td>\n      <td>10</td>\n      <td>5</td>\n      <td>505</td>\n      <td>9</td>\n      <td>5</td>\n      <td>70</td>\n      <td>1</td>\n      <td>1</td>\n      <td>15</td>\n      <td>0</td>\n      <td>0</td>\n    </tr>\n  </tbody>\n</table>\n<p>378 rows × 15 columns</p>\n</div>"
     },
     "execution_count": 2,
     "metadata": {},
     "output_type": "execute_result"
    }
   ],
   "source": [
    "df"
   ],
   "metadata": {
    "collapsed": false
   }
  },
  {
   "cell_type": "markdown",
   "source": [
    "1. Let's start by rearranging our dataframe so that we can see each country's total number of asylum applicants, average number of asylum applicants, and highest number of applicants throughout the entire years of the dataset. Hint: `.groupby()` function might help with this."
   ],
   "metadata": {
    "collapsed": false
   }
  },
  {
   "cell_type": "code",
   "execution_count": null,
   "outputs": [],
   "source": [],
   "metadata": {
    "collapsed": false
   }
  },
  {
   "cell_type": "markdown",
   "source": [
    "2. In the original DataFrame, create a new variable that calculates the ratio of asylum positive decisions by the total number of applicants per country, per year."
   ],
   "metadata": {
    "collapsed": false
   }
  },
  {
   "cell_type": "code",
   "execution_count": null,
   "outputs": [],
   "source": [],
   "metadata": {
    "collapsed": false
   }
  },
  {
   "cell_type": "markdown",
   "source": [
    "3. Create a copy of the original DataFrame so that you can subset it to include only four countries of your choice."
   ],
   "metadata": {
    "collapsed": false
   }
  },
  {
   "cell_type": "code",
   "execution_count": null,
   "outputs": [],
   "source": [],
   "metadata": {
    "collapsed": false
   }
  },
  {
   "cell_type": "markdown",
   "source": [
    "4. Plot the newly created ratio variable for all four countries across all years. Hint(s): you do not need to use the `datetime` for this; you might need to google 'seaborn hue argument options'."
   ],
   "metadata": {
    "collapsed": false
   }
  },
  {
   "cell_type": "code",
   "execution_count": null,
   "outputs": [],
   "source": [],
   "metadata": {
    "collapsed": false
   }
  }
 ],
 "metadata": {
  "kernelspec": {
   "display_name": "Python 3",
   "language": "python",
   "name": "python3"
  },
  "language_info": {
   "codemirror_mode": {
    "name": "ipython",
    "version": 2
   },
   "file_extension": ".py",
   "mimetype": "text/x-python",
   "name": "python",
   "nbconvert_exporter": "python",
   "pygments_lexer": "ipython2",
   "version": "2.7.6"
  }
 },
 "nbformat": 4,
 "nbformat_minor": 0
}

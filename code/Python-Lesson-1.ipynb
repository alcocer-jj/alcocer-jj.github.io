{
 "cells": [
  {
   "cell_type": "markdown",
   "metadata": {},
   "source": [
    "<div align=\"center\">\n",
    "    <h1>\n",
    "        Python for Social Science Workshop - Lesson 1\n",
    "    </h1>\n",
    "</div>\n",
    "<br />\n",
    "<div align=\"center\">\n",
    "    <h3>\n",
    "        Jose J Alcocer\n",
    "      </h3>\n",
    "</div>\n",
    "<br />\n",
    "<div align=\"center\">\n",
    "    <h4>\n",
    "        April 4, 2023\n",
    "      </h4>\n",
    "</div>"
   ]
  },
  {
   "cell_type": "markdown",
   "metadata": {},
   "source": [
    "***"
   ]
  },
  {
   "cell_type": "markdown",
   "metadata": {},
   "source": [
    "# Intro to Python and Its Workspace <br>\n",
    "\n",
    "<br>\n",
    "\n",
    "## 1.0 Setting up the environment <br>\n",
    "Like R, Python can be used with a variety of Integrated Development Environments (IDEs), mainly dependent on what you are using Python for. Because we will be using Python for Data Science, we will be using the  __[`DataSpell`](https://www.jetbrains.com/dataspell/)__ IDE from JetBrains. Released in 2021 by the company, this IDE was designed specifically for exploratory data analysis by combining interactivity of Jupyter notebooks (A very popular web-based application for programming in Python that is as closest to an R Markdown as it can get) and coding assistance similar to PyCharm (An IDE mainly used for professional web development) and RStudio. <br>\n",
    "The big advantages of using DataSpell over the conventional Anaconda Distribution platform (You can learn more about Anaconda [here](https://blog.hubspot.com/website/anaconda-python)) can be summarized as: <br>\n",
    "* Having support for Jupyter notebooks with the addition of coding assistance; <br>\n",
    "* Having data view access (similar to RStudio's dataframe viewing experiences); <br>\n",
    "* Having a more streamlined process to open a Jupyter notebook (Using Anaconda takes longer & slower steps); <br>\n",
    "* Having R script compatibility (Even though we will not be using it for R because RStudio is undefeated) <br>\n",
    "\n",
    "DataSpell is offered for free to university students, so as part of today's agenda, we will be downloading it, setting it up, and taking a quick tutorial on it before getting down to the Python basics. The following section outlines the steps for this activity. <br>\n",
    "1. Download Anaconda using this [link](https://www.anaconda.com/products/distribution) followed by installing it to your computer.\n",
    "2. Apply for JetBrain's educational license [here](https://www.jetbrains.com/shop/eform/students) by filling out the web form.\n",
    "2. Wait for email confirmation to continue setting up JetBrain account via email.\n",
    "3. Download and install DataSpell program from product pack.\n",
    "4. Upon opening DataSpell for the first time, complete quick tutorial given by the program. <br>\n",
    "\n",
    "<br>\n",
    "\n",
    "## 1.0.1 Navigating the Jupyter Notebook Environment <br>\n",
    "\n",
    "When creating a new file, you can either create a python script, or a Jupyter notebook. For the purposes of this workshop, we will work within the confines of a Jupyter notebook. As a result, it is important to become familiar with shortcuts that will make your time more bearable when programming in Python. <br>\n",
    "\n",
    "The following is a shortcut guide meant to give you some insight on the key strokes you can use to navigate across a notebook. <br>\n",
    "\n",
    "There are blank cells created below for purpose of trying some of the key strokes out. <br>\n",
    "\n",
    "- Use the escape key (esc, top left of the keyboard) to go to *edit mode* from command mode. If the color to the left of the cell is *blue*, you're in edit mode.\n",
    "    + Use the ↑ and ↓ keys to navigate from cell to cell\n",
    "    + Use the \"M\" key to turn a code cell into a markdown cell\n",
    "    + Use the \"Y\" key to turn a markdown cell into a code cell\n",
    "    + Use the \"A\" and \"B\" keys to insert blank cells above and below your current location\n",
    "    + Use the \"C\" and \"V\" keys to copy and paste cells\n",
    "    + Press \"D\" twice to delete a cell\n",
    "    + Press Shift-M to merge two cells into one cell\n",
    "- Use the enter / return key to go to *command mode* from edit mode. If the color to the left of the cell is *green*, you're in edit mode.\n",
    "    + Enter some text in a code cell\n",
    "    + Enter some text in a Markdown cell\n",
    "- In either mode, use Ctrl-enter to render the result of either type of cell."
   ]
  },
  {
   "cell_type": "code",
   "execution_count": null,
   "metadata": {},
   "outputs": [],
   "source": []
  },
  {
   "cell_type": "code",
   "execution_count": null,
   "metadata": {},
   "outputs": [],
   "source": []
  },
  {
   "cell_type": "code",
   "execution_count": null,
   "metadata": {},
   "outputs": [],
   "source": []
  },
  {
   "cell_type": "code",
   "execution_count": null,
   "metadata": {},
   "outputs": [],
   "source": []
  },
  {
   "cell_type": "markdown",
   "metadata": {},
   "source": [
    "## 1.1 Coding Basics <br>\n",
    "\n",
    "Like in R, Python has similar data types and building blocks necessary for computing more intensive tasks. This section will cover a few of those basic types of commands."
   ]
  },
  {
   "cell_type": "markdown",
   "metadata": {},
   "source": [
    "### 1.1.1 Numeric Object Creation and Arithmetic Operators <br>\n",
    "\n",
    "Like in R, Python allows us to assign a range of values to objects, which can then be used to perform a wide set of operations. In this section, we will go over basic object creation and basic arithmetic operations that can be done. <br>\n",
    "\n",
    "While in R, you can create an object using the `<-` or `=` operators, here, you can only use the latter method to create an object. You can, however, continue to use the `#` to make notes within your lines of code. For example:"
   ]
  },
  {
   "cell_type": "code",
   "execution_count": 1,
   "metadata": {},
   "outputs": [],
   "source": [
    "import sys\n",
    "\n",
    "# Creating basic integer objects\n",
    "A = 5\n",
    "B = 10\n",
    "C = 30"
   ]
  },
  {
   "cell_type": "markdown",
   "metadata": {},
   "source": [
    "Objects created will be stored for viewing in the 'Jupyter Variables' window that can be accessed by clicking on the bottom right tab that also says 'Jupyter Variables'. <br>\n",
    "\n",
    "<br>\n",
    "\n",
    "Like in R, you can call objects by either using the `print()` function or simply typing out the object name."
   ]
  },
  {
   "cell_type": "code",
   "execution_count": 2,
   "metadata": {},
   "outputs": [
    {
     "name": "stdout",
     "output_type": "stream",
     "text": [
      "5\n"
     ]
    }
   ],
   "source": [
    "# Using print function\n",
    "print(A)"
   ]
  },
  {
   "cell_type": "code",
   "execution_count": 3,
   "metadata": {},
   "outputs": [
    {
     "data": {
      "text/plain": "5"
     },
     "execution_count": 3,
     "metadata": {},
     "output_type": "execute_result"
    }
   ],
   "source": [
    "# Simply calling the object\n",
    "A"
   ]
  },
  {
   "cell_type": "markdown",
   "metadata": {},
   "source": [
    "We are able to use several arithmetic operators within Python. Using the objects created above, we will execute some of commonly used ones."
   ]
  },
  {
   "cell_type": "code",
   "execution_count": 6,
   "metadata": {},
   "outputs": [
    {
     "data": {
      "text/plain": [
       "45"
      ]
     },
     "execution_count": 6,
     "metadata": {},
     "output_type": "execute_result"
    }
   ],
   "source": [
    "# Addition\n",
    "A+B+C\n"
   ]
  },
  {
   "cell_type": "code",
   "execution_count": 7,
   "metadata": {},
   "outputs": [
    {
     "data": {
      "text/plain": [
       "20"
      ]
     },
     "execution_count": 7,
     "metadata": {},
     "output_type": "execute_result"
    }
   ],
   "source": [
    "# Subtraction\n",
    "C-B\n"
   ]
  },
  {
   "cell_type": "code",
   "execution_count": 8,
   "metadata": {},
   "outputs": [
    {
     "data": {
      "text/plain": [
       "1500"
      ]
     },
     "execution_count": 8,
     "metadata": {},
     "output_type": "execute_result"
    }
   ],
   "source": [
    "# Multiplication\n",
    "A*B*C\n"
   ]
  },
  {
   "cell_type": "code",
   "execution_count": 10,
   "metadata": {},
   "outputs": [
    {
     "data": {
      "text/plain": [
       "3125"
      ]
     },
     "execution_count": 10,
     "metadata": {},
     "output_type": "execute_result"
    }
   ],
   "source": [
    "# Exponentiation\n",
    "A**A"
   ]
  },
  {
   "cell_type": "code",
   "execution_count": 9,
   "metadata": {},
   "outputs": [
    {
     "data": {
      "text/plain": [
       "6.0"
      ]
     },
     "execution_count": 9,
     "metadata": {},
     "output_type": "execute_result"
    }
   ],
   "source": [
    "# Division\n",
    "C/A"
   ]
  },
  {
   "cell_type": "markdown",
   "metadata": {},
   "source": [
    "Dividing will always produce a floating value (i.e., number with decimals or scientific notation). If you want to produce a scalar integer (e.g., number without decimals or scientific notation), you can use the floor division operator `//`."
   ]
  },
  {
   "cell_type": "code",
   "execution_count": 11,
   "metadata": {},
   "outputs": [
    {
     "data": {
      "text/plain": [
       "6"
      ]
     },
     "execution_count": 11,
     "metadata": {},
     "output_type": "execute_result"
    }
   ],
   "source": [
    "C//A"
   ]
  },
  {
   "cell_type": "markdown",
   "metadata": {},
   "source": [
    "If you want to convert a floating variable or a string into an integer, you can use the `int()` function. You can use the `type()` function to determine the type (or class for Python's lingo) of object your variable is. Alternatively, you can see the class of the object in the Jupyter Variables window as well."
   ]
  },
  {
   "cell_type": "code",
   "execution_count": 15,
   "metadata": {},
   "outputs": [
    {
     "name": "stdout",
     "output_type": "stream",
     "text": [
      "<class 'float'>\n"
     ]
    },
    {
     "data": {
      "text/plain": [
       "6"
      ]
     },
     "execution_count": 15,
     "metadata": {},
     "output_type": "execute_result"
    }
   ],
   "source": [
    "D = 6.88889\n",
    "\n",
    "# Using `type()` to show it is a float\n",
    "print(type(D))\n",
    "\n",
    "int(D)"
   ]
  },
  {
   "cell_type": "markdown",
   "metadata": {},
   "source": [
    "We use the `print()` function so that both outputs could be displayed above. If you do not use print when wanting to see multiple outputs, the cell will only display to you the last function it executed. <br>\n",
    "\n",
    "<br>\n",
    "\n",
    "Conversely, you can also use the `str()` function to convert an integer into a string (i.e., text or characters)"
   ]
  },
  {
   "cell_type": "code",
   "execution_count": 18,
   "metadata": {},
   "outputs": [
    {
     "data": {
      "text/plain": [
       "str"
      ]
     },
     "execution_count": 18,
     "metadata": {},
     "output_type": "execute_result"
    }
   ],
   "source": [
    "str(D)\n",
    "\n",
    "# Like R, you can chain functions inside each other to save space\n",
    "type(str(D))"
   ]
  },
  {
   "cell_type": "markdown",
   "metadata": {},
   "source": [
    "### 1.1.2. Strings and Character Object Creation <br>\n",
    "\n",
    "Operations with strings in Python work slightly different than in R. Unlike in R, where you cannot use any arithmetic operators with string type objects, you are able to use the multiplication operator in Python. For example:"
   ]
  },
  {
   "cell_type": "code",
   "execution_count": 23,
   "metadata": {},
   "outputs": [
    {
     "data": {
      "text/plain": [
       "'HelloHelloHelloHelloHelloHelloHello'"
      ]
     },
     "execution_count": 23,
     "metadata": {},
     "output_type": "execute_result"
    }
   ],
   "source": [
    "E = 'Hello'\n",
    "\n",
    "E*7"
   ]
  },
  {
   "cell_type": "markdown",
   "metadata": {},
   "source": [
    "As you can see, Python interprets the operation of multiplication as an order to repeat the text stored in the object 'E', seven times. <br>\n",
    "\n",
    "<br>\n",
    "\n",
    "You can also concatenate string objects together with the addition operator."
   ]
  },
  {
   "cell_type": "code",
   "execution_count": 28,
   "metadata": {},
   "outputs": [
    {
     "name": "stdout",
     "output_type": "stream",
     "text": [
      "PythonWorskshop\n",
      "Python Worskshop\n"
     ]
    }
   ],
   "source": [
    "# Not accounting for space\n",
    "print('Python'+'Worskshop')\n",
    "\n",
    "# Accounting for space\n",
    "print('Python '+'Worskshop')"
   ]
  },
  {
   "cell_type": "markdown",
   "metadata": {},
   "source": [
    "### 1.1.3 Boolean Objects and Operators <br>\n",
    "\n",
    "Python can also use Boolean operations, which is a tool used to check for truth or falsity of created boolean variables (variables that take on either the value of TRUE OR FALSE). The `and` operator checks both objects to make sure they are deemed 'TRUE' and only if they are true, you will receive a 'TRUE' output. `or`, on the otherhand, checks to make sure that at least one object of the two is deemed 'TRUE', and if at least one of them is 'TRUE', you will receive a 'TRUE' output. For example:"
   ]
  },
  {
   "cell_type": "code",
   "execution_count": 30,
   "metadata": {},
   "outputs": [
    {
     "name": "stdout",
     "output_type": "stream",
     "text": [
      "False\n",
      "True\n",
      "True\n"
     ]
    }
   ],
   "source": [
    "variable1 = True\n",
    "variable2 = False\n",
    "\n",
    "# Checking to see if both booleans are true\n",
    "print(variable1 and variable2)\n",
    "# Checking to see if at least one boolean is true\n",
    "print(variable1 or variable2)\n",
    "\n",
    "variable3 = True\n",
    "\n",
    "# We should get an output of 'True' here\n",
    "print(variable1 and variable3)"
   ]
  },
  {
   "cell_type": "markdown",
   "metadata": {},
   "source": [
    "Booleans are also used for comparison operators, such as `>` (greater than), `<` (less than), `>=` (greater than or equal), `<=` (less than or equal), and `==` (equal to)."
   ]
  },
  {
   "cell_type": "code",
   "execution_count": 33,
   "metadata": {},
   "outputs": [
    {
     "name": "stdout",
     "output_type": "stream",
     "text": [
      "True\n",
      "False\n",
      "False\n"
     ]
    }
   ],
   "source": [
    "print(5>2)\n",
    "print(2>5)\n",
    "print(5==2)"
   ]
  },
  {
   "cell_type": "markdown",
   "metadata": {},
   "source": [
    "## 1.2 Multiple Values in Objects (Like Vectors for Python) - Tuples, Lists, and Dictionaries <br>\n",
    "\n",
    "Like in R, it is possible to store multiple values within a single object. These vectors come in different forms, depending on what you want to use them for. In a gist, these types of vectors are: <br>\n",
    "\n",
    "* Tuples - An ordered heterogeneous data-type vector that _is not_ mutable ;\n",
    "* List - An ordered heterogeneous data-type vector that _is_ mutable;\n",
    "* Dictionary - a collection of stored keys values that map a key to a specific value <br>\n",
    "\n",
    "### 1.2.1 Tuples and Lists <br>\n",
    "\n",
    "We will first discuss tuples and lists, as they are very similar in nature with one few key distinction. Tuples and Lists are similar in the following way:  <br>\n",
    "1. They can both store different types of data (e.g., you can store integers, characters, and floaters in either a tuple or list);\n",
    "2. They are both ordered means, meaning the order in which you create them, they are kept;\n",
    "3. They are both sequential data types, so they can be used to iterate over each observation;\n",
    "4. They can both be accessed via indexing <br>\n",
    "\n",
    "The only distinction between both of these data type vectors is that tuples are not able to be changed, whereas lists are. In the context of Python, a tuple is an immutable vector, which basically means that no observation within it can be modified.  <br>\n",
    "\n",
    "_Why is this important and when should you use tuples over lists or vice versa?_ <br>\n",
    "\n",
    "It all comes down to memory and time efficiency. Because lists are mutable, Python allocates an additional amount of memory block to allow it to be changed at any time. As a result, lists take up a bit more memory space than tuples. How does this affect the time component? Because of this extra memory block, indexing parts of a list can take slightly longer than if you tried to find observations in a tuple. Realistically, while there are some memory and time differences, the gap between them can either be small or large depending on the kind of data you are working with. The following code is meant to demonstrate these principles."
   ]
  },
  {
   "cell_type": "code",
   "execution_count": 4,
   "metadata": {},
   "outputs": [
    {
     "name": "stdout",
     "output_type": "stream",
     "text": [
      "32040 bytes of memory for the tuple object\n",
      "32056 bytes of memory for the list object\n",
      "Lookup time for tuple:  0.00044989585876464844\n",
      "Lookup time for list:  0.00036215782165527344\n"
     ]
    }
   ],
   "source": [
    "### The first set of code is meant to compare how much memo\n",
    "\n",
    "## Generating data for a tuple | Tuples are created by using parentheses `()` when creating an object or by using the `tuple()` function when creating an object\n",
    "# importing random and sys packages to help us generate n values and get system information\n",
    "import random\n",
    "import time\n",
    "\n",
    "random.seed(4)\n",
    "tuple1 = tuple(random.sample(range(1,5000),4000))\n",
    "\n",
    "## Generating data for a list | Lists are created by using the brackets `[]` when creating an object or by using the `list()` function alike\n",
    "random.seed(4)\n",
    "list1 = list(random.sample(range(1,5000),4000))\n",
    "\n",
    "## Getting memory sizes of the tuple and list\n",
    "print(sys.getsizeof(tuple1), 'bytes of memory for the tuple object')\n",
    "print(sys.getsizeof(list1), 'bytes of memory for the list object')\n",
    "\n",
    "## Getting system time data for indexing the tuple and list\n",
    "start_time = time.time()\n",
    "for item in tuple1 :\n",
    "    aa = tuple1[3999]\n",
    "end_time = time.time()\n",
    "print(\"Lookup time for tuple: \", end_time - start_time)\n",
    "\n",
    "start_time = time.time()\n",
    "for item in list1 :\n",
    "    aa = list1[3999]\n",
    "end_time = time.time()\n",
    "print(\"Lookup time for list: \", end_time - start_time)"
   ]
  },
  {
   "cell_type": "markdown",
   "metadata": {},
   "source": [
    "With the code above, we can see how while there are differences, they are minimal in this example. <br>\n",
    "\n",
    "<br>\n",
    "\n",
    "The following code snippet is meant to show in a more simple way how to create both of these vectors."
   ]
  },
  {
   "cell_type": "code",
   "execution_count": 5,
   "metadata": {},
   "outputs": [
    {
     "name": "stdout",
     "output_type": "stream",
     "text": [
      "<class 'tuple'>\n",
      "<class 'list'>\n"
     ]
    }
   ],
   "source": [
    "# Creating a tuple\n",
    "tuple2 = (1,2,3.3,'A','B','C',True)\n",
    "print(type(tuple2))\n",
    "# Creating a list\n",
    "list2 = [1,2,3.3,'A','B','C', True]\n",
    "print(type(list2))"
   ]
  },
  {
   "cell_type": "markdown",
   "metadata": {},
   "source": [
    "### 1.2.2 Indexing, Slicing (Subsetting in R), and Mutating <br>\n",
    "\n",
    "Like in R, we can index specific observations from both a tuple or list. We do this with the `[]` operator. Unlike R that begins counting at 1, Python's system starts at 0, so it is important to keep this in mind when wanting to index an object."
   ]
  },
  {
   "cell_type": "code",
   "execution_count": 6,
   "metadata": {},
   "outputs": [
    {
     "name": "stdout",
     "output_type": "stream",
     "text": [
      "A\n",
      "True\n"
     ]
    }
   ],
   "source": [
    "# Indexing 4th observation from tuple\n",
    "print(tuple2[3])\n",
    "\n",
    "# Indexing 7th observation from list\n",
    "print(list2[6])"
   ]
  },
  {
   "cell_type": "markdown",
   "metadata": {},
   "source": [
    "We can take it step further and subset specific observations from either of these objects via 'slicing'. This is done by using the following syntax: 'list[x:y]', where you tell Python to grab the the observations that start from x  all the way up to (but not include) y. For example:"
   ]
  },
  {
   "cell_type": "code",
   "execution_count": 88,
   "metadata": {},
   "outputs": [
    {
     "name": "stdout",
     "output_type": "stream",
     "text": [
      "[1, 2, 3.3]\n",
      "['A', 'B', 'C', True]\n"
     ]
    }
   ],
   "source": [
    "# Slicing list to get the values that range from 1 all the way up to 3.3 only\n",
    "print(list2[0:3])\n",
    "\n",
    "# Slicing list to get all the values that start at A and go to the end\n",
    "print(list2[3:])"
   ]
  },
  {
   "cell_type": "markdown",
   "metadata": {},
   "source": [
    "As mentioned above, the main difference between tuples and lists is that only a list can be changed. We can change the content of a list by indexing the position we want and assigning it a new value. This called 'Mutating'."
   ]
  },
  {
   "cell_type": "code",
   "execution_count": 91,
   "metadata": {},
   "outputs": [
    {
     "name": "stdout",
     "output_type": "stream",
     "text": [
      "[1, 2, 3.3, 'A', 'B', 'C', True]\n"
     ]
    },
    {
     "data": {
      "text/plain": [
       "[1, 2, 3.3, 'J', 'B', 'C', True]"
      ]
     },
     "execution_count": 91,
     "metadata": {},
     "output_type": "execute_result"
    }
   ],
   "source": [
    "# Showing original list\n",
    "print(list2)\n",
    "\n",
    "# Mutating list by changing the 4th observation (A) to a new letter (J)\n",
    "list2[3] = 'J'\n",
    "list2"
   ]
  },
  {
   "cell_type": "markdown",
   "metadata": {},
   "source": [
    "### 1.2.3 Dictionaries <br>\n",
    "\n",
    "Now that we covered tuples and list, we can talk about Dictionaries. Dictionaries, while similar to Lists, follow a numeric index where each element is assigned a key. That key will then be tied to the corresponding index and element assigned. Dictionaries can be created either with the `dict()` function or by creating an object and using braces '{}'. The following are examples showing both methods."
   ]
  },
  {
   "cell_type": "code",
   "execution_count": 97,
   "metadata": {},
   "outputs": [
    {
     "name": "stdout",
     "output_type": "stream",
     "text": [
      "{'One': '1', 'Two': 2, 'Three': '3', 'Four': 4, 'Five': '5', 'Apple': True}\n",
      "{'One': '1', 'Two': 2, 'Three': '3', 'Four': 4, 'Five': '5', 'Apple': True}\n"
     ]
    }
   ],
   "source": [
    "# Crating a dictionary using `dict()` function\n",
    "dictionary1 = dict(One='1', Two=2, Three='3', Four=4, Five='5', Apple=True)\n",
    "print(dictionary1)\n",
    "\n",
    "# Creating a dictionary using object creation and braces\n",
    "dictionary2 = {'One':'1', 'Two':2, 'Three':'3', 'Four':4, 'Five':'5', 'Apple':True}\n",
    "print(dictionary2)"
   ]
  },
  {
   "cell_type": "markdown",
   "metadata": {},
   "source": [
    "Like indexing tuples and lists, you can index a dictionary using the same '[]' operator and typing the exact name of the key."
   ]
  },
  {
   "cell_type": "code",
   "execution_count": 102,
   "metadata": {},
   "outputs": [
    {
     "name": "stdout",
     "output_type": "stream",
     "text": [
      "4\n"
     ]
    },
    {
     "data": {
      "text/plain": [
       "True"
      ]
     },
     "execution_count": 102,
     "metadata": {},
     "output_type": "execute_result"
    }
   ],
   "source": [
    "# Indexing particular keys from dictionary1\n",
    "print(dictionary1['Four'])\n",
    "dictionary1['Apple']"
   ]
  },
  {
   "cell_type": "markdown",
   "metadata": {},
   "source": [
    "## 1.3 Functions <br>\n",
    "\n",
    "We have been using a variety of functions throughout this lesson to get Python to perform a set of operations. Functions are essentially instructions that the computer takes through arguments in order to produce a desired result. Similar to R, we can use integrated functions or we can create our own set of functions. <br>\n",
    "\n",
    "<br>\n",
    "\n",
    "### 1.3.1 Common integrated Python functions <br>\n",
    "\n",
    "The following chunk of code demonstrates some functions that can assist your programming in Python. In addition, the link [here](https://www.w3schools.com/python/python_ref_functions.asp) showcases a list of built-in python functions available to its users.\n"
   ]
  },
  {
   "cell_type": "code",
   "execution_count": 114,
   "metadata": {},
   "outputs": [
    {
     "name": "stdout",
     "output_type": "stream",
     "text": [
      "4000\n",
      "3.14\n",
      "4999\n",
      "2\n",
      "21\n",
      "<class 'tuple'>\n",
      "<class 'list'>\n",
      "<class 'tuple'>\n"
     ]
    }
   ],
   "source": [
    "# The `len()` function tells you the length of an object\n",
    "# Using len() to find the length of 'list1' created earlier\n",
    "print(len(list1))\n",
    "\n",
    "# 'round()' function rounds a desired number to the place that you'd like\n",
    "print(round(3.14159265359, 2))\n",
    "\n",
    "# 'max()' function returns the largest value of an object\n",
    "print(max(list1))\n",
    "\n",
    "# 'min()' function returns the smallest value of an object\n",
    "print(min(list1))\n",
    "\n",
    "# 'sum()' function calculates the sum of all values found within an object\n",
    "list4 = [1,2,3,4,5,6]\n",
    "print(sum(list4))\n",
    "\n",
    "# 'list()' function converts an object into a list\n",
    "tuple3 = (1,2,3,4,5,6,7,8,9,10)\n",
    "print(type(tuple3))\n",
    "list3 = list(tuple3)\n",
    "print(type(list3))\n",
    "\n",
    "# `tuple()` function does the same but the opposite\n",
    "tuple4 = tuple(list3)\n",
    "print(type(tuple4))"
   ]
  },
  {
   "cell_type": "markdown",
   "metadata": {},
   "source": [
    "### 1.3.2 Creating Function <br>\n",
    "\n",
    "Creating functions can be very straight forward and they can be combined with multiple operators and arguments depending on what your desired outcome is. For a basic example, we will be creating a function that calculates the mean of a number it is given."
   ]
  },
  {
   "cell_type": "code",
   "execution_count": 7,
   "metadata": {},
   "outputs": [
    {
     "name": "stdout",
     "output_type": "stream",
     "text": [
      "2499.2215\n"
     ]
    }
   ],
   "source": [
    "# Defining a function that takes the mean of a list\n",
    "def function1(X):\n",
    "    entire_sum = sum(X)\n",
    "    entire_length = len(X)\n",
    "    mean = entire_sum/entire_length\n",
    "    print(mean)\n",
    "\n",
    "\n",
    "function1(list1)\n",
    "\n"
   ]
  },
  {
   "cell_type": "markdown",
   "metadata": {},
   "source": [
    "## 1.3 Libraries (Like Packages in R) <br>\n",
    "\n",
    "While we created a function to calculate the mean above, there are already packages that exist that contain functions that allow us to do this and many other operations. These packages are called libraries in Python and they are downloaded to your workspace by using the `import` command. Depending on the library name, you can import it and assigned it a shorthand name to avoid having to spell out the entire name of the library to use it. In the following examples, you can see how we will use the `import` function, then add the \"as 'x'\" argument right after so that Python stores that library as the shorthand name assigned."
   ]
  },
  {
   "cell_type": "code",
   "execution_count": 117,
   "metadata": {},
   "outputs": [],
   "source": [
    "# Importing packages that will be used for the next lesson\n",
    "import pandas as pd\n",
    "import numpy as np\n",
    "\n",
    "# Importing package that can calculate statistical operations such as finding the mean of an object\n",
    "import statistics as st"
   ]
  },
  {
   "cell_type": "markdown",
   "metadata": {},
   "source": [
    "From this point, you can use the library imported to conduct operations of interest. In this case, we will use the `mean()` function from the 'statistics' package to find the mean of 'list1'"
   ]
  },
  {
   "cell_type": "code",
   "execution_count": 118,
   "metadata": {},
   "outputs": [
    {
     "data": {
      "text/plain": [
       "2499.2215"
      ]
     },
     "execution_count": 118,
     "metadata": {},
     "output_type": "execute_result"
    }
   ],
   "source": [
    "st.mean(list1)"
   ]
  },
  {
   "cell_type": "markdown",
   "metadata": {},
   "source": [
    "You must use the library name or its shorthand everytime in order to perform the desired operation or else Python will not know what function you are referring to."
   ]
  }
 ],
 "metadata": {
  "kernelspec": {
   "display_name": "Python 3 (ipykernel)",
   "language": "python",
   "name": "python3"
  },
  "language_info": {
   "codemirror_mode": {
    "name": "ipython",
    "version": 3
   },
   "file_extension": ".py",
   "mimetype": "text/x-python",
   "name": "python",
   "nbconvert_exporter": "python",
   "pygments_lexer": "ipython3",
   "version": "3.9.13"
  }
 },
 "nbformat": 4,
 "nbformat_minor": 1
}

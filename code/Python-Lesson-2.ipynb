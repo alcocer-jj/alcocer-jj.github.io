{
 "cells": [
  {
   "cell_type": "markdown",
   "metadata": {},
   "source": [
    "<div align=\"center\">\n",
    "<h1>\n",
    "Python for Social Science Workshop - Lesson 2\n",
    "</h1>\n",
    "</div>\n",
    "<br />\n",
    "<div align=\"center\">\n",
    "<h3>\n",
    "Jose J Alcocer\n",
    "</h3>\n",
    "</div>\n",
    "<br />\n",
    "<div align=\"center\">\n",
    "<h4>\n",
    "April 11, 2023\n",
    "</h4>\n",
    "</div>"
   ]
  },
  {
   "cell_type": "markdown",
   "source": [
    "****"
   ],
   "metadata": {
    "collapsed": false
   }
  },
  {
   "cell_type": "markdown",
   "metadata": {},
   "source": [
    "# Working With NumPy, Pandas, Matplot, and Seaborn <br>\n",
    "\n",
    "<br>\n",
    "\n",
    "## 1.0 Setting up the environment <br>\n",
    "This lesson will be dense, as we will cover the most basic libraries and functions that are building blocks of the work we do as social scientists. Let's begin this lesson by importing the proper libraries we will be using throughout the document."
   ]
  },
  {
   "cell_type": "code",
   "execution_count": 1,
   "metadata": {},
   "outputs": [],
   "source": [
    "import numpy as np\n",
    "import pandas as pd\n",
    "import random"
   ]
  },
  {
   "cell_type": "markdown",
   "metadata": {},
   "source": [
    "## 1.1 Loops and Conditional Statements <br>\n",
    "\n",
    "Like in R, Python is able to handle several types of loops and conditional statements, which allow us to automate tasks and create more efficient code. <br>\n",
    "\n",
    "<br>\n",
    "\n",
    "### 1.1.1 For Loops <br>\n",
    "\n",
    "With loops, it is possible to iterate over lists or a range of numbers alike to automate a task. We can see a few of these examples below."
   ]
  },
  {
   "cell_type": "code",
   "execution_count": 4,
   "metadata": {},
   "outputs": [
    {
     "name": "stdout",
     "output_type": "stream",
     "text": [
      "I like to eat Apples.\n",
      "I like to eat Bananas.\n",
      "I like to eat Oranges.\n",
      "I like to eat Pears.\n",
      "I like to eat Pineapples.\n",
      "I like to eat Mangoes.\n",
      "I like to eat Grapefruits.\n",
      "I like to eat Cantaloupes.\n"
     ]
    }
   ],
   "source": [
    "# For loop using a list we create within the loop\n",
    "for x in ['Apples','Bananas','Oranges','Pears','Pineapples','Mangoes','Grapefruits','Cantaloupes']:\n",
    "    print('I like to eat '+x +'.')"
   ]
  },
  {
   "cell_type": "code",
   "execution_count": 5,
   "metadata": {},
   "outputs": [
    {
     "name": "stdout",
     "output_type": "stream",
     "text": [
      "176\n",
      "100\n",
      "114\n",
      "92\n",
      "8\n",
      "58\n",
      "160\n",
      "68\n",
      "126\n",
      "152\n",
      "168\n",
      "196\n",
      "98\n",
      "110\n",
      "124\n",
      "106\n",
      "108\n",
      "188\n",
      "182\n",
      "156\n",
      "86\n",
      "2\n",
      "6\n",
      "154\n",
      "94\n",
      "22\n",
      "74\n",
      "186\n",
      "76\n",
      "26\n",
      "172\n",
      "198\n",
      "122\n",
      "88\n",
      "144\n",
      "12\n",
      "66\n",
      "10\n",
      "146\n",
      "62\n",
      "20\n",
      "38\n",
      "18\n",
      "190\n",
      "192\n",
      "178\n",
      "52\n",
      "82\n",
      "32\n",
      "90\n"
     ]
    }
   ],
   "source": [
    "# For loop using a list that already exists\n",
    "list1 = list(random.sample(range(1,100),50))\n",
    "\n",
    "# If you do not specify print here, the loop will still perform, but you will not see an output\n",
    "for i in list1:\n",
    "    print(i*2)"
   ]
  },
  {
   "cell_type": "code",
   "execution_count": 6,
   "metadata": {},
   "outputs": [
    {
     "name": "stdout",
     "output_type": "stream",
     "text": [
      "[0, 10, 20, 30, 40, 50, 60, 70, 80, 90]\n"
     ]
    }
   ],
   "source": [
    "# For loop to using a range in order to add values to a list\n",
    "\n",
    "# Creating a list\n",
    "list2 = []\n",
    "\n",
    "# For loop that says for every i from 0 to 9, multiply each value by 10 and append it to the list created. This is similar to the code used in R where you name the object and place a [i] next to the name of it\n",
    "for i in range(0,10):\n",
    "    list2.append(i*10)\n",
    "\n",
    "print(list2)"
   ]
  },
  {
   "cell_type": "markdown",
   "metadata": {},
   "source": [
    "### 1.1.2 While Loops <br>\n",
    "\n",
    "Like in R, while loops are a bit more efficient, as they keep on running until the condition you state is met."
   ]
  },
  {
   "cell_type": "code",
   "execution_count": 7,
   "metadata": {},
   "outputs": [
    {
     "name": "stdout",
     "output_type": "stream",
     "text": [
      "5\n",
      "10\n",
      "15\n",
      "20\n",
      "25\n",
      "30\n",
      "35\n",
      "40\n",
      "45\n",
      "[50, 100, 150, 200, 250, 300, 350, 400, 450]\n"
     ]
    }
   ],
   "source": [
    "# Using a while loop to append a list\n",
    "\n",
    "# Creating an object\n",
    "x = 5\n",
    "# Creating a list\n",
    "y = []\n",
    "\n",
    "# Telling python while the object is smaller than 50, append the object, x*10, to the list and add 5 to the initial object each time this task is successfully completed\n",
    "while x < 50:\n",
    "    y.append(x*10)\n",
    "    print(x)\n",
    "    x=x+5\n",
    "\n",
    "print(y)"
   ]
  },
  {
   "cell_type": "markdown",
   "metadata": {},
   "source": [
    "### 1.1.3 If and Else Statements <br>\n",
    "\n",
    "If-Else statements are conditional arguements that tell Python to run under different set of conditions. If the first condition is met, then do one task; if not, do another."
   ]
  },
  {
   "cell_type": "code",
   "execution_count": 8,
   "metadata": {},
   "outputs": [
    {
     "name": "stdout",
     "output_type": "stream",
     "text": [
      "No reciprocal for 0.\n"
     ]
    }
   ],
   "source": [
    "# Basic If-Else statement\n",
    "x = 0\n",
    "\n",
    "if x!=0:\n",
    "    print(1/x)\n",
    "else:\n",
    "    print('No reciprocal for 0.')"
   ]
  },
  {
   "cell_type": "code",
   "execution_count": null,
   "metadata": {},
   "outputs": [],
   "source": [
    "# Basic If-Else statement with different x value\n",
    "x = 2\n",
    "\n",
    "if x!=0:\n",
    "    print(1/x)\n",
    "else:\n",
    "    print('No reciprocal for 0.')"
   ]
  },
  {
   "cell_type": "markdown",
   "metadata": {},
   "source": [
    "### 1.1.4 Elif (Else if) in If-Else Statements <br>\n",
    "\n",
    "'Elif' is an additional operator you can give to an if-else statement. It allows you to create more conditions and more tasks to do if two are not enough."
   ]
  },
  {
   "cell_type": "code",
   "execution_count": 11,
   "metadata": {},
   "outputs": [
    {
     "name": "stdout",
     "output_type": "stream",
     "text": [
      "This is a safe Republican district\n"
     ]
    }
   ],
   "source": [
    "# Creating an object to represent Democratic presidential vote in a general election\n",
    "district_vote =\n",
    "\n",
    "if district_vote in range(40,61):\n",
    "    print('This district is competitive')\n",
    "elif district_vote in range(0,40):\n",
    "    print('This is a safe Republican district')\n",
    "else: print('This is a safe Democratic district')\n"
   ]
  },
  {
   "cell_type": "code",
   "execution_count": null,
   "metadata": {},
   "outputs": [],
   "source": [
    "# Creating an object to represent Democratic presidential vote in a general election\n",
    "district_vote = 61\n",
    "\n",
    "if district_vote in range(40,61):\n",
    "    print('This district is competitive')\n",
    "elif district_vote in range(0,40):\n",
    "    print('This is a safe Republican district')\n",
    "else: print('This is a safe Democratic district')"
   ]
  },
  {
   "cell_type": "markdown",
   "metadata": {},
   "source": [
    "It's also possible to use nested loops and conditional statements in Python. For the sake of time constraints, here is just one example, but you can go on this [link](https://pynative.com/python-nested-loops/) to learn more about how to create them."
   ]
  },
  {
   "cell_type": "code",
   "execution_count": 12,
   "metadata": {},
   "outputs": [
    {
     "name": "stdout",
     "output_type": "stream",
     "text": [
      "Inside loop\n",
      "Inside loop\n",
      "Inside loop\n",
      "Inside loop\n",
      "Inside loop\n",
      "Inside loop\n",
      "Inside loop\n",
      "Inside loop\n",
      "Inside loop\n",
      "Inside loop\n",
      "Inside else\n"
     ]
    }
   ],
   "source": [
    "# Using the else argument within a while loop\n",
    "counter = 0\n",
    "\n",
    "while counter < 10: # part of while loop\n",
    "    # loop will end/break once counter hits 10\n",
    "    if counter == 10: # part of if-else\n",
    "        break\n",
    "    print('Inside loop') # part of while loop\n",
    "    counter = counter + 1\n",
    "else: # part of if-else\n",
    "    print('Inside else')"
   ]
  },
  {
   "cell_type": "markdown",
   "metadata": {},
   "source": [
    "## 1.2 NumPy (Numerical Python) Library <br>\n",
    "\n",
    "So far, we learned about lists and tuples and how useful they are for working with multiple numeric and non-numeric observations in Python. However, what happens when you want to work large objects or even with two-dimensional objects (i.e., objects that contain rows and columns)? Native Pyton lists and tuples, while good, are not as efficient when you begin working with large amounts of data that might be stacked on top of eachother. That is where NumPy comes in. The NumPy library offers an object called an 'array' that can be stacked and can be used to compute several types of processes in a much faster and efficient manner. The main reason why this is possible is due to the arrays being written in C language, which allows them to be stored in contiguous memory locations within your machine, making them more accessible and easier to manipulate. NumPy also offers several statistical functions that allow us the ability to compute several analyses without having to use additional packages. Learning how NumPy operates is fundamental to being able to work with dataframes (will be discussed in the next section). <br>\n",
    "\n",
    "<br>\n",
    "\n",
    "### 1.2.1 Creating Arrays <br>\n",
    "\n",
    "The syntax for creating arrays is `np.array()`, and it an be used to either convert an existing list or tuple into one, or create one from scratch. It is important to note that unlike lists and tuples, you cannot have multiple data types within an array, so it can either be strings or integers."
   ]
  },
  {
   "cell_type": "code",
   "execution_count": 13,
   "metadata": {},
   "outputs": [
    {
     "data": {
      "text/plain": "numpy.ndarray"
     },
     "execution_count": 13,
     "metadata": {},
     "output_type": "execute_result"
    }
   ],
   "source": [
    "## Converting an existing list to a one dimensional numeric array\n",
    "\n",
    "# Creating a list\n",
    "list1 = [1,2,3,4,5,6,7,8,9,10]\n",
    "\n",
    "# Creating an object that converts a list into an array\n",
    "array1 = np.array(list1)\n",
    "# Confirming that it is indeed an array with the type() function; conversely, look at the variables window\n",
    "type(array1)"
   ]
  },
  {
   "cell_type": "code",
   "execution_count": 14,
   "metadata": {},
   "outputs": [
    {
     "name": "stdout",
     "output_type": "stream",
     "text": [
      "[ 1  2  3  4  5  6  7  8  9 10]\n",
      "<class 'numpy.ndarray'>\n"
     ]
    }
   ],
   "source": [
    "## Creating a one dimensional numeric array from scratch\n",
    "\n",
    "array1 = np.array([1,2,3,4,5,6,7,8,9,10])\n",
    "print(array1)\n",
    "print(type(array1))"
   ]
  },
  {
   "cell_type": "code",
   "execution_count": 15,
   "metadata": {},
   "outputs": [
    {
     "name": "stdout",
     "output_type": "stream",
     "text": [
      "['Hi' 'Hola' 'Salut' 'Ciao' 'Privet' 'Hallo' 'Oi' 'Anyoung' 'Ahlan' 'Hej'\n",
      " 'Hoi']\n",
      "<class 'numpy.ndarray'>\n"
     ]
    }
   ],
   "source": [
    "## Creating a one dimensional string array\n",
    "array1 = np.array([\"Hi\",\"Hola\",\"Salut\",\"Ciao\",\"Privet\",\"Hallo\",\"Oi\",\"Anyoung\",\"Ahlan\",\"Hej\",\"Hoi\"])\n",
    "\n",
    "print(array1)\n",
    "print(type(array1))"
   ]
  },
  {
   "cell_type": "code",
   "execution_count": 16,
   "metadata": {},
   "outputs": [
    {
     "name": "stdout",
     "output_type": "stream",
     "text": [
      "[[ 1  2  3  4  5  6  7  8  9 10]\n",
      " [11 12 13 14 15 16 17 18 19 20]\n",
      " [21 22 23 24 25 26 27 28 29 30]]\n"
     ]
    }
   ],
   "source": [
    "## Creating a two-dimensional numeric array\n",
    "\n",
    "# Brackets tell python to separate the arrays and make them two-dimensional\n",
    "array1 = np.array([[1,2,3,4,5,6,7,8,9,10],\n",
    "                  [11,12,13,14,15,16,17,18,19,20],\n",
    "                   [21,22,23,24,25,26,27,28,29,30]])\n",
    "print(array1)"
   ]
  },
  {
   "cell_type": "markdown",
   "metadata": {},
   "source": [
    "While arrays cannot handle multiple data types, you can coerce Python into allowing you to include different types by telling Python to store all observations as an object. You would not be able to compute calculations with this array, but it is still cool to know you can do this."
   ]
  },
  {
   "cell_type": "code",
   "execution_count": 17,
   "metadata": {},
   "outputs": [
    {
     "name": "stdout",
     "output_type": "stream",
     "text": [
      "[[True False 'hello']\n",
      " ['apple' 33.7 (0, 1)]\n",
      " [37 40 50]]\n"
     ]
    }
   ],
   "source": [
    "array1 =np.array([[True, False, 'hello'],\n",
    "                  ['apple', 33.7, (0,1)],\n",
    "                  [37,40,50]], dtype=object)\n",
    "print(array1)"
   ]
  },
  {
   "cell_type": "markdown",
   "metadata": {},
   "source": [
    "### 1.2.2 Indexing Arrays <br>\n",
    "\n",
    "Like lists and tuples, you are able to index specific observations from both one-dimensional and two-dimensional arrays. The indexing mechanism is the same as indexing in R, where the first coordinate refers to the y-axis (rows) and the second coordinate refers to the x-axis (columns). As a reminder, unlike R, Python begins its indexing with 0."
   ]
  },
  {
   "cell_type": "code",
   "execution_count": 18,
   "metadata": {},
   "outputs": [
    {
     "name": "stdout",
     "output_type": "stream",
     "text": [
      "3\n",
      "26\n",
      "[1 2 3]\n",
      "[ 1 11 21]\n",
      "[[ 1  2  3  4  5  6  7  8  9 10]\n",
      " [11 12 13 14 15 16 17 18 19 20]\n",
      " [21 22 23 24 25 26 27 28 29 30]]\n"
     ]
    }
   ],
   "source": [
    "array1 = np.array([[1,2,3,4,5,6,7,8,9,10],\n",
    "                   [11,12,13,14,15,16,17,18,19,20],\n",
    "                   [21,22,23,24,25,26,27,28,29,30]])\n",
    "# Indexing the number that is on the first row, third column\n",
    "print(array1[0,2])\n",
    "\n",
    "# Indexing the number that is on the third row, sixth column\n",
    "print(array1[2,5])\n",
    "\n",
    "# Indexing multiple values - first three values in first row | Python does not include the final value to give it\n",
    "print(array1[0,0:3])\n",
    "\n",
    "# Indexing multiple values - first values from each row | Python does not include the final value to give it\n",
    "print(array1[0:3,0])\n",
    "\n",
    "# Indexing all values from the array\n",
    "print(array1[:,:])"
   ]
  },
  {
   "cell_type": "markdown",
   "metadata": {},
   "source": [
    "### 1.2.3 NumPy Statistics <br>\n",
    "\n",
    "The NumPy library includes functions that allow us to conduct basic statistics. There are three ways to calculate statistics when working with two-dimensional arrays: <br>\n",
    "* Calculating statistics for the entire array;\n",
    "* Calculating statistics for each column (must include 'axis=0' inside the function);\n",
    "* Calculating statistics for each row (must include 'axis=1' inside the function). <br>\n",
    "\n",
    "Basic statistical functions include but are not limited to: <br>\n",
    "* `np.mean()` - calculates mean of an array object\n",
    "* `np.sum()` - calculates sum of an array object\n",
    "* `np.min()` - finds the min value of an array object\n",
    "* `np.max()` finds the max value of an array object\n",
    "* `np.std()` calculates the standard deviation of an array object\n",
    "* `np.median()` - finds the median value of an array object\n",
    "* `np.sort()` - sorts an array object in ascending order\n",
    "* `np.sort()[::-1]` - sorts an array object in descending order\n",
    "* `np.random.random(size= int)` - creates an array with random floats between 0 and 1\n",
    "* `np.random.randint(int,int, size=int)` - creates an array of integers in any shape\n",
    "* `np.random.randn(int)` - creates and returns a sample or samples from the standard normal distribution\n",
    "* `np.random.shuffle()` - modifies the sequence of an array by shuffling it\n",
    "* `np.count-nonzero()` - returns the count of non-zero elements in an array; useful when measuring sparsity\n",
    "\n",
    "<br>\n",
    "\n",
    "The following lines of code will show some examples of these functions and the variations that can be done using the 'axis' arguments."
   ]
  },
  {
   "cell_type": "code",
   "execution_count": 19,
   "metadata": {},
   "outputs": [
    {
     "name": "stdout",
     "output_type": "stream",
     "text": [
      "[[ 1  2  3  4  5  6]\n",
      " [ 7  8  9 10 11 12]\n",
      " [13 14 15 16 17 18]]\n"
     ]
    }
   ],
   "source": [
    "# Creating array the way we've been doing so\n",
    "array1 = np.array([[1,2,3,4,5,6],\n",
    "                   [7,8,9,10,11,12],\n",
    "                   [13,14,15,16,17,18]])\n",
    "\n",
    "# Creating an array using numpy function arange and reshape functions\n",
    "# You can use multiple functions by simply adding a period '.' so long as it makes sense to do so\n",
    "# the agument is as follows (first number to start on, number to stop at (it will not actually include it), and by how many integers to skip by)\n",
    "# very similar to the `seq()` function in R\n",
    "array1 = np.arange(1,19,1).reshape(3,6)\n",
    "\n",
    "print(array1)"
   ]
  },
  {
   "cell_type": "code",
   "execution_count": 20,
   "metadata": {},
   "outputs": [
    {
     "name": "stdout",
     "output_type": "stream",
     "text": [
      "The entire mean of the array is: 9.5\n",
      "The mean of each column in the array is: [ 7.  8.  9. 10. 11. 12.]\n",
      "The mean of each row in the array is: [ 3.5  9.5 15.5]\n"
     ]
    }
   ],
   "source": [
    "## Finding the mean of the array above\n",
    "\n",
    "# Entire array\n",
    "print('The entire mean of the array is:', np.mean(array1))\n",
    "\n",
    "# Mean of each column in the array - we should get an array of six values\n",
    "print('The mean of each column in the array is:', np.mean(array1, axis=0))\n",
    "\n",
    "# Mean of each row in the array - we should get an array of three values\n",
    "print('The mean of each row in the array is:', np.mean(array1, axis=1))"
   ]
  },
  {
   "cell_type": "code",
   "execution_count": 21,
   "metadata": {},
   "outputs": [
    {
     "name": "stdout",
     "output_type": "stream",
     "text": [
      "The sum of the array is: 171\n",
      "The sum of each column in the array is: [21 24 27 30 33 36]\n",
      "The sum of each row in the array is: [21 57 93]\n"
     ]
    }
   ],
   "source": [
    "## Finding the sum of the array\n",
    "\n",
    "# Entire array\n",
    "print('The sum of the array is:', np.sum(array1))\n",
    "\n",
    "# Sum of each column in the array - we should get an array of six values\n",
    "print('The sum of each column in the array is:', np.sum(array1, axis=0))\n",
    "\n",
    "# Sum of each row in the array - we should get an array of three values\n",
    "print('The sum of each row in the array is:', np.sum(array1, axis=1))"
   ]
  },
  {
   "cell_type": "code",
   "execution_count": 22,
   "metadata": {},
   "outputs": [
    {
     "name": "stdout",
     "output_type": "stream",
     "text": [
      "The median of the array is: 9.5\n",
      "The median of each column in the array is: [ 7.  8.  9. 10. 11. 12.]\n",
      "The median of each row in the array is: [ 3.5  9.5 15.5]\n"
     ]
    }
   ],
   "source": [
    "## Finding the median of the array\n",
    "\n",
    "# Entire array\n",
    "print('The median of the array is:', np.median(array1))\n",
    "\n",
    "# Std of each column in the array - we should get an array of six values\n",
    "print('The median of each column in the array is:', np.median(array1, axis=0))\n",
    "\n",
    "# Std of each row in the array - we should get an array of three values\n",
    "print('The median of each row in the array is:', np.median(array1, axis=1))"
   ]
  },
  {
   "cell_type": "code",
   "execution_count": 23,
   "metadata": {},
   "outputs": [
    {
     "name": "stdout",
     "output_type": "stream",
     "text": [
      "[[ 1  2  3  4  5  6]\n",
      " [ 7  8  9 10 11 12]\n",
      " [13 14 15 16 17 18]]\n"
     ]
    }
   ],
   "source": [
    "print(np.sort(array1))"
   ]
  },
  {
   "cell_type": "code",
   "execution_count": 24,
   "metadata": {},
   "outputs": [
    {
     "name": "stdout",
     "output_type": "stream",
     "text": [
      "[6.09295332e-01 2.23169416e-02 8.35826885e-01 3.93851014e-01\n",
      " 5.42343509e-01 2.47133221e-01 4.99870000e-01 7.28464458e-01\n",
      " 3.18926584e-01 4.46899348e-01 9.30530342e-01 5.54762527e-01\n",
      " 3.96061993e-01 2.40205590e-01 3.85920742e-01 2.12562724e-01\n",
      " 1.84032369e-02 3.64228711e-02 6.04987767e-01 2.66312996e-02\n",
      " 2.51257268e-01 6.02695830e-01 5.10077552e-01 8.31941826e-01\n",
      " 9.34127172e-01 2.37541459e-02 4.56921671e-01 6.99420612e-01\n",
      " 8.56800925e-01 4.16940823e-01 3.42821566e-01 5.15093642e-01\n",
      " 2.01378684e-01 4.61092665e-01 8.28762333e-01 7.92456019e-01\n",
      " 3.81391202e-01 3.84114131e-01 6.52333322e-01 8.12762168e-01\n",
      " 1.91126042e-01 8.40935083e-01 2.95764565e-01 9.52506026e-01\n",
      " 5.36511953e-01 1.68013107e-01 6.43882988e-01 9.59082882e-01\n",
      " 4.93228761e-01 8.36724859e-01 7.10681358e-03 8.59098204e-01\n",
      " 8.22340409e-01 5.24099720e-01 1.02778754e-01 5.88951151e-01\n",
      " 3.72179426e-01 6.96039112e-01 4.19079963e-01 9.32827211e-01\n",
      " 9.79539170e-01 7.85033025e-02 3.70245571e-01 3.24971120e-01\n",
      " 2.87210543e-01 7.74354516e-01 8.02048956e-01 3.00979865e-01\n",
      " 2.14006852e-01 1.38812532e-01 8.24459583e-01 4.82107398e-03\n",
      " 7.47349044e-01 5.12513472e-01 1.98676188e-03 5.05129293e-01\n",
      " 5.08558405e-01 4.08998087e-01 2.70653237e-01 2.05271880e-01\n",
      " 1.98786171e-01 8.05022310e-01 1.01586709e-02 7.00677302e-01\n",
      " 8.96712312e-01 4.28187328e-02 7.45819472e-01 8.08273865e-01\n",
      " 3.05461878e-01 7.03833829e-01 9.50182689e-01 7.11853910e-01\n",
      " 1.16649474e-01 8.79739453e-01 9.26894840e-01 1.61237848e-01\n",
      " 3.33469488e-01 4.61188063e-01 9.49128717e-01 4.75441397e-01\n",
      " 9.77073751e-01 2.56637515e-01 1.76943479e-01 8.12387347e-01\n",
      " 6.65528169e-01 1.02901481e-01 8.56909609e-01 3.94425566e-01\n",
      " 8.68058763e-01 5.39469018e-01 7.65419786e-01 9.37028346e-01\n",
      " 7.14941916e-01 1.09594970e-01 4.39522894e-01 4.06109150e-01\n",
      " 7.28781097e-01 5.76653027e-01 5.92494049e-01 9.93512489e-01\n",
      " 3.86457736e-01 6.82855256e-01 3.79106484e-01 8.84229055e-01\n",
      " 9.04258802e-01 7.63335396e-01 6.32290081e-02 4.91473528e-01\n",
      " 2.85938066e-01 1.31921181e-01 5.80581328e-02 8.06777195e-01\n",
      " 9.71727742e-01 7.98621745e-01 7.22879476e-01 7.42124284e-03\n",
      " 1.73391847e-01 1.68317071e-01 3.46940778e-01 9.62541867e-01\n",
      " 6.48092631e-01 6.03808516e-02 7.15027060e-01 3.91227223e-01\n",
      " 8.63908950e-01 9.35264653e-01 6.03365588e-01 3.43849898e-01\n",
      " 2.15821687e-02 7.05157630e-01 2.94488200e-01 5.55802468e-01\n",
      " 5.13429562e-01 3.43390224e-01 5.01409740e-01 6.69068740e-01\n",
      " 9.61533013e-01 7.05051013e-01 8.31397260e-01 8.20093993e-01\n",
      " 7.65329741e-01 8.91566717e-01 1.81548620e-01 1.83752725e-01\n",
      " 8.31219403e-01 1.69539165e-01 8.92568490e-01 1.50423713e-01\n",
      " 5.64294688e-01 2.56460646e-02 1.13222876e-01 7.80048257e-01\n",
      " 2.62678912e-01 4.18883082e-01 4.70979558e-01 3.13268232e-01\n",
      " 2.97306220e-02 9.43052131e-04 8.42480711e-01 6.07981237e-01\n",
      " 2.52260070e-01 6.27050432e-01 8.89842437e-01 7.36298939e-01\n",
      " 4.64370200e-03 4.93882101e-01 9.41395241e-01 1.61676465e-01\n",
      " 2.24746254e-01 3.84897833e-01 3.37614090e-01 5.80489377e-01\n",
      " 4.05952479e-01 2.60357012e-01 6.07651310e-01 9.39051180e-01\n",
      " 3.22606911e-02 2.68360928e-01 4.71721041e-01 5.63054994e-01\n",
      " 8.34054881e-01 3.22181535e-01 3.99321139e-01 1.51347725e-02\n",
      " 4.44746260e-01 6.19282339e-01 5.66948438e-01 5.52210515e-01\n",
      " 4.74819140e-01 9.72941063e-01 8.30386299e-02 6.62381400e-01\n",
      " 3.10399916e-01 7.35034939e-01 8.61214997e-01 1.82123190e-01\n",
      " 9.60526831e-01 8.45965089e-01 6.46321745e-01 9.89422133e-01\n",
      " 5.41637250e-01 4.01187737e-01 3.55386681e-01 4.16222418e-01\n",
      " 2.26043452e-01 4.73922176e-01 4.79369817e-01 3.32319318e-01\n",
      " 1.65700012e-01 9.54292081e-01 7.39532640e-01 9.56853150e-01\n",
      " 5.61292254e-01 9.79506406e-01 5.57543021e-01 4.70839340e-01\n",
      " 3.81920304e-01 6.67595884e-02 4.91107462e-01 9.81684036e-01\n",
      " 4.25189909e-02 2.46004396e-01 9.01031610e-01 1.31704281e-01\n",
      " 9.77207090e-01 3.54225739e-01 6.59271951e-01 9.64882361e-01\n",
      " 9.58253852e-01 8.34954163e-01 7.77390789e-01 2.47310828e-01\n",
      " 1.84606837e-01 9.10111399e-01 6.79898259e-01 6.83841451e-01\n",
      " 8.31415308e-01 3.37069933e-01 2.17291839e-01 8.62546418e-01\n",
      " 8.90251744e-02 8.48946943e-02 4.20544282e-01 6.14058736e-02\n",
      " 4.38566437e-01 5.14440939e-01 4.23770381e-01 9.11537903e-01\n",
      " 7.79953258e-01 2.08045863e-01 9.98594423e-01 3.96456915e-01\n",
      " 4.58225125e-01 5.97615392e-01 9.47051212e-01 1.32170429e-01\n",
      " 3.39179080e-01 5.57402494e-01 9.39242906e-01 9.73445709e-01\n",
      " 5.89962956e-01 9.42334540e-01 2.43936903e-01 6.53626825e-01\n",
      " 5.83432097e-01 6.23479547e-01 6.75308075e-01 2.02059712e-01\n",
      " 6.76753948e-01 9.76985169e-01 6.89691396e-01 6.30377322e-01\n",
      " 3.37866603e-01 7.78211666e-01 5.39027482e-01 2.30111189e-02\n",
      " 6.16085444e-01 8.87024670e-01 9.10856274e-01 4.22093314e-01\n",
      " 3.12176712e-01 8.41538168e-01 6.38745244e-01 8.47663271e-01\n",
      " 5.35937599e-02 7.28414972e-01 5.21922409e-01 8.72902686e-01\n",
      " 6.74869176e-01 6.00525008e-01 4.54426905e-01 6.42708977e-01\n",
      " 4.48437221e-02 5.02052280e-01 3.04552043e-01 7.42705760e-01\n",
      " 5.32056212e-01 9.71068033e-01 6.61436443e-01 3.99437286e-01\n",
      " 5.44946911e-01 8.40153101e-01 3.60172265e-02 7.39666261e-02\n",
      " 7.44662690e-02 3.14140644e-01 4.25279936e-01 9.86781041e-01\n",
      " 8.15302344e-01 9.95392374e-01 2.76038830e-01 6.28318532e-01\n",
      " 8.57220093e-01 9.32586446e-02 3.02612415e-01 5.05446900e-01\n",
      " 7.37496259e-01 4.39168858e-01 4.69053463e-01 2.47173123e-01\n",
      " 1.28625648e-01 7.65949875e-01 8.67363979e-01 8.68581459e-01\n",
      " 9.87080948e-01 5.80668863e-01 8.50890778e-01 4.76566989e-01\n",
      " 4.52207359e-01 1.86124721e-01 9.26151194e-01 1.77270264e-03\n",
      " 4.95039059e-01 9.66694465e-01 6.85269180e-01 7.93941939e-01\n",
      " 2.36393015e-01 5.31298413e-01 8.99877780e-01 4.96215647e-02\n",
      " 8.74544627e-01 5.75909487e-01 3.92866162e-01 4.86108450e-01\n",
      " 6.79630334e-01 5.58863761e-01 6.75435687e-01 7.66682705e-01\n",
      " 1.02006821e-01 9.30037350e-01 2.18395002e-02 1.32841915e-01\n",
      " 9.37015196e-01 3.68703343e-01 3.98452234e-01 2.71618717e-01\n",
      " 3.92339548e-01 1.23935152e-01 4.91676484e-01 1.55224335e-01\n",
      " 9.69137782e-01 9.11125161e-01 1.58439570e-01 4.79029693e-01\n",
      " 7.11458437e-01 9.60595615e-01 2.31973485e-01 4.05720257e-01\n",
      " 1.08006316e-01 5.30672390e-01 3.44307891e-01 6.03466463e-01\n",
      " 6.19716816e-01 5.92246844e-01 7.65530792e-01 4.08561967e-01\n",
      " 2.73086945e-01 7.43776736e-01 5.16576722e-01 2.38189160e-02\n",
      " 3.54271889e-01 6.07442198e-01 4.90983112e-01 1.22246321e-01\n",
      " 5.12986110e-01 8.92937876e-01 8.25290888e-01 1.05767125e-01\n",
      " 3.73491817e-01 2.79340972e-01 9.98270360e-01 1.58123781e-01\n",
      " 4.11109073e-01 8.45362006e-01 5.46735211e-01 4.23607171e-01\n",
      " 7.31962958e-01 7.99391643e-01 2.15598722e-01 8.43054736e-01\n",
      " 4.81175926e-01 4.94273015e-01 5.88437020e-01 9.78015606e-01\n",
      " 8.48001151e-03 9.79445933e-01 3.50938791e-01 1.78862568e-01\n",
      " 2.50383509e-02 9.44471724e-01 8.11948438e-01 4.42414322e-01\n",
      " 7.31544897e-02 3.86816150e-01 4.41237908e-01 6.67099184e-01\n",
      " 5.83023539e-01 9.60608945e-01 5.38134109e-01 9.45111656e-01\n",
      " 6.90850357e-01 9.10301770e-01 1.50651253e-01 6.96629160e-01\n",
      " 7.59035988e-01 2.90632178e-01 2.16949835e-01 9.12695956e-01\n",
      " 6.02832428e-02 4.18745525e-02 2.69730566e-01 7.71693407e-01\n",
      " 9.01923179e-01 2.68442794e-01 5.42672802e-01 1.16710653e-01\n",
      " 8.15717852e-01 3.02649348e-01 7.77740058e-01 9.93832253e-01\n",
      " 9.86590171e-01 5.01812697e-01 1.56825075e-02 8.19435207e-01\n",
      " 4.26634497e-01 4.11989460e-01 8.63075580e-01 3.81255189e-01\n",
      " 5.99409902e-01 1.18007206e-02 8.19208848e-01 6.71992222e-01\n",
      " 5.83845541e-01 3.40711804e-01 5.64529507e-01 6.66557213e-02\n",
      " 5.28433112e-01 5.90353459e-01 4.88126213e-01 7.51550799e-01\n",
      " 1.20767144e-01 5.02102159e-01 8.03700028e-01 3.11041368e-01\n",
      " 9.38542743e-01 7.47852361e-01 2.55328938e-01 1.27653654e-01\n",
      " 3.48173052e-01 6.67998200e-01 5.28602582e-01 2.48402795e-01\n",
      " 6.45208977e-01 3.57934638e-01 7.80055113e-01 7.29941962e-01\n",
      " 6.52865690e-01 1.18647096e-01 3.25399584e-01 6.84901483e-01\n",
      " 7.90812172e-01 6.68966343e-01 9.78173641e-01 8.92640189e-02\n",
      " 7.12729580e-02 6.18315735e-01 7.69845973e-01 8.37481036e-02\n",
      " 2.35189101e-02 1.74443291e-01 6.85372680e-01 2.63045757e-01\n",
      " 4.01643242e-01 4.05237936e-01 4.68393107e-01 5.65570493e-01\n",
      " 9.57974314e-01 8.87762077e-01 7.65392909e-01 3.30035645e-01\n",
      " 9.52887247e-02 8.89171891e-01 4.26535550e-01 9.19649123e-01\n",
      " 2.24623785e-01 6.69602416e-01 1.51282015e-01 3.78050482e-01\n",
      " 3.09056477e-01 1.24886308e-01 3.48443840e-01 1.18130755e-01\n",
      " 7.06462268e-01 6.58032829e-01 6.16644642e-01 1.74876551e-01\n",
      " 8.92561856e-01 9.40434757e-01 2.35725178e-01 2.63533933e-01\n",
      " 4.88273818e-01 2.94529815e-01 5.43537115e-01 2.16976242e-01\n",
      " 4.55566536e-02 7.52424123e-01 5.53770344e-01 7.32703056e-01\n",
      " 3.11828281e-01 6.74806793e-01 9.87727030e-01 6.97667195e-01\n",
      " 5.05870815e-01 2.42182732e-01 3.27196747e-01 2.55189074e-01\n",
      " 2.38637706e-01 6.13462866e-01 2.86298418e-01 1.68733738e-01\n",
      " 9.91305959e-01 2.27931902e-01 6.40411554e-01 6.15317391e-01\n",
      " 8.41494787e-01 6.47192435e-01 1.80461307e-01 9.16474086e-01\n",
      " 7.89441042e-01 1.08177421e-01 9.89559505e-01 7.78494127e-01\n",
      " 2.95661614e-02 3.73976676e-01 8.80207409e-01 1.65135177e-01\n",
      " 8.50989019e-01 6.59901032e-01 9.09248416e-01 1.66091260e-01\n",
      " 2.37261495e-01 6.87140809e-01 2.00592825e-02 9.94523293e-01\n",
      " 4.87801811e-01 8.39945197e-01 1.66785883e-01 6.32357222e-01\n",
      " 8.22753042e-01 6.24076384e-01 5.56959817e-01 4.90889300e-01\n",
      " 1.83237760e-01 2.12500252e-01 7.82046089e-01 8.00210322e-01\n",
      " 1.86373707e-01 1.93603485e-01 2.41527596e-01 9.71864180e-01\n",
      " 2.05428798e-01 7.63024941e-01 4.32673845e-01 9.00269244e-01\n",
      " 3.80429686e-01 2.17241481e-01 8.61241633e-01 5.44577594e-01\n",
      " 6.43089568e-02 7.33808508e-01 3.45441329e-01 7.78803438e-01\n",
      " 3.91819331e-01 9.46394644e-01 7.29482288e-01 4.41043375e-01\n",
      " 6.02634944e-01 9.93101296e-01 7.61484355e-01 9.38533547e-01\n",
      " 8.13920637e-01 6.40565461e-02 6.35625945e-01 5.62699341e-01\n",
      " 9.68693114e-01 9.41217908e-01 1.62561975e-01 4.17927993e-01\n",
      " 2.96660081e-01 4.22974390e-01 6.17589038e-01 6.14914589e-01\n",
      " 6.29439846e-01 1.42042768e-01 9.84303985e-02 1.51210629e-01\n",
      " 7.73773555e-01 8.54412436e-01 7.14281018e-01 8.93558685e-01\n",
      " 7.94959509e-01 6.17074781e-01 4.95858203e-01 5.67339095e-01\n",
      " 8.32462286e-01 3.44413211e-01 5.83823764e-01 9.90628345e-01\n",
      " 8.18229115e-01 7.86303223e-01 1.99513794e-01 5.38864945e-01\n",
      " 5.85355124e-01 9.91679747e-01 4.39822525e-01 6.22622790e-01\n",
      " 6.25952138e-01 3.40919682e-01 4.13345541e-01 4.86143530e-01\n",
      " 1.45484814e-01 2.05626486e-01 8.46897178e-01 5.12655514e-01\n",
      " 9.75869887e-01 3.43766060e-01 4.19424306e-01 5.01237990e-01\n",
      " 2.48462932e-01 9.61494725e-01 1.50409559e-01 6.37393164e-01\n",
      " 4.09423784e-01 5.57869797e-01 6.25737166e-01 2.52224553e-01\n",
      " 4.66939698e-01 4.74052028e-01 3.08530516e-02 9.48275097e-01\n",
      " 9.74047385e-01 8.10950195e-01 5.71192359e-02 7.44078305e-01\n",
      " 9.00405252e-01 9.11673546e-01 7.83730069e-01 8.76640982e-01\n",
      " 2.92930246e-02 1.09314343e-01 4.25106030e-01 5.39174368e-01\n",
      " 2.43750605e-01 9.86689766e-01 5.14032738e-02 8.67251584e-01\n",
      " 2.73453573e-01 8.92912477e-01 4.09668637e-01 6.16594143e-02\n",
      " 3.08898718e-01 4.16947132e-01 1.22377594e-01 2.25317765e-01\n",
      " 3.76964470e-01 6.72756558e-01 3.72255823e-01 2.00700786e-01\n",
      " 5.17647634e-01 4.74200832e-01 7.98427958e-01 4.04484665e-02\n",
      " 7.80548799e-01 9.11458858e-01 2.27925909e-02 9.59386397e-01\n",
      " 3.58958166e-02 8.85218800e-03 1.99182841e-01 7.02337275e-01\n",
      " 1.17935300e-01 8.08951853e-01 2.83263642e-01 5.54758044e-01\n",
      " 1.38137462e-02 4.07302643e-01 3.35994312e-01 8.85207959e-01\n",
      " 7.32643877e-01 9.11263658e-01 1.78975370e-01 5.59694065e-01\n",
      " 6.12350811e-01 9.90898897e-01 4.02870719e-01 7.69388434e-01\n",
      " 8.68830554e-01 2.33940789e-01 5.07479390e-01 5.69064086e-01\n",
      " 2.00578689e-01 7.63776245e-01 8.14892999e-01 1.28040645e-01\n",
      " 2.38325180e-01 1.71710131e-01 4.04870703e-01 4.49828840e-01\n",
      " 9.40477838e-01 7.07033727e-01 4.75416575e-01 1.25801034e-01\n",
      " 6.87587656e-01 8.33898783e-02 6.06249121e-01 4.89238878e-02\n",
      " 3.17937549e-01 8.67799759e-02 6.25610121e-01 8.85351221e-01\n",
      " 7.49064636e-01 5.59028576e-01 1.98244286e-01 2.26854153e-01\n",
      " 3.41498743e-01 4.05551270e-01 6.59565072e-01 4.31091427e-01\n",
      " 7.51523659e-01 3.89484805e-01 4.44537546e-01 3.65319827e-01\n",
      " 5.45354768e-01 4.14607939e-01 5.92040857e-01 1.18136287e-01\n",
      " 2.71446628e-01 8.35029159e-01 1.87362190e-01 3.96122914e-02\n",
      " 2.31562514e-01 2.22083579e-01 5.19352637e-01 9.26663219e-01\n",
      " 1.78623187e-01 3.71069841e-01 5.37789400e-01 5.15968509e-01\n",
      " 6.07645658e-02 6.29434146e-01 4.66900605e-01 6.65386991e-01\n",
      " 1.24088556e-02 5.71240432e-02 7.90921580e-01 9.07182783e-01\n",
      " 6.14335269e-01 8.28037406e-01 9.73971881e-01 4.00260145e-01\n",
      " 5.63135922e-01 1.26427520e-01 6.57250846e-01 3.08537263e-02\n",
      " 6.36285486e-01 3.48492438e-01 6.42296694e-01 9.82331082e-01\n",
      " 8.42878411e-01 5.92252823e-01 1.43952477e-01 7.86949762e-01\n",
      " 8.60929306e-01 9.09522637e-01 8.05475183e-01 6.22493998e-01\n",
      " 3.53033466e-01 3.67597192e-01 6.15718299e-01 2.97956740e-01\n",
      " 6.18438362e-02 8.85106361e-01 3.62651246e-01 3.90263800e-01\n",
      " 5.89005841e-01 8.85182032e-01 8.17180434e-01 9.87238113e-01\n",
      " 5.43607540e-01 6.07950387e-01 6.48272866e-01 4.64361455e-02\n",
      " 9.78969038e-01 5.80582017e-01 8.75135243e-01 9.55366447e-01\n",
      " 3.44875095e-01 6.24561475e-01 6.79128068e-01 6.66075850e-01\n",
      " 3.84919217e-01 6.92334912e-01 9.39727749e-01 9.82530680e-01\n",
      " 6.49253094e-01 6.09981664e-01 8.00900939e-01 9.20386506e-02\n",
      " 6.14437109e-01 7.33251427e-01 2.89485956e-01 8.31546846e-01\n",
      " 3.18970311e-01 5.65865849e-01 9.92681748e-01 4.85169682e-01\n",
      " 1.44210753e-01 4.34840081e-01 9.48828629e-01 6.44960316e-01\n",
      " 8.83125864e-01 6.36021869e-01 1.54797358e-01 7.70498572e-01\n",
      " 6.21300195e-01 1.03278755e-01 1.88430232e-01 8.59805143e-01\n",
      " 2.66662772e-01 5.64719802e-01 6.12164454e-01 8.15173797e-01\n",
      " 9.78140562e-01 8.23630679e-01 7.19358894e-01 3.61703543e-01\n",
      " 5.67507366e-01 7.76701835e-02 8.73086125e-01 2.56692168e-01\n",
      " 4.51871691e-01 3.15462175e-01 8.22140351e-01 6.78427849e-01\n",
      " 6.99940147e-01 8.72678451e-01 7.88362047e-01 8.67153098e-01\n",
      " 4.76507403e-01 8.22301818e-01 3.90204481e-01 6.25556998e-01\n",
      " 3.42316102e-01 8.27426130e-01 9.47821552e-01 7.35381708e-01\n",
      " 4.76546122e-01 1.27915304e-01 2.41427218e-01 2.86136270e-01\n",
      " 1.62975425e-01 3.50004662e-01 7.55936793e-01 7.20178180e-01\n",
      " 4.06883729e-01 3.11204840e-01 7.16251087e-01 3.39384239e-01\n",
      " 4.11015412e-01 6.96598636e-01 2.63997215e-01 1.47307690e-01\n",
      " 2.38584593e-01 6.35981214e-01 8.53669710e-01 4.61348065e-01\n",
      " 5.64596317e-02 4.96933965e-01 9.16180385e-01 4.06200794e-01\n",
      " 1.87875344e-01 8.51399234e-01 9.72544481e-01 2.55920215e-01\n",
      " 5.23711277e-01 6.50323324e-03 8.76451060e-01 3.10057329e-01\n",
      " 9.07290662e-01 2.47032258e-01 8.70142851e-01 2.71253989e-01\n",
      " 7.53079184e-01 3.59634123e-01 2.47620945e-01 6.40185463e-01\n",
      " 4.44587037e-01 6.22125390e-01 7.53811581e-01 2.10415304e-01\n",
      " 4.37160852e-01 5.44795618e-01 8.19346191e-01 8.50531950e-01\n",
      " 6.79620040e-01 3.75751488e-01 7.38527793e-01 2.41552237e-01\n",
      " 9.25175437e-01 4.26588621e-01 2.06063983e-01 3.24766728e-01\n",
      " 8.50904345e-01 3.68488030e-01 1.72696796e-01 7.15796130e-01\n",
      " 3.92884230e-01 8.85432161e-01 5.78550371e-01 9.40473616e-01\n",
      " 7.29867695e-01 2.67947204e-01 8.66119728e-01 6.02973947e-01\n",
      " 4.57859363e-01 9.19188172e-02 8.50963390e-01 5.90334702e-02\n",
      " 4.84180815e-01 7.85651949e-01 2.20796245e-01 8.04576208e-01\n",
      " 3.20278222e-01 1.34224535e-01 6.60519019e-01 5.06771396e-01\n",
      " 2.80251149e-01 3.02177927e-02 4.72279813e-01 1.63190752e-01\n",
      " 8.36378256e-01 5.38871613e-02 2.32538225e-01 2.78051121e-01\n",
      " 8.67382003e-01 1.86059989e-01 9.63837077e-01 9.11891151e-01\n",
      " 1.49645813e-01 3.09195839e-01 3.99426098e-01 2.45363735e-01\n",
      " 6.69912835e-01 1.83364147e-01 6.83198052e-01 1.06635376e-01\n",
      " 4.86454983e-01 4.18187924e-01 6.42883838e-01 2.61630077e-01]\n"
     ]
    }
   ],
   "source": [
    "# Creating random sample of floats from 0 to 1\n",
    "array1 = np.random.random(size=1000)\n",
    "print(array1)"
   ]
  },
  {
   "cell_type": "code",
   "execution_count": 25,
   "metadata": {},
   "outputs": [
    {
     "name": "stdout",
     "output_type": "stream",
     "text": [
      "[32 45 16 39 25  4 40 28 17 18  3  6  5 32  4 15 48 26 35 28 37 46  9 27\n",
      "  8  6 12 40 33 24  4 22  3  4 37 36 40 48 40 25  7 37 27  7 33 39 40 34\n",
      " 11 30]\n"
     ]
    }
   ],
   "source": [
    "array1 = np.random.randint(0,50, size=50)\n",
    "print(array1)"
   ]
  },
  {
   "cell_type": "markdown",
   "metadata": {},
   "source": [
    "Like in R, you can set a seed to ensure same iteration each time."
   ]
  },
  {
   "cell_type": "code",
   "execution_count": 28,
   "metadata": {},
   "outputs": [
    {
     "name": "stdout",
     "output_type": "stream",
     "text": [
      "[ 3 48 23  8  3 39 12 47  8 41 44 10 26 15 34 18 12 10 16 24  0  6 22  0\n",
      " 10  3 48  6 39 25 35 26  8  7 13  2 15  9 34  9 24 25  2 18  8 44  1 26\n",
      " 26 45]\n"
     ]
    }
   ],
   "source": [
    "np.random.seed(444)\n",
    "array1 = np.random.randint(0,50, size=50)\n",
    "print(array1)"
   ]
  },
  {
   "cell_type": "markdown",
   "metadata": {},
   "source": [
    "## 1.3 Pandas (Panel Python) Library <br>\n",
    "\n",
    "As mentioned above, knowing how NumPy works is essential to programming in Python, as several libraries are built to work on top of NumPy. Pandas is one of those libraries. The Pandas library offers several data structures and operations for manipulating numeric data along with time series. It allows for the importing, creating, managing, and exporting of dataframes, making it the staple library for data science in Python. Pandas allows to create what can be called 'Pandas series' and 'Pandas DataFrames'. For this lesson, our main focus for Pandas will be DataFrames and how to create, import, and manipulate them.  <br>\n",
    "\n",
    "<br>\n",
    "\n",
    "### 1.3.1 Creating a Pandas Series <br>\n",
    "\n",
    "A Pandas series is a simple one-dimensional array that can hold any datatype (e.g., integer, string, float, objects). A Pandas series is nothing more than a single column of data found in an excel sheet. Creating a series is as simple as creating a list, tuple, or one-dimensional array.\n",
    "\n"
   ]
  },
  {
   "cell_type": "code",
   "execution_count": 29,
   "metadata": {},
   "outputs": [
    {
     "name": "stdout",
     "output_type": "stream",
     "text": [
      "0     1\n",
      "1     2\n",
      "2     3\n",
      "3     4\n",
      "4     5\n",
      "5     6\n",
      "6     7\n",
      "7     8\n",
      "8     9\n",
      "9    10\n",
      "dtype: int64\n"
     ]
    }
   ],
   "source": [
    "PdSeries = pd.Series([1, 2, 3, 4, 5,6,7,8,9,10])\n",
    "\n",
    "print(PdSeries)"
   ]
  },
  {
   "cell_type": "markdown",
   "metadata": {},
   "source": [
    "Like NumPy Arrays, a Pandas series can be indexed in using the brackets."
   ]
  },
  {
   "cell_type": "code",
   "execution_count": 30,
   "metadata": {},
   "outputs": [
    {
     "data": {
      "text/plain": "3"
     },
     "execution_count": 30,
     "metadata": {},
     "output_type": "execute_result"
    }
   ],
   "source": [
    "# Indexing the third value from the Pandas series\n",
    "PdSeries[2]"
   ]
  },
  {
   "cell_type": "markdown",
   "metadata": {},
   "source": [
    "### 1.3.2 Creating a Pandas DataFrame <br>\n",
    "\n",
    "While one Pandas series may not be any more useful than NumPy arrays, several series can be combined into a Pandas DataFrame. A Pandas DataFrame is a two-dimensional tabular data structure with labeled rows and columns, which is the same as a DataFrame used in R, Excel, Stata, SQL, or SPSS. Creating a Pandas DataFrame is similar to creating a Python Dictionary or a DataFrame in R."
   ]
  },
  {
   "cell_type": "code",
   "execution_count": 31,
   "metadata": {},
   "outputs": [
    {
     "name": "stdout",
     "output_type": "stream",
     "text": [
      "        Name         Year   Position\n",
      "0  Student A   Third Year  Treasurer\n",
      "1  Student B  Second Year    Senator\n",
      "2  Student C  Second Year  President\n"
     ]
    }
   ],
   "source": [
    "# Creating a DataFrame\n",
    "\n",
    "df = pd.DataFrame({'Name':[\"Student A\", \"Student B\", \"Student C\"],\n",
    "                          'Year': [\"Third Year\", \"Second Year\", \"Second Year\"],\n",
    "                          'Position':[\"Treasurer\",\"Senator\",\"President\"]})\n",
    "\n",
    "# Using the print function gives you an in-text DataFrame\n",
    "print(df)"
   ]
  },
  {
   "cell_type": "markdown",
   "metadata": {},
   "source": [
    "Calling the DataFrame without using the print function gives you an interactive table thanks to Data Spell. This feature is unique to the program and it allows us to view the DataFrame in a new window (Like in R), and even export the DataFrame into a csv file without having to write additional code."
   ]
  },
  {
   "cell_type": "code",
   "execution_count": 32,
   "metadata": {},
   "outputs": [
    {
     "data": {
      "text/plain": "        Name         Year   Position\n0  Student A   Third Year  Treasurer\n1  Student B  Second Year    Senator\n2  Student C  Second Year  President",
      "text/html": "<div>\n<style scoped>\n    .dataframe tbody tr th:only-of-type {\n        vertical-align: middle;\n    }\n\n    .dataframe tbody tr th {\n        vertical-align: top;\n    }\n\n    .dataframe thead th {\n        text-align: right;\n    }\n</style>\n<table border=\"1\" class=\"dataframe\">\n  <thead>\n    <tr style=\"text-align: right;\">\n      <th></th>\n      <th>Name</th>\n      <th>Year</th>\n      <th>Position</th>\n    </tr>\n  </thead>\n  <tbody>\n    <tr>\n      <th>0</th>\n      <td>Student A</td>\n      <td>Third Year</td>\n      <td>Treasurer</td>\n    </tr>\n    <tr>\n      <th>1</th>\n      <td>Student B</td>\n      <td>Second Year</td>\n      <td>Senator</td>\n    </tr>\n    <tr>\n      <th>2</th>\n      <td>Student C</td>\n      <td>Second Year</td>\n      <td>President</td>\n    </tr>\n  </tbody>\n</table>\n</div>"
     },
     "execution_count": 32,
     "metadata": {},
     "output_type": "execute_result"
    }
   ],
   "source": [
    "df"
   ]
  },
  {
   "cell_type": "markdown",
   "metadata": {},
   "source": [
    "You can also create a DataFrame from an existing two-dimensional array."
   ]
  },
  {
   "cell_type": "code",
   "execution_count": 33,
   "metadata": {},
   "outputs": [
    {
     "data": {
      "text/plain": "   var1  var2  var3  var4  var5\n0     1     3     5     7     9\n1    11    13    15    17    19\n2    21    23    25    27    29\n3    31    33    35    37    39\n4    41    43    45    47    49\n5    51    53    55    57    59\n6    61    63    65    67    69\n7    71    73    75    77    79\n8    81    83    85    87    89\n9    91    93    95    97    99",
      "text/html": "<div>\n<style scoped>\n    .dataframe tbody tr th:only-of-type {\n        vertical-align: middle;\n    }\n\n    .dataframe tbody tr th {\n        vertical-align: top;\n    }\n\n    .dataframe thead th {\n        text-align: right;\n    }\n</style>\n<table border=\"1\" class=\"dataframe\">\n  <thead>\n    <tr style=\"text-align: right;\">\n      <th></th>\n      <th>var1</th>\n      <th>var2</th>\n      <th>var3</th>\n      <th>var4</th>\n      <th>var5</th>\n    </tr>\n  </thead>\n  <tbody>\n    <tr>\n      <th>0</th>\n      <td>1</td>\n      <td>3</td>\n      <td>5</td>\n      <td>7</td>\n      <td>9</td>\n    </tr>\n    <tr>\n      <th>1</th>\n      <td>11</td>\n      <td>13</td>\n      <td>15</td>\n      <td>17</td>\n      <td>19</td>\n    </tr>\n    <tr>\n      <th>2</th>\n      <td>21</td>\n      <td>23</td>\n      <td>25</td>\n      <td>27</td>\n      <td>29</td>\n    </tr>\n    <tr>\n      <th>3</th>\n      <td>31</td>\n      <td>33</td>\n      <td>35</td>\n      <td>37</td>\n      <td>39</td>\n    </tr>\n    <tr>\n      <th>4</th>\n      <td>41</td>\n      <td>43</td>\n      <td>45</td>\n      <td>47</td>\n      <td>49</td>\n    </tr>\n    <tr>\n      <th>5</th>\n      <td>51</td>\n      <td>53</td>\n      <td>55</td>\n      <td>57</td>\n      <td>59</td>\n    </tr>\n    <tr>\n      <th>6</th>\n      <td>61</td>\n      <td>63</td>\n      <td>65</td>\n      <td>67</td>\n      <td>69</td>\n    </tr>\n    <tr>\n      <th>7</th>\n      <td>71</td>\n      <td>73</td>\n      <td>75</td>\n      <td>77</td>\n      <td>79</td>\n    </tr>\n    <tr>\n      <th>8</th>\n      <td>81</td>\n      <td>83</td>\n      <td>85</td>\n      <td>87</td>\n      <td>89</td>\n    </tr>\n    <tr>\n      <th>9</th>\n      <td>91</td>\n      <td>93</td>\n      <td>95</td>\n      <td>97</td>\n      <td>99</td>\n    </tr>\n  </tbody>\n</table>\n</div>"
     },
     "execution_count": 33,
     "metadata": {},
     "output_type": "execute_result"
    }
   ],
   "source": [
    "# Creating an array that has 10 rows and 5 columns\n",
    "array1 = np.arange(1,100,2).reshape(10,5)\n",
    "\n",
    "# Creating DataFrame and using 'columns' argument to assign names to the columns in DF\n",
    "df = pd.DataFrame(array1, columns=['var1','var2','var3','var4','var5'])\n",
    "df"
   ]
  },
  {
   "cell_type": "markdown",
   "metadata": {},
   "source": [
    "We can also import a dataframe from an existing url that contains a csv file. For this example, we will be importing a csv file from the New York Times containing COVID-19 related cases. [Here](https://www.nytimes.com/interactive/2021/us/covid-cases.html) is the article showing COVID trends online, and [here](https://github.com/nytimes/covid-19-data) is the github repository where this dataset was found. Pandas supports reading different types of files. Here are some examples of those:\n",
    "\n",
    "* `pd.read_csv()` - reads csv files\n",
    "* `pd.read_excel()` - reads excel files\n",
    "* `pd.read_stata()` - reads stata files\n",
    "* `pd.read_sql()` - reads sql database files"
   ]
  },
  {
   "cell_type": "code",
   "execution_count": 34,
   "metadata": {},
   "outputs": [
    {
     "data": {
      "text/plain": "             date          state  fips    cases  deaths\n0      2020-01-21     Washington    53        1       0\n1      2020-01-22     Washington    53        1       0\n2      2020-01-23     Washington    53        1       0\n3      2020-01-24       Illinois    17        1       0\n4      2020-01-24     Washington    53        1       0\n...           ...            ...   ...      ...     ...\n61937  2023-03-23       Virginia    51  2298300   23782\n61938  2023-03-23     Washington    53  1940704   15905\n61939  2023-03-23  West Virginia    54   645710    8132\n61940  2023-03-23      Wisconsin    55  2014524   16485\n61941  2023-03-23        Wyoming    56   185800    2014\n\n[61942 rows x 5 columns]",
      "text/html": "<div>\n<style scoped>\n    .dataframe tbody tr th:only-of-type {\n        vertical-align: middle;\n    }\n\n    .dataframe tbody tr th {\n        vertical-align: top;\n    }\n\n    .dataframe thead th {\n        text-align: right;\n    }\n</style>\n<table border=\"1\" class=\"dataframe\">\n  <thead>\n    <tr style=\"text-align: right;\">\n      <th></th>\n      <th>date</th>\n      <th>state</th>\n      <th>fips</th>\n      <th>cases</th>\n      <th>deaths</th>\n    </tr>\n  </thead>\n  <tbody>\n    <tr>\n      <th>0</th>\n      <td>2020-01-21</td>\n      <td>Washington</td>\n      <td>53</td>\n      <td>1</td>\n      <td>0</td>\n    </tr>\n    <tr>\n      <th>1</th>\n      <td>2020-01-22</td>\n      <td>Washington</td>\n      <td>53</td>\n      <td>1</td>\n      <td>0</td>\n    </tr>\n    <tr>\n      <th>2</th>\n      <td>2020-01-23</td>\n      <td>Washington</td>\n      <td>53</td>\n      <td>1</td>\n      <td>0</td>\n    </tr>\n    <tr>\n      <th>3</th>\n      <td>2020-01-24</td>\n      <td>Illinois</td>\n      <td>17</td>\n      <td>1</td>\n      <td>0</td>\n    </tr>\n    <tr>\n      <th>4</th>\n      <td>2020-01-24</td>\n      <td>Washington</td>\n      <td>53</td>\n      <td>1</td>\n      <td>0</td>\n    </tr>\n    <tr>\n      <th>...</th>\n      <td>...</td>\n      <td>...</td>\n      <td>...</td>\n      <td>...</td>\n      <td>...</td>\n    </tr>\n    <tr>\n      <th>61937</th>\n      <td>2023-03-23</td>\n      <td>Virginia</td>\n      <td>51</td>\n      <td>2298300</td>\n      <td>23782</td>\n    </tr>\n    <tr>\n      <th>61938</th>\n      <td>2023-03-23</td>\n      <td>Washington</td>\n      <td>53</td>\n      <td>1940704</td>\n      <td>15905</td>\n    </tr>\n    <tr>\n      <th>61939</th>\n      <td>2023-03-23</td>\n      <td>West Virginia</td>\n      <td>54</td>\n      <td>645710</td>\n      <td>8132</td>\n    </tr>\n    <tr>\n      <th>61940</th>\n      <td>2023-03-23</td>\n      <td>Wisconsin</td>\n      <td>55</td>\n      <td>2014524</td>\n      <td>16485</td>\n    </tr>\n    <tr>\n      <th>61941</th>\n      <td>2023-03-23</td>\n      <td>Wyoming</td>\n      <td>56</td>\n      <td>185800</td>\n      <td>2014</td>\n    </tr>\n  </tbody>\n</table>\n<p>61942 rows × 5 columns</p>\n</div>"
     },
     "execution_count": 34,
     "metadata": {},
     "output_type": "execute_result"
    }
   ],
   "source": [
    "# Reading dataframe from a link online\n",
    "df = pd.read_csv('https://raw.githubusercontent.com/nytimes/covid-19-data/master/us-states.csv')\n",
    "df"
   ]
  },
  {
   "cell_type": "markdown",
   "metadata": {},
   "source": [
    "### 1.3.3 Indexing DataFrames <br>\n",
    "\n",
    "Indexing data from a DataFrame can be done in two ways. The first way is to index a DataFrame by calling the name of the variable with the choice of setting a condition."
   ]
  },
  {
   "cell_type": "code",
   "execution_count": 35,
   "metadata": {},
   "outputs": [
    {
     "data": {
      "text/plain": "0           Washington\n1           Washington\n2           Washington\n3             Illinois\n4           Washington\n             ...      \n61937         Virginia\n61938       Washington\n61939    West Virginia\n61940        Wisconsin\n61941          Wyoming\nName: state, Length: 61942, dtype: object"
     },
     "execution_count": 35,
     "metadata": {},
     "output_type": "execute_result"
    }
   ],
   "source": [
    "# Indexing DataFrame to only give us data on the states\n",
    "df['state']"
   ]
  },
  {
   "cell_type": "code",
   "execution_count": 36,
   "metadata": {},
   "outputs": [
    {
     "data": {
      "text/plain": "               state    cases\n0         Washington        1\n1         Washington        1\n2         Washington        1\n3           Illinois        1\n4         Washington        1\n...              ...      ...\n61937       Virginia  2298300\n61938     Washington  1940704\n61939  West Virginia   645710\n61940      Wisconsin  2014524\n61941        Wyoming   185800\n\n[61942 rows x 2 columns]",
      "text/html": "<div>\n<style scoped>\n    .dataframe tbody tr th:only-of-type {\n        vertical-align: middle;\n    }\n\n    .dataframe tbody tr th {\n        vertical-align: top;\n    }\n\n    .dataframe thead th {\n        text-align: right;\n    }\n</style>\n<table border=\"1\" class=\"dataframe\">\n  <thead>\n    <tr style=\"text-align: right;\">\n      <th></th>\n      <th>state</th>\n      <th>cases</th>\n    </tr>\n  </thead>\n  <tbody>\n    <tr>\n      <th>0</th>\n      <td>Washington</td>\n      <td>1</td>\n    </tr>\n    <tr>\n      <th>1</th>\n      <td>Washington</td>\n      <td>1</td>\n    </tr>\n    <tr>\n      <th>2</th>\n      <td>Washington</td>\n      <td>1</td>\n    </tr>\n    <tr>\n      <th>3</th>\n      <td>Illinois</td>\n      <td>1</td>\n    </tr>\n    <tr>\n      <th>4</th>\n      <td>Washington</td>\n      <td>1</td>\n    </tr>\n    <tr>\n      <th>...</th>\n      <td>...</td>\n      <td>...</td>\n    </tr>\n    <tr>\n      <th>61937</th>\n      <td>Virginia</td>\n      <td>2298300</td>\n    </tr>\n    <tr>\n      <th>61938</th>\n      <td>Washington</td>\n      <td>1940704</td>\n    </tr>\n    <tr>\n      <th>61939</th>\n      <td>West Virginia</td>\n      <td>645710</td>\n    </tr>\n    <tr>\n      <th>61940</th>\n      <td>Wisconsin</td>\n      <td>2014524</td>\n    </tr>\n    <tr>\n      <th>61941</th>\n      <td>Wyoming</td>\n      <td>185800</td>\n    </tr>\n  </tbody>\n</table>\n<p>61942 rows × 2 columns</p>\n</div>"
     },
     "execution_count": 36,
     "metadata": {},
     "output_type": "execute_result"
    }
   ],
   "source": [
    "# Indexing DataFrame to only give us data on the states and cases\n",
    "# When indexing multiple variables, we need to include a second set of brackets\n",
    "df[['state','cases']]"
   ]
  },
  {
   "cell_type": "code",
   "execution_count": 37,
   "metadata": {},
   "outputs": [
    {
     "data": {
      "text/plain": "          date       state  fips  cases  deaths\n10  2020-01-26    Illinois    17      1       0\n11  2020-01-26  Washington    53      1       0\n12  2020-01-27     Arizona     4      1       0\n13  2020-01-27  California     6      2       0\n14  2020-01-27    Illinois    17      1       0\n15  2020-01-27  Washington    53      1       0\n16  2020-01-28     Arizona     4      1       0\n17  2020-01-28  California     6      2       0\n18  2020-01-28    Illinois    17      1       0\n19  2020-01-28  Washington    53      1       0",
      "text/html": "<div>\n<style scoped>\n    .dataframe tbody tr th:only-of-type {\n        vertical-align: middle;\n    }\n\n    .dataframe tbody tr th {\n        vertical-align: top;\n    }\n\n    .dataframe thead th {\n        text-align: right;\n    }\n</style>\n<table border=\"1\" class=\"dataframe\">\n  <thead>\n    <tr style=\"text-align: right;\">\n      <th></th>\n      <th>date</th>\n      <th>state</th>\n      <th>fips</th>\n      <th>cases</th>\n      <th>deaths</th>\n    </tr>\n  </thead>\n  <tbody>\n    <tr>\n      <th>10</th>\n      <td>2020-01-26</td>\n      <td>Illinois</td>\n      <td>17</td>\n      <td>1</td>\n      <td>0</td>\n    </tr>\n    <tr>\n      <th>11</th>\n      <td>2020-01-26</td>\n      <td>Washington</td>\n      <td>53</td>\n      <td>1</td>\n      <td>0</td>\n    </tr>\n    <tr>\n      <th>12</th>\n      <td>2020-01-27</td>\n      <td>Arizona</td>\n      <td>4</td>\n      <td>1</td>\n      <td>0</td>\n    </tr>\n    <tr>\n      <th>13</th>\n      <td>2020-01-27</td>\n      <td>California</td>\n      <td>6</td>\n      <td>2</td>\n      <td>0</td>\n    </tr>\n    <tr>\n      <th>14</th>\n      <td>2020-01-27</td>\n      <td>Illinois</td>\n      <td>17</td>\n      <td>1</td>\n      <td>0</td>\n    </tr>\n    <tr>\n      <th>15</th>\n      <td>2020-01-27</td>\n      <td>Washington</td>\n      <td>53</td>\n      <td>1</td>\n      <td>0</td>\n    </tr>\n    <tr>\n      <th>16</th>\n      <td>2020-01-28</td>\n      <td>Arizona</td>\n      <td>4</td>\n      <td>1</td>\n      <td>0</td>\n    </tr>\n    <tr>\n      <th>17</th>\n      <td>2020-01-28</td>\n      <td>California</td>\n      <td>6</td>\n      <td>2</td>\n      <td>0</td>\n    </tr>\n    <tr>\n      <th>18</th>\n      <td>2020-01-28</td>\n      <td>Illinois</td>\n      <td>17</td>\n      <td>1</td>\n      <td>0</td>\n    </tr>\n    <tr>\n      <th>19</th>\n      <td>2020-01-28</td>\n      <td>Washington</td>\n      <td>53</td>\n      <td>1</td>\n      <td>0</td>\n    </tr>\n  </tbody>\n</table>\n</div>"
     },
     "execution_count": 37,
     "metadata": {},
     "output_type": "execute_result"
    }
   ],
   "source": [
    "# Indexing DataFrame by slicing/telling Python to get specific rows\n",
    "df[10:20]"
   ]
  },
  {
   "cell_type": "markdown",
   "metadata": {},
   "source": [
    "### 1.3.4 Subsetting DataFrames <br>\n",
    "\n",
    "Sometimes, we might only be interested in a particular subset of a DataFrame. Like in R, Pandas allows us to subset data from a DataFrame."
   ]
  },
  {
   "cell_type": "code",
   "execution_count": 38,
   "metadata": {},
   "outputs": [
    {
     "data": {
      "text/plain": "             date       state  fips     cases  deaths\n5      2020-01-25  California     6         1       0\n9      2020-01-26  California     6         2       0\n13     2020-01-27  California     6         2       0\n17     2020-01-28  California     6         2       0\n21     2020-01-29  California     6         2       0\n...           ...         ...   ...       ...     ...\n61667  2023-03-19  California     6  12153083  104130\n61723  2023-03-20  California     6  12154293  104165\n61779  2023-03-21  California     6  12154941  104185\n61835  2023-03-22  California     6  12155467  104196\n61891  2023-03-23  California     6  12169158  104277\n\n[1154 rows x 5 columns]",
      "text/html": "<div>\n<style scoped>\n    .dataframe tbody tr th:only-of-type {\n        vertical-align: middle;\n    }\n\n    .dataframe tbody tr th {\n        vertical-align: top;\n    }\n\n    .dataframe thead th {\n        text-align: right;\n    }\n</style>\n<table border=\"1\" class=\"dataframe\">\n  <thead>\n    <tr style=\"text-align: right;\">\n      <th></th>\n      <th>date</th>\n      <th>state</th>\n      <th>fips</th>\n      <th>cases</th>\n      <th>deaths</th>\n    </tr>\n  </thead>\n  <tbody>\n    <tr>\n      <th>5</th>\n      <td>2020-01-25</td>\n      <td>California</td>\n      <td>6</td>\n      <td>1</td>\n      <td>0</td>\n    </tr>\n    <tr>\n      <th>9</th>\n      <td>2020-01-26</td>\n      <td>California</td>\n      <td>6</td>\n      <td>2</td>\n      <td>0</td>\n    </tr>\n    <tr>\n      <th>13</th>\n      <td>2020-01-27</td>\n      <td>California</td>\n      <td>6</td>\n      <td>2</td>\n      <td>0</td>\n    </tr>\n    <tr>\n      <th>17</th>\n      <td>2020-01-28</td>\n      <td>California</td>\n      <td>6</td>\n      <td>2</td>\n      <td>0</td>\n    </tr>\n    <tr>\n      <th>21</th>\n      <td>2020-01-29</td>\n      <td>California</td>\n      <td>6</td>\n      <td>2</td>\n      <td>0</td>\n    </tr>\n    <tr>\n      <th>...</th>\n      <td>...</td>\n      <td>...</td>\n      <td>...</td>\n      <td>...</td>\n      <td>...</td>\n    </tr>\n    <tr>\n      <th>61667</th>\n      <td>2023-03-19</td>\n      <td>California</td>\n      <td>6</td>\n      <td>12153083</td>\n      <td>104130</td>\n    </tr>\n    <tr>\n      <th>61723</th>\n      <td>2023-03-20</td>\n      <td>California</td>\n      <td>6</td>\n      <td>12154293</td>\n      <td>104165</td>\n    </tr>\n    <tr>\n      <th>61779</th>\n      <td>2023-03-21</td>\n      <td>California</td>\n      <td>6</td>\n      <td>12154941</td>\n      <td>104185</td>\n    </tr>\n    <tr>\n      <th>61835</th>\n      <td>2023-03-22</td>\n      <td>California</td>\n      <td>6</td>\n      <td>12155467</td>\n      <td>104196</td>\n    </tr>\n    <tr>\n      <th>61891</th>\n      <td>2023-03-23</td>\n      <td>California</td>\n      <td>6</td>\n      <td>12169158</td>\n      <td>104277</td>\n    </tr>\n  </tbody>\n</table>\n<p>1154 rows × 5 columns</p>\n</div>"
     },
     "execution_count": 38,
     "metadata": {},
     "output_type": "execute_result"
    }
   ],
   "source": [
    "# Subsetting DataFrame to only give us the states that are california and nothing else\n",
    "df[df['state']=='California']"
   ]
  },
  {
   "cell_type": "markdown",
   "metadata": {},
   "source": [
    "We can also subset a DataFrame on negative conditions. This can be done so using the tilde operator `~`. Here, we are telling Python to subset us the DataFrame so it does not include California."
   ]
  },
  {
   "cell_type": "code",
   "execution_count": 39,
   "metadata": {},
   "outputs": [
    {
     "data": {
      "text/plain": "             date          state  fips    cases  deaths\n0      2020-01-21     Washington    53        1       0\n1      2020-01-22     Washington    53        1       0\n2      2020-01-23     Washington    53        1       0\n3      2020-01-24       Illinois    17        1       0\n4      2020-01-24     Washington    53        1       0\n...           ...            ...   ...      ...     ...\n61937  2023-03-23       Virginia    51  2298300   23782\n61938  2023-03-23     Washington    53  1940704   15905\n61939  2023-03-23  West Virginia    54   645710    8132\n61940  2023-03-23      Wisconsin    55  2014524   16485\n61941  2023-03-23        Wyoming    56   185800    2014\n\n[60788 rows x 5 columns]",
      "text/html": "<div>\n<style scoped>\n    .dataframe tbody tr th:only-of-type {\n        vertical-align: middle;\n    }\n\n    .dataframe tbody tr th {\n        vertical-align: top;\n    }\n\n    .dataframe thead th {\n        text-align: right;\n    }\n</style>\n<table border=\"1\" class=\"dataframe\">\n  <thead>\n    <tr style=\"text-align: right;\">\n      <th></th>\n      <th>date</th>\n      <th>state</th>\n      <th>fips</th>\n      <th>cases</th>\n      <th>deaths</th>\n    </tr>\n  </thead>\n  <tbody>\n    <tr>\n      <th>0</th>\n      <td>2020-01-21</td>\n      <td>Washington</td>\n      <td>53</td>\n      <td>1</td>\n      <td>0</td>\n    </tr>\n    <tr>\n      <th>1</th>\n      <td>2020-01-22</td>\n      <td>Washington</td>\n      <td>53</td>\n      <td>1</td>\n      <td>0</td>\n    </tr>\n    <tr>\n      <th>2</th>\n      <td>2020-01-23</td>\n      <td>Washington</td>\n      <td>53</td>\n      <td>1</td>\n      <td>0</td>\n    </tr>\n    <tr>\n      <th>3</th>\n      <td>2020-01-24</td>\n      <td>Illinois</td>\n      <td>17</td>\n      <td>1</td>\n      <td>0</td>\n    </tr>\n    <tr>\n      <th>4</th>\n      <td>2020-01-24</td>\n      <td>Washington</td>\n      <td>53</td>\n      <td>1</td>\n      <td>0</td>\n    </tr>\n    <tr>\n      <th>...</th>\n      <td>...</td>\n      <td>...</td>\n      <td>...</td>\n      <td>...</td>\n      <td>...</td>\n    </tr>\n    <tr>\n      <th>61937</th>\n      <td>2023-03-23</td>\n      <td>Virginia</td>\n      <td>51</td>\n      <td>2298300</td>\n      <td>23782</td>\n    </tr>\n    <tr>\n      <th>61938</th>\n      <td>2023-03-23</td>\n      <td>Washington</td>\n      <td>53</td>\n      <td>1940704</td>\n      <td>15905</td>\n    </tr>\n    <tr>\n      <th>61939</th>\n      <td>2023-03-23</td>\n      <td>West Virginia</td>\n      <td>54</td>\n      <td>645710</td>\n      <td>8132</td>\n    </tr>\n    <tr>\n      <th>61940</th>\n      <td>2023-03-23</td>\n      <td>Wisconsin</td>\n      <td>55</td>\n      <td>2014524</td>\n      <td>16485</td>\n    </tr>\n    <tr>\n      <th>61941</th>\n      <td>2023-03-23</td>\n      <td>Wyoming</td>\n      <td>56</td>\n      <td>185800</td>\n      <td>2014</td>\n    </tr>\n  </tbody>\n</table>\n<p>60788 rows × 5 columns</p>\n</div>"
     },
     "execution_count": 39,
     "metadata": {},
     "output_type": "execute_result"
    }
   ],
   "source": [
    "# Subsetting DataFrame to only give us all the states except California\n",
    "df[~(df['state']=='California')]"
   ]
  },
  {
   "cell_type": "markdown",
   "metadata": {},
   "source": [
    "If you want to make a new DataFrame out of this subset, you simply need to store in a new object. Additionally, if you want to reset the index, you can use the `.reset_index()` function to make the index start from 0 in this newly subsetted DataFrame."
   ]
  },
  {
   "cell_type": "code",
   "execution_count": 40,
   "metadata": {},
   "outputs": [
    {
     "data": {
      "text/plain": "       index        date          state  fips    cases  deaths\n0          0  2020-01-21     Washington    53        1       0\n1          1  2020-01-22     Washington    53        1       0\n2          2  2020-01-23     Washington    53        1       0\n3          3  2020-01-24       Illinois    17        1       0\n4          4  2020-01-24     Washington    53        1       0\n...      ...         ...            ...   ...      ...     ...\n60783  61937  2023-03-23       Virginia    51  2298300   23782\n60784  61938  2023-03-23     Washington    53  1940704   15905\n60785  61939  2023-03-23  West Virginia    54   645710    8132\n60786  61940  2023-03-23      Wisconsin    55  2014524   16485\n60787  61941  2023-03-23        Wyoming    56   185800    2014\n\n[60788 rows x 6 columns]",
      "text/html": "<div>\n<style scoped>\n    .dataframe tbody tr th:only-of-type {\n        vertical-align: middle;\n    }\n\n    .dataframe tbody tr th {\n        vertical-align: top;\n    }\n\n    .dataframe thead th {\n        text-align: right;\n    }\n</style>\n<table border=\"1\" class=\"dataframe\">\n  <thead>\n    <tr style=\"text-align: right;\">\n      <th></th>\n      <th>index</th>\n      <th>date</th>\n      <th>state</th>\n      <th>fips</th>\n      <th>cases</th>\n      <th>deaths</th>\n    </tr>\n  </thead>\n  <tbody>\n    <tr>\n      <th>0</th>\n      <td>0</td>\n      <td>2020-01-21</td>\n      <td>Washington</td>\n      <td>53</td>\n      <td>1</td>\n      <td>0</td>\n    </tr>\n    <tr>\n      <th>1</th>\n      <td>1</td>\n      <td>2020-01-22</td>\n      <td>Washington</td>\n      <td>53</td>\n      <td>1</td>\n      <td>0</td>\n    </tr>\n    <tr>\n      <th>2</th>\n      <td>2</td>\n      <td>2020-01-23</td>\n      <td>Washington</td>\n      <td>53</td>\n      <td>1</td>\n      <td>0</td>\n    </tr>\n    <tr>\n      <th>3</th>\n      <td>3</td>\n      <td>2020-01-24</td>\n      <td>Illinois</td>\n      <td>17</td>\n      <td>1</td>\n      <td>0</td>\n    </tr>\n    <tr>\n      <th>4</th>\n      <td>4</td>\n      <td>2020-01-24</td>\n      <td>Washington</td>\n      <td>53</td>\n      <td>1</td>\n      <td>0</td>\n    </tr>\n    <tr>\n      <th>...</th>\n      <td>...</td>\n      <td>...</td>\n      <td>...</td>\n      <td>...</td>\n      <td>...</td>\n      <td>...</td>\n    </tr>\n    <tr>\n      <th>60783</th>\n      <td>61937</td>\n      <td>2023-03-23</td>\n      <td>Virginia</td>\n      <td>51</td>\n      <td>2298300</td>\n      <td>23782</td>\n    </tr>\n    <tr>\n      <th>60784</th>\n      <td>61938</td>\n      <td>2023-03-23</td>\n      <td>Washington</td>\n      <td>53</td>\n      <td>1940704</td>\n      <td>15905</td>\n    </tr>\n    <tr>\n      <th>60785</th>\n      <td>61939</td>\n      <td>2023-03-23</td>\n      <td>West Virginia</td>\n      <td>54</td>\n      <td>645710</td>\n      <td>8132</td>\n    </tr>\n    <tr>\n      <th>60786</th>\n      <td>61940</td>\n      <td>2023-03-23</td>\n      <td>Wisconsin</td>\n      <td>55</td>\n      <td>2014524</td>\n      <td>16485</td>\n    </tr>\n    <tr>\n      <th>60787</th>\n      <td>61941</td>\n      <td>2023-03-23</td>\n      <td>Wyoming</td>\n      <td>56</td>\n      <td>185800</td>\n      <td>2014</td>\n    </tr>\n  </tbody>\n</table>\n<p>60788 rows × 6 columns</p>\n</div>"
     },
     "execution_count": 40,
     "metadata": {},
     "output_type": "execute_result"
    }
   ],
   "source": [
    "df2 = df[~(df['state']=='California')].reset_index()\n",
    "df2"
   ]
  },
  {
   "cell_type": "markdown",
   "metadata": {},
   "source": [
    "#### Subsetting using the 'And' Operator\n",
    "\n",
    "What if you want to subset based on multiple conditions? You can by including the '&' operator and placing the conditions in their own separate parentheses. Here, we are interested in only seeing the days that California had over 500 cases."
   ]
  },
  {
   "cell_type": "code",
   "execution_count": 41,
   "metadata": {},
   "outputs": [
    {
     "data": {
      "text/plain": "      index        date       state  fips     cases  deaths\n0       746  2020-03-16  California     6       588      11\n1       799  2020-03-17  California     6       732      14\n2       853  2020-03-18  California     6       893      17\n3       907  2020-03-19  California     6      1067      19\n4       961  2020-03-20  California     6      1283      24\n...     ...         ...         ...   ...       ...     ...\n1098  61667  2023-03-19  California     6  12153083  104130\n1099  61723  2023-03-20  California     6  12154293  104165\n1100  61779  2023-03-21  California     6  12154941  104185\n1101  61835  2023-03-22  California     6  12155467  104196\n1102  61891  2023-03-23  California     6  12169158  104277\n\n[1103 rows x 6 columns]",
      "text/html": "<div>\n<style scoped>\n    .dataframe tbody tr th:only-of-type {\n        vertical-align: middle;\n    }\n\n    .dataframe tbody tr th {\n        vertical-align: top;\n    }\n\n    .dataframe thead th {\n        text-align: right;\n    }\n</style>\n<table border=\"1\" class=\"dataframe\">\n  <thead>\n    <tr style=\"text-align: right;\">\n      <th></th>\n      <th>index</th>\n      <th>date</th>\n      <th>state</th>\n      <th>fips</th>\n      <th>cases</th>\n      <th>deaths</th>\n    </tr>\n  </thead>\n  <tbody>\n    <tr>\n      <th>0</th>\n      <td>746</td>\n      <td>2020-03-16</td>\n      <td>California</td>\n      <td>6</td>\n      <td>588</td>\n      <td>11</td>\n    </tr>\n    <tr>\n      <th>1</th>\n      <td>799</td>\n      <td>2020-03-17</td>\n      <td>California</td>\n      <td>6</td>\n      <td>732</td>\n      <td>14</td>\n    </tr>\n    <tr>\n      <th>2</th>\n      <td>853</td>\n      <td>2020-03-18</td>\n      <td>California</td>\n      <td>6</td>\n      <td>893</td>\n      <td>17</td>\n    </tr>\n    <tr>\n      <th>3</th>\n      <td>907</td>\n      <td>2020-03-19</td>\n      <td>California</td>\n      <td>6</td>\n      <td>1067</td>\n      <td>19</td>\n    </tr>\n    <tr>\n      <th>4</th>\n      <td>961</td>\n      <td>2020-03-20</td>\n      <td>California</td>\n      <td>6</td>\n      <td>1283</td>\n      <td>24</td>\n    </tr>\n    <tr>\n      <th>...</th>\n      <td>...</td>\n      <td>...</td>\n      <td>...</td>\n      <td>...</td>\n      <td>...</td>\n      <td>...</td>\n    </tr>\n    <tr>\n      <th>1098</th>\n      <td>61667</td>\n      <td>2023-03-19</td>\n      <td>California</td>\n      <td>6</td>\n      <td>12153083</td>\n      <td>104130</td>\n    </tr>\n    <tr>\n      <th>1099</th>\n      <td>61723</td>\n      <td>2023-03-20</td>\n      <td>California</td>\n      <td>6</td>\n      <td>12154293</td>\n      <td>104165</td>\n    </tr>\n    <tr>\n      <th>1100</th>\n      <td>61779</td>\n      <td>2023-03-21</td>\n      <td>California</td>\n      <td>6</td>\n      <td>12154941</td>\n      <td>104185</td>\n    </tr>\n    <tr>\n      <th>1101</th>\n      <td>61835</td>\n      <td>2023-03-22</td>\n      <td>California</td>\n      <td>6</td>\n      <td>12155467</td>\n      <td>104196</td>\n    </tr>\n    <tr>\n      <th>1102</th>\n      <td>61891</td>\n      <td>2023-03-23</td>\n      <td>California</td>\n      <td>6</td>\n      <td>12169158</td>\n      <td>104277</td>\n    </tr>\n  </tbody>\n</table>\n<p>1103 rows × 6 columns</p>\n</div>"
     },
     "execution_count": 41,
     "metadata": {},
     "output_type": "execute_result"
    }
   ],
   "source": [
    "df = df[(df['state']=='California') & (df['cases']>500)].reset_index()\n",
    "df"
   ]
  },
  {
   "cell_type": "markdown",
   "metadata": {},
   "source": [
    "Likewise, we can use the tilde operator to ensure that we subset a DataFrame on several negative conditions"
   ]
  },
  {
   "cell_type": "code",
   "execution_count": 42,
   "metadata": {},
   "outputs": [
    {
     "data": {
      "text/plain": "      index        date           state  fips  cases  deaths\n0         0  2020-01-21      Washington    53      1       0\n1         1  2020-01-22      Washington    53      1       0\n2         2  2020-01-23      Washington    53      1       0\n3         3  2020-01-24        Illinois    17      1       0\n4         4  2020-01-24      Washington    53      1       0\n...     ...         ...             ...   ...    ...     ...\n2413  40664  2022-03-09  American Samoa    60    343       0\n2414  40720  2022-03-10  American Samoa    60    382       0\n2415  40776  2022-03-11  American Samoa    60    382       0\n2416  40832  2022-03-12  American Samoa    60    433       0\n2417  40888  2022-03-13  American Samoa    60    433       0\n\n[2418 rows x 6 columns]",
      "text/html": "<div>\n<style scoped>\n    .dataframe tbody tr th:only-of-type {\n        vertical-align: middle;\n    }\n\n    .dataframe tbody tr th {\n        vertical-align: top;\n    }\n\n    .dataframe thead th {\n        text-align: right;\n    }\n</style>\n<table border=\"1\" class=\"dataframe\">\n  <thead>\n    <tr style=\"text-align: right;\">\n      <th></th>\n      <th>index</th>\n      <th>date</th>\n      <th>state</th>\n      <th>fips</th>\n      <th>cases</th>\n      <th>deaths</th>\n    </tr>\n  </thead>\n  <tbody>\n    <tr>\n      <th>0</th>\n      <td>0</td>\n      <td>2020-01-21</td>\n      <td>Washington</td>\n      <td>53</td>\n      <td>1</td>\n      <td>0</td>\n    </tr>\n    <tr>\n      <th>1</th>\n      <td>1</td>\n      <td>2020-01-22</td>\n      <td>Washington</td>\n      <td>53</td>\n      <td>1</td>\n      <td>0</td>\n    </tr>\n    <tr>\n      <th>2</th>\n      <td>2</td>\n      <td>2020-01-23</td>\n      <td>Washington</td>\n      <td>53</td>\n      <td>1</td>\n      <td>0</td>\n    </tr>\n    <tr>\n      <th>3</th>\n      <td>3</td>\n      <td>2020-01-24</td>\n      <td>Illinois</td>\n      <td>17</td>\n      <td>1</td>\n      <td>0</td>\n    </tr>\n    <tr>\n      <th>4</th>\n      <td>4</td>\n      <td>2020-01-24</td>\n      <td>Washington</td>\n      <td>53</td>\n      <td>1</td>\n      <td>0</td>\n    </tr>\n    <tr>\n      <th>...</th>\n      <td>...</td>\n      <td>...</td>\n      <td>...</td>\n      <td>...</td>\n      <td>...</td>\n      <td>...</td>\n    </tr>\n    <tr>\n      <th>2413</th>\n      <td>40664</td>\n      <td>2022-03-09</td>\n      <td>American Samoa</td>\n      <td>60</td>\n      <td>343</td>\n      <td>0</td>\n    </tr>\n    <tr>\n      <th>2414</th>\n      <td>40720</td>\n      <td>2022-03-10</td>\n      <td>American Samoa</td>\n      <td>60</td>\n      <td>382</td>\n      <td>0</td>\n    </tr>\n    <tr>\n      <th>2415</th>\n      <td>40776</td>\n      <td>2022-03-11</td>\n      <td>American Samoa</td>\n      <td>60</td>\n      <td>382</td>\n      <td>0</td>\n    </tr>\n    <tr>\n      <th>2416</th>\n      <td>40832</td>\n      <td>2022-03-12</td>\n      <td>American Samoa</td>\n      <td>60</td>\n      <td>433</td>\n      <td>0</td>\n    </tr>\n    <tr>\n      <th>2417</th>\n      <td>40888</td>\n      <td>2022-03-13</td>\n      <td>American Samoa</td>\n      <td>60</td>\n      <td>433</td>\n      <td>0</td>\n    </tr>\n  </tbody>\n</table>\n<p>2418 rows × 6 columns</p>\n</div>"
     },
     "execution_count": 42,
     "metadata": {},
     "output_type": "execute_result"
    }
   ],
   "source": [
    "df = pd.read_csv('https://raw.githubusercontent.com/nytimes/covid-19-data/master/us-states.csv')\n",
    "\n",
    "# Subsetting DataFrame to include all states that are not CA and all cases under 500\n",
    "df = df[~(df['state']=='California') & ~(df['cases']>500)].reset_index()\n",
    "df"
   ]
  },
  {
   "cell_type": "markdown",
   "metadata": {},
   "source": [
    "#### Subsetting using the 'Or' Operator <br>\n",
    "\n",
    "Like '&', you can also use the '|' operator and Python will subset based on multiple conditions it has pertaining to one variable of interest. In this example, we are interested in subsetting the DataFrame so it keeps California and New York."
   ]
  },
  {
   "cell_type": "code",
   "execution_count": 43,
   "metadata": {},
   "outputs": [
    {
     "data": {
      "text/plain": "             date       state  fips     cases  deaths\n5      2020-01-25  California     6         1       0\n9      2020-01-26  California     6         2       0\n13     2020-01-27  California     6         2       0\n17     2020-01-28  California     6         2       0\n21     2020-01-29  California     6         2       0\n...           ...         ...   ...       ...     ...\n61808  2023-03-21    New York    36   6802990   79987\n61835  2023-03-22  California     6  12155467  104196\n61864  2023-03-22    New York    36   6803974   80138\n61891  2023-03-23  California     6  12169158  104277\n61920  2023-03-23    New York    36   6805271   80109\n\n[2272 rows x 5 columns]",
      "text/html": "<div>\n<style scoped>\n    .dataframe tbody tr th:only-of-type {\n        vertical-align: middle;\n    }\n\n    .dataframe tbody tr th {\n        vertical-align: top;\n    }\n\n    .dataframe thead th {\n        text-align: right;\n    }\n</style>\n<table border=\"1\" class=\"dataframe\">\n  <thead>\n    <tr style=\"text-align: right;\">\n      <th></th>\n      <th>date</th>\n      <th>state</th>\n      <th>fips</th>\n      <th>cases</th>\n      <th>deaths</th>\n    </tr>\n  </thead>\n  <tbody>\n    <tr>\n      <th>5</th>\n      <td>2020-01-25</td>\n      <td>California</td>\n      <td>6</td>\n      <td>1</td>\n      <td>0</td>\n    </tr>\n    <tr>\n      <th>9</th>\n      <td>2020-01-26</td>\n      <td>California</td>\n      <td>6</td>\n      <td>2</td>\n      <td>0</td>\n    </tr>\n    <tr>\n      <th>13</th>\n      <td>2020-01-27</td>\n      <td>California</td>\n      <td>6</td>\n      <td>2</td>\n      <td>0</td>\n    </tr>\n    <tr>\n      <th>17</th>\n      <td>2020-01-28</td>\n      <td>California</td>\n      <td>6</td>\n      <td>2</td>\n      <td>0</td>\n    </tr>\n    <tr>\n      <th>21</th>\n      <td>2020-01-29</td>\n      <td>California</td>\n      <td>6</td>\n      <td>2</td>\n      <td>0</td>\n    </tr>\n    <tr>\n      <th>...</th>\n      <td>...</td>\n      <td>...</td>\n      <td>...</td>\n      <td>...</td>\n      <td>...</td>\n    </tr>\n    <tr>\n      <th>61808</th>\n      <td>2023-03-21</td>\n      <td>New York</td>\n      <td>36</td>\n      <td>6802990</td>\n      <td>79987</td>\n    </tr>\n    <tr>\n      <th>61835</th>\n      <td>2023-03-22</td>\n      <td>California</td>\n      <td>6</td>\n      <td>12155467</td>\n      <td>104196</td>\n    </tr>\n    <tr>\n      <th>61864</th>\n      <td>2023-03-22</td>\n      <td>New York</td>\n      <td>36</td>\n      <td>6803974</td>\n      <td>80138</td>\n    </tr>\n    <tr>\n      <th>61891</th>\n      <td>2023-03-23</td>\n      <td>California</td>\n      <td>6</td>\n      <td>12169158</td>\n      <td>104277</td>\n    </tr>\n    <tr>\n      <th>61920</th>\n      <td>2023-03-23</td>\n      <td>New York</td>\n      <td>36</td>\n      <td>6805271</td>\n      <td>80109</td>\n    </tr>\n  </tbody>\n</table>\n<p>2272 rows × 5 columns</p>\n</div>"
     },
     "execution_count": 43,
     "metadata": {},
     "output_type": "execute_result"
    }
   ],
   "source": [
    "df = pd.read_csv('https://raw.githubusercontent.com/nytimes/covid-19-data/master/us-states.csv')\n",
    "\n",
    "df[(df['state']==\"California\") | (df['state']==\"New York\")]"
   ]
  },
  {
   "cell_type": "markdown",
   "metadata": {},
   "source": [
    "We can use the '|' operator to include more than two conditions from a variable. Here, we will keep four states."
   ]
  },
  {
   "cell_type": "code",
   "execution_count": 44,
   "metadata": {},
   "outputs": [
    {
     "data": {
      "text/plain": "             date       state  fips     cases  deaths\n0      2020-01-21  Washington    53         1       0\n1      2020-01-22  Washington    53         1       0\n2      2020-01-23  Washington    53         1       0\n4      2020-01-24  Washington    53         1       0\n5      2020-01-25  California     6         1       0\n...           ...         ...   ...       ...     ...\n61882  2023-03-22  Washington    53   1940704   15905\n61891  2023-03-23  California     6  12169158  104277\n61920  2023-03-23    New York    36   6805271   80109\n61933  2023-03-23       Texas    48   8447168   94518\n61938  2023-03-23  Washington    53   1940704   15905\n\n[4566 rows x 5 columns]",
      "text/html": "<div>\n<style scoped>\n    .dataframe tbody tr th:only-of-type {\n        vertical-align: middle;\n    }\n\n    .dataframe tbody tr th {\n        vertical-align: top;\n    }\n\n    .dataframe thead th {\n        text-align: right;\n    }\n</style>\n<table border=\"1\" class=\"dataframe\">\n  <thead>\n    <tr style=\"text-align: right;\">\n      <th></th>\n      <th>date</th>\n      <th>state</th>\n      <th>fips</th>\n      <th>cases</th>\n      <th>deaths</th>\n    </tr>\n  </thead>\n  <tbody>\n    <tr>\n      <th>0</th>\n      <td>2020-01-21</td>\n      <td>Washington</td>\n      <td>53</td>\n      <td>1</td>\n      <td>0</td>\n    </tr>\n    <tr>\n      <th>1</th>\n      <td>2020-01-22</td>\n      <td>Washington</td>\n      <td>53</td>\n      <td>1</td>\n      <td>0</td>\n    </tr>\n    <tr>\n      <th>2</th>\n      <td>2020-01-23</td>\n      <td>Washington</td>\n      <td>53</td>\n      <td>1</td>\n      <td>0</td>\n    </tr>\n    <tr>\n      <th>4</th>\n      <td>2020-01-24</td>\n      <td>Washington</td>\n      <td>53</td>\n      <td>1</td>\n      <td>0</td>\n    </tr>\n    <tr>\n      <th>5</th>\n      <td>2020-01-25</td>\n      <td>California</td>\n      <td>6</td>\n      <td>1</td>\n      <td>0</td>\n    </tr>\n    <tr>\n      <th>...</th>\n      <td>...</td>\n      <td>...</td>\n      <td>...</td>\n      <td>...</td>\n      <td>...</td>\n    </tr>\n    <tr>\n      <th>61882</th>\n      <td>2023-03-22</td>\n      <td>Washington</td>\n      <td>53</td>\n      <td>1940704</td>\n      <td>15905</td>\n    </tr>\n    <tr>\n      <th>61891</th>\n      <td>2023-03-23</td>\n      <td>California</td>\n      <td>6</td>\n      <td>12169158</td>\n      <td>104277</td>\n    </tr>\n    <tr>\n      <th>61920</th>\n      <td>2023-03-23</td>\n      <td>New York</td>\n      <td>36</td>\n      <td>6805271</td>\n      <td>80109</td>\n    </tr>\n    <tr>\n      <th>61933</th>\n      <td>2023-03-23</td>\n      <td>Texas</td>\n      <td>48</td>\n      <td>8447168</td>\n      <td>94518</td>\n    </tr>\n    <tr>\n      <th>61938</th>\n      <td>2023-03-23</td>\n      <td>Washington</td>\n      <td>53</td>\n      <td>1940704</td>\n      <td>15905</td>\n    </tr>\n  </tbody>\n</table>\n<p>4566 rows × 5 columns</p>\n</div>"
     },
     "execution_count": 44,
     "metadata": {},
     "output_type": "execute_result"
    }
   ],
   "source": [
    "df = pd.read_csv('https://raw.githubusercontent.com/nytimes/covid-19-data/master/us-states.csv')\n",
    "\n",
    "df[(df['state']==\"California\") | (df['state']==\"New York\") | (df['state']==\"Washington\") | (df['state']==\"Texas\")]"
   ]
  },
  {
   "cell_type": "markdown",
   "metadata": {},
   "source": [
    "### 1.3.5 Transforming DataFrames <br>\n",
    "\n",
    "Pandas allows us to make changes to DataFrames similar to how we can manipulate DataFrames in R. <br>\n",
    "\n",
    "<br>\n",
    "\n",
    "#### Creating/Replacing New Variables/Columns to DataFrame <br>\n",
    "\n",
    "The following code snippets shows different variations of adding a new variable to the existing DataFrame."
   ]
  },
  {
   "cell_type": "code",
   "execution_count": 45,
   "metadata": {},
   "outputs": [
    {
     "data": {
      "text/plain": "         date       state  fips  cases  deaths  death/case ratio\n0  2020-01-21  Washington    53      1       0                 0\n1  2020-01-22  Washington    53      1       0                 0\n2  2020-01-23  Washington    53      1       0                 0\n3  2020-01-24    Illinois    17      1       0                 0\n4  2020-01-24  Washington    53      1       0                 0",
      "text/html": "<div>\n<style scoped>\n    .dataframe tbody tr th:only-of-type {\n        vertical-align: middle;\n    }\n\n    .dataframe tbody tr th {\n        vertical-align: top;\n    }\n\n    .dataframe thead th {\n        text-align: right;\n    }\n</style>\n<table border=\"1\" class=\"dataframe\">\n  <thead>\n    <tr style=\"text-align: right;\">\n      <th></th>\n      <th>date</th>\n      <th>state</th>\n      <th>fips</th>\n      <th>cases</th>\n      <th>deaths</th>\n      <th>death/case ratio</th>\n    </tr>\n  </thead>\n  <tbody>\n    <tr>\n      <th>0</th>\n      <td>2020-01-21</td>\n      <td>Washington</td>\n      <td>53</td>\n      <td>1</td>\n      <td>0</td>\n      <td>0</td>\n    </tr>\n    <tr>\n      <th>1</th>\n      <td>2020-01-22</td>\n      <td>Washington</td>\n      <td>53</td>\n      <td>1</td>\n      <td>0</td>\n      <td>0</td>\n    </tr>\n    <tr>\n      <th>2</th>\n      <td>2020-01-23</td>\n      <td>Washington</td>\n      <td>53</td>\n      <td>1</td>\n      <td>0</td>\n      <td>0</td>\n    </tr>\n    <tr>\n      <th>3</th>\n      <td>2020-01-24</td>\n      <td>Illinois</td>\n      <td>17</td>\n      <td>1</td>\n      <td>0</td>\n      <td>0</td>\n    </tr>\n    <tr>\n      <th>4</th>\n      <td>2020-01-24</td>\n      <td>Washington</td>\n      <td>53</td>\n      <td>1</td>\n      <td>0</td>\n      <td>0</td>\n    </tr>\n  </tbody>\n</table>\n</div>"
     },
     "execution_count": 45,
     "metadata": {},
     "output_type": "execute_result"
    }
   ],
   "source": [
    "df = pd.read_csv('https://raw.githubusercontent.com/nytimes/covid-19-data/master/us-states.csv')\n",
    "\n",
    "# Creating a new variable\n",
    "df['death/case ratio'] = 0\n",
    "\n",
    "# Like in R, you can use the head() function to give you the first 5 observations\n",
    "df.head()"
   ]
  },
  {
   "cell_type": "code",
   "execution_count": 46,
   "metadata": {},
   "outputs": [
    {
     "data": {
      "text/plain": "             date          state  fips    cases  deaths  death/case ratio\n61937  2023-03-23       Virginia    51  2298300   23782          0.010348\n61938  2023-03-23     Washington    53  1940704   15905          0.008195\n61939  2023-03-23  West Virginia    54   645710    8132          0.012594\n61940  2023-03-23      Wisconsin    55  2014524   16485          0.008183\n61941  2023-03-23        Wyoming    56   185800    2014          0.010840",
      "text/html": "<div>\n<style scoped>\n    .dataframe tbody tr th:only-of-type {\n        vertical-align: middle;\n    }\n\n    .dataframe tbody tr th {\n        vertical-align: top;\n    }\n\n    .dataframe thead th {\n        text-align: right;\n    }\n</style>\n<table border=\"1\" class=\"dataframe\">\n  <thead>\n    <tr style=\"text-align: right;\">\n      <th></th>\n      <th>date</th>\n      <th>state</th>\n      <th>fips</th>\n      <th>cases</th>\n      <th>deaths</th>\n      <th>death/case ratio</th>\n    </tr>\n  </thead>\n  <tbody>\n    <tr>\n      <th>61937</th>\n      <td>2023-03-23</td>\n      <td>Virginia</td>\n      <td>51</td>\n      <td>2298300</td>\n      <td>23782</td>\n      <td>0.010348</td>\n    </tr>\n    <tr>\n      <th>61938</th>\n      <td>2023-03-23</td>\n      <td>Washington</td>\n      <td>53</td>\n      <td>1940704</td>\n      <td>15905</td>\n      <td>0.008195</td>\n    </tr>\n    <tr>\n      <th>61939</th>\n      <td>2023-03-23</td>\n      <td>West Virginia</td>\n      <td>54</td>\n      <td>645710</td>\n      <td>8132</td>\n      <td>0.012594</td>\n    </tr>\n    <tr>\n      <th>61940</th>\n      <td>2023-03-23</td>\n      <td>Wisconsin</td>\n      <td>55</td>\n      <td>2014524</td>\n      <td>16485</td>\n      <td>0.008183</td>\n    </tr>\n    <tr>\n      <th>61941</th>\n      <td>2023-03-23</td>\n      <td>Wyoming</td>\n      <td>56</td>\n      <td>185800</td>\n      <td>2014</td>\n      <td>0.010840</td>\n    </tr>\n  </tbody>\n</table>\n</div>"
     },
     "execution_count": 46,
     "metadata": {},
     "output_type": "execute_result"
    }
   ],
   "source": [
    "# Creating a new variable/replacing a current one with new values; in this case, we will create a variable that calculates the ratio of deaths to cases\n",
    "# Python will calculate what you want it to and will do it per row\n",
    "df['death/case ratio'] = (df['deaths']/df['cases'])\n",
    "\n",
    "# Like in R, you can use the tail() function to get the last 5 observations\n",
    "df.tail()"
   ]
  },
  {
   "cell_type": "code",
   "execution_count": 47,
   "metadata": {},
   "outputs": [
    {
     "data": {
      "text/plain": "         date       state  fips  cases  deaths  death/case ratio\n0        1000        1000  1000   1000    1000            1000.0\n1        1000        1000  1000   1000    1000            1000.0\n2        1000        1000  1000   1000    1000            1000.0\n3  2020-01-24    Illinois    17      1       0               0.0\n4  2020-01-24  Washington    53      1       0               0.0",
      "text/html": "<div>\n<style scoped>\n    .dataframe tbody tr th:only-of-type {\n        vertical-align: middle;\n    }\n\n    .dataframe tbody tr th {\n        vertical-align: top;\n    }\n\n    .dataframe thead th {\n        text-align: right;\n    }\n</style>\n<table border=\"1\" class=\"dataframe\">\n  <thead>\n    <tr style=\"text-align: right;\">\n      <th></th>\n      <th>date</th>\n      <th>state</th>\n      <th>fips</th>\n      <th>cases</th>\n      <th>deaths</th>\n      <th>death/case ratio</th>\n    </tr>\n  </thead>\n  <tbody>\n    <tr>\n      <th>0</th>\n      <td>1000</td>\n      <td>1000</td>\n      <td>1000</td>\n      <td>1000</td>\n      <td>1000</td>\n      <td>1000.0</td>\n    </tr>\n    <tr>\n      <th>1</th>\n      <td>1000</td>\n      <td>1000</td>\n      <td>1000</td>\n      <td>1000</td>\n      <td>1000</td>\n      <td>1000.0</td>\n    </tr>\n    <tr>\n      <th>2</th>\n      <td>1000</td>\n      <td>1000</td>\n      <td>1000</td>\n      <td>1000</td>\n      <td>1000</td>\n      <td>1000.0</td>\n    </tr>\n    <tr>\n      <th>3</th>\n      <td>2020-01-24</td>\n      <td>Illinois</td>\n      <td>17</td>\n      <td>1</td>\n      <td>0</td>\n      <td>0.0</td>\n    </tr>\n    <tr>\n      <th>4</th>\n      <td>2020-01-24</td>\n      <td>Washington</td>\n      <td>53</td>\n      <td>1</td>\n      <td>0</td>\n      <td>0.0</td>\n    </tr>\n  </tbody>\n</table>\n</div>"
     },
     "execution_count": 47,
     "metadata": {},
     "output_type": "execute_result"
    }
   ],
   "source": [
    "# Replacing observations from DataFrame across all columns from the 0th to 2nd observation\n",
    "# Copying a df using the copy(); this ensures that changes are not affected across all dataframes\n",
    "df2 = df.copy()\n",
    "\n",
    "# Telling Python to replace all columns from the 0th row to the 2nd with 1000\n",
    "df2.iloc[0:3,:]=1000\n",
    "\n",
    "df2.head()"
   ]
  },
  {
   "cell_type": "code",
   "execution_count": 48,
   "metadata": {},
   "outputs": [
    {
     "data": {
      "text/plain": "         date       state  fips  cases  deaths  death/case ratio\n0   DataFrame   DataFrame  1000   1000    1000            1000.0\n1   DataFrame   DataFrame  1000   1000    1000            1000.0\n2   DataFrame   DataFrame  1000   1000    1000            1000.0\n3  2020-01-24    Illinois    17      1       0               0.0\n4  2020-01-24  Washington    53      1       0               0.0",
      "text/html": "<div>\n<style scoped>\n    .dataframe tbody tr th:only-of-type {\n        vertical-align: middle;\n    }\n\n    .dataframe tbody tr th {\n        vertical-align: top;\n    }\n\n    .dataframe thead th {\n        text-align: right;\n    }\n</style>\n<table border=\"1\" class=\"dataframe\">\n  <thead>\n    <tr style=\"text-align: right;\">\n      <th></th>\n      <th>date</th>\n      <th>state</th>\n      <th>fips</th>\n      <th>cases</th>\n      <th>deaths</th>\n      <th>death/case ratio</th>\n    </tr>\n  </thead>\n  <tbody>\n    <tr>\n      <th>0</th>\n      <td>DataFrame</td>\n      <td>DataFrame</td>\n      <td>1000</td>\n      <td>1000</td>\n      <td>1000</td>\n      <td>1000.0</td>\n    </tr>\n    <tr>\n      <th>1</th>\n      <td>DataFrame</td>\n      <td>DataFrame</td>\n      <td>1000</td>\n      <td>1000</td>\n      <td>1000</td>\n      <td>1000.0</td>\n    </tr>\n    <tr>\n      <th>2</th>\n      <td>DataFrame</td>\n      <td>DataFrame</td>\n      <td>1000</td>\n      <td>1000</td>\n      <td>1000</td>\n      <td>1000.0</td>\n    </tr>\n    <tr>\n      <th>3</th>\n      <td>2020-01-24</td>\n      <td>Illinois</td>\n      <td>17</td>\n      <td>1</td>\n      <td>0</td>\n      <td>0.0</td>\n    </tr>\n    <tr>\n      <th>4</th>\n      <td>2020-01-24</td>\n      <td>Washington</td>\n      <td>53</td>\n      <td>1</td>\n      <td>0</td>\n      <td>0.0</td>\n    </tr>\n  </tbody>\n</table>\n</div>"
     },
     "execution_count": 48,
     "metadata": {},
     "output_type": "execute_result"
    }
   ],
   "source": [
    "# Telling Python to replace first and second column from the 0th row to the 2nd with 1000\n",
    "df2.iloc[0:3,0:2]='DataFrame'\n",
    "\n",
    "df2.head()"
   ]
  },
  {
   "cell_type": "code",
   "execution_count": 49,
   "metadata": {},
   "outputs": [
    {
     "data": {
      "text/plain": "         date       state    fips  cases  deaths  death/case ratio\n0   DataFrame   DataFrame  Python   1000    1000            1000.0\n1   DataFrame   DataFrame  Python   1000    1000            1000.0\n2   DataFrame   DataFrame  Python   1000    1000            1000.0\n3  2020-01-24    Illinois  Python      1       0               0.0\n4  2020-01-24  Washington  Python      1       0               0.0",
      "text/html": "<div>\n<style scoped>\n    .dataframe tbody tr th:only-of-type {\n        vertical-align: middle;\n    }\n\n    .dataframe tbody tr th {\n        vertical-align: top;\n    }\n\n    .dataframe thead th {\n        text-align: right;\n    }\n</style>\n<table border=\"1\" class=\"dataframe\">\n  <thead>\n    <tr style=\"text-align: right;\">\n      <th></th>\n      <th>date</th>\n      <th>state</th>\n      <th>fips</th>\n      <th>cases</th>\n      <th>deaths</th>\n      <th>death/case ratio</th>\n    </tr>\n  </thead>\n  <tbody>\n    <tr>\n      <th>0</th>\n      <td>DataFrame</td>\n      <td>DataFrame</td>\n      <td>Python</td>\n      <td>1000</td>\n      <td>1000</td>\n      <td>1000.0</td>\n    </tr>\n    <tr>\n      <th>1</th>\n      <td>DataFrame</td>\n      <td>DataFrame</td>\n      <td>Python</td>\n      <td>1000</td>\n      <td>1000</td>\n      <td>1000.0</td>\n    </tr>\n    <tr>\n      <th>2</th>\n      <td>DataFrame</td>\n      <td>DataFrame</td>\n      <td>Python</td>\n      <td>1000</td>\n      <td>1000</td>\n      <td>1000.0</td>\n    </tr>\n    <tr>\n      <th>3</th>\n      <td>2020-01-24</td>\n      <td>Illinois</td>\n      <td>Python</td>\n      <td>1</td>\n      <td>0</td>\n      <td>0.0</td>\n    </tr>\n    <tr>\n      <th>4</th>\n      <td>2020-01-24</td>\n      <td>Washington</td>\n      <td>Python</td>\n      <td>1</td>\n      <td>0</td>\n      <td>0.0</td>\n    </tr>\n  </tbody>\n</table>\n</div>"
     },
     "execution_count": 49,
     "metadata": {},
     "output_type": "execute_result"
    }
   ],
   "source": [
    "# Telling Python to replace all observations in the fips column\n",
    "df2.loc[:,'fips']='Python'\n",
    "\n",
    "df2.head()"
   ]
  },
  {
   "cell_type": "markdown",
   "metadata": {},
   "source": [
    "#### Dropping/Deleting Variables/Columns to DataFrame <br>\n",
    "\n",
    "The following code snippets shows different variations of dropping variables from an existing DataFrame."
   ]
  },
  {
   "cell_type": "code",
   "execution_count": 50,
   "metadata": {},
   "outputs": [
    {
     "data": {
      "text/plain": "         date       state    fips  cases  deaths\n0   DataFrame   DataFrame  Python   1000    1000\n1   DataFrame   DataFrame  Python   1000    1000\n2   DataFrame   DataFrame  Python   1000    1000\n3  2020-01-24    Illinois  Python      1       0\n4  2020-01-24  Washington  Python      1       0",
      "text/html": "<div>\n<style scoped>\n    .dataframe tbody tr th:only-of-type {\n        vertical-align: middle;\n    }\n\n    .dataframe tbody tr th {\n        vertical-align: top;\n    }\n\n    .dataframe thead th {\n        text-align: right;\n    }\n</style>\n<table border=\"1\" class=\"dataframe\">\n  <thead>\n    <tr style=\"text-align: right;\">\n      <th></th>\n      <th>date</th>\n      <th>state</th>\n      <th>fips</th>\n      <th>cases</th>\n      <th>deaths</th>\n    </tr>\n  </thead>\n  <tbody>\n    <tr>\n      <th>0</th>\n      <td>DataFrame</td>\n      <td>DataFrame</td>\n      <td>Python</td>\n      <td>1000</td>\n      <td>1000</td>\n    </tr>\n    <tr>\n      <th>1</th>\n      <td>DataFrame</td>\n      <td>DataFrame</td>\n      <td>Python</td>\n      <td>1000</td>\n      <td>1000</td>\n    </tr>\n    <tr>\n      <th>2</th>\n      <td>DataFrame</td>\n      <td>DataFrame</td>\n      <td>Python</td>\n      <td>1000</td>\n      <td>1000</td>\n    </tr>\n    <tr>\n      <th>3</th>\n      <td>2020-01-24</td>\n      <td>Illinois</td>\n      <td>Python</td>\n      <td>1</td>\n      <td>0</td>\n    </tr>\n    <tr>\n      <th>4</th>\n      <td>2020-01-24</td>\n      <td>Washington</td>\n      <td>Python</td>\n      <td>1</td>\n      <td>0</td>\n    </tr>\n  </tbody>\n</table>\n</div>"
     },
     "execution_count": 50,
     "metadata": {},
     "output_type": "execute_result"
    }
   ],
   "source": [
    "## Dropping last variable, death/case ratio\n",
    "## Axis 1 is columns\n",
    "## Inplace True means that these changes will be reflected in the dataframe; False means it will only be reflected in the code snippet output\n",
    "df2.drop('death/case ratio', axis=1, inplace= True)\n",
    "df2.head()"
   ]
  },
  {
   "cell_type": "code",
   "execution_count": 51,
   "metadata": {},
   "outputs": [
    {
     "data": {
      "text/plain": "   index        date       state    fips  cases  deaths\n0      3  2020-01-24    Illinois  Python      1       0\n1      4  2020-01-24  Washington  Python      1       0\n2      5  2020-01-25  California  Python      1       0\n3      6  2020-01-25    Illinois  Python      1       0\n4      7  2020-01-25  Washington  Python      1       0",
      "text/html": "<div>\n<style scoped>\n    .dataframe tbody tr th:only-of-type {\n        vertical-align: middle;\n    }\n\n    .dataframe tbody tr th {\n        vertical-align: top;\n    }\n\n    .dataframe thead th {\n        text-align: right;\n    }\n</style>\n<table border=\"1\" class=\"dataframe\">\n  <thead>\n    <tr style=\"text-align: right;\">\n      <th></th>\n      <th>index</th>\n      <th>date</th>\n      <th>state</th>\n      <th>fips</th>\n      <th>cases</th>\n      <th>deaths</th>\n    </tr>\n  </thead>\n  <tbody>\n    <tr>\n      <th>0</th>\n      <td>3</td>\n      <td>2020-01-24</td>\n      <td>Illinois</td>\n      <td>Python</td>\n      <td>1</td>\n      <td>0</td>\n    </tr>\n    <tr>\n      <th>1</th>\n      <td>4</td>\n      <td>2020-01-24</td>\n      <td>Washington</td>\n      <td>Python</td>\n      <td>1</td>\n      <td>0</td>\n    </tr>\n    <tr>\n      <th>2</th>\n      <td>5</td>\n      <td>2020-01-25</td>\n      <td>California</td>\n      <td>Python</td>\n      <td>1</td>\n      <td>0</td>\n    </tr>\n    <tr>\n      <th>3</th>\n      <td>6</td>\n      <td>2020-01-25</td>\n      <td>Illinois</td>\n      <td>Python</td>\n      <td>1</td>\n      <td>0</td>\n    </tr>\n    <tr>\n      <th>4</th>\n      <td>7</td>\n      <td>2020-01-25</td>\n      <td>Washington</td>\n      <td>Python</td>\n      <td>1</td>\n      <td>0</td>\n    </tr>\n  </tbody>\n</table>\n</div>"
     },
     "execution_count": 51,
     "metadata": {},
     "output_type": "execute_result"
    }
   ],
   "source": [
    "## Dropping the first three rows\n",
    "## Axis is 0 for rows\n",
    "df2.drop([0,1,2], axis=0, inplace= True)\n",
    "df2 = df2.reset_index()\n",
    "df2.head()"
   ]
  },
  {
   "cell_type": "code",
   "execution_count": 52,
   "metadata": {},
   "outputs": [
    {
     "data": {
      "text/plain": "   level_0  index        date          state    fips  cases  deaths\n0       50     53  2020-02-05     California  Python      6       0\n1       51     54  2020-02-05       Illinois  Python      2       0\n2       52     55  2020-02-05  Massachusetts  Python      1       0\n3       53     56  2020-02-05     Washington  Python      1       0\n4       54     57  2020-02-05      Wisconsin  Python      1       0",
      "text/html": "<div>\n<style scoped>\n    .dataframe tbody tr th:only-of-type {\n        vertical-align: middle;\n    }\n\n    .dataframe tbody tr th {\n        vertical-align: top;\n    }\n\n    .dataframe thead th {\n        text-align: right;\n    }\n</style>\n<table border=\"1\" class=\"dataframe\">\n  <thead>\n    <tr style=\"text-align: right;\">\n      <th></th>\n      <th>level_0</th>\n      <th>index</th>\n      <th>date</th>\n      <th>state</th>\n      <th>fips</th>\n      <th>cases</th>\n      <th>deaths</th>\n    </tr>\n  </thead>\n  <tbody>\n    <tr>\n      <th>0</th>\n      <td>50</td>\n      <td>53</td>\n      <td>2020-02-05</td>\n      <td>California</td>\n      <td>Python</td>\n      <td>6</td>\n      <td>0</td>\n    </tr>\n    <tr>\n      <th>1</th>\n      <td>51</td>\n      <td>54</td>\n      <td>2020-02-05</td>\n      <td>Illinois</td>\n      <td>Python</td>\n      <td>2</td>\n      <td>0</td>\n    </tr>\n    <tr>\n      <th>2</th>\n      <td>52</td>\n      <td>55</td>\n      <td>2020-02-05</td>\n      <td>Massachusetts</td>\n      <td>Python</td>\n      <td>1</td>\n      <td>0</td>\n    </tr>\n    <tr>\n      <th>3</th>\n      <td>53</td>\n      <td>56</td>\n      <td>2020-02-05</td>\n      <td>Washington</td>\n      <td>Python</td>\n      <td>1</td>\n      <td>0</td>\n    </tr>\n    <tr>\n      <th>4</th>\n      <td>54</td>\n      <td>57</td>\n      <td>2020-02-05</td>\n      <td>Wisconsin</td>\n      <td>Python</td>\n      <td>1</td>\n      <td>0</td>\n    </tr>\n  </tbody>\n</table>\n</div>"
     },
     "execution_count": 52,
     "metadata": {},
     "output_type": "execute_result"
    }
   ],
   "source": [
    "## Dropping the first 50 rows\n",
    "## Axis is 0 for rows\n",
    "df2.drop(range(0,50), axis=0, inplace= True)\n",
    "df2 = df2.reset_index()\n",
    "df2.head()"
   ]
  },
  {
   "cell_type": "markdown",
   "metadata": {},
   "source": [
    "When we reset the index, the index that was in place, moves to the dataframe, so we must get rid of it."
   ]
  },
  {
   "cell_type": "code",
   "execution_count": 53,
   "metadata": {},
   "outputs": [
    {
     "data": {
      "text/plain": "         date          state    fips  cases  deaths\n0  2020-02-05     California  Python      6       0\n1  2020-02-05       Illinois  Python      2       0\n2  2020-02-05  Massachusetts  Python      1       0\n3  2020-02-05     Washington  Python      1       0\n4  2020-02-05      Wisconsin  Python      1       0",
      "text/html": "<div>\n<style scoped>\n    .dataframe tbody tr th:only-of-type {\n        vertical-align: middle;\n    }\n\n    .dataframe tbody tr th {\n        vertical-align: top;\n    }\n\n    .dataframe thead th {\n        text-align: right;\n    }\n</style>\n<table border=\"1\" class=\"dataframe\">\n  <thead>\n    <tr style=\"text-align: right;\">\n      <th></th>\n      <th>date</th>\n      <th>state</th>\n      <th>fips</th>\n      <th>cases</th>\n      <th>deaths</th>\n    </tr>\n  </thead>\n  <tbody>\n    <tr>\n      <th>0</th>\n      <td>2020-02-05</td>\n      <td>California</td>\n      <td>Python</td>\n      <td>6</td>\n      <td>0</td>\n    </tr>\n    <tr>\n      <th>1</th>\n      <td>2020-02-05</td>\n      <td>Illinois</td>\n      <td>Python</td>\n      <td>2</td>\n      <td>0</td>\n    </tr>\n    <tr>\n      <th>2</th>\n      <td>2020-02-05</td>\n      <td>Massachusetts</td>\n      <td>Python</td>\n      <td>1</td>\n      <td>0</td>\n    </tr>\n    <tr>\n      <th>3</th>\n      <td>2020-02-05</td>\n      <td>Washington</td>\n      <td>Python</td>\n      <td>1</td>\n      <td>0</td>\n    </tr>\n    <tr>\n      <th>4</th>\n      <td>2020-02-05</td>\n      <td>Wisconsin</td>\n      <td>Python</td>\n      <td>1</td>\n      <td>0</td>\n    </tr>\n  </tbody>\n</table>\n</div>"
     },
     "execution_count": 53,
     "metadata": {},
     "output_type": "execute_result"
    }
   ],
   "source": [
    "df2.drop(['level_0','index'], axis=1, inplace= True)\n",
    "df2.head()"
   ]
  },
  {
   "cell_type": "markdown",
   "metadata": {},
   "source": [
    "#### Changing Variable Data Types in DataFrame <br>\n",
    "\n",
    "Sometimes, you might need to change the type of a variable due to poor formatting or other reasons. Python allows us to change data types using the `.to_numeric()` or `.astype()` functions. The following code snippets shows different variations of changing data types."
   ]
  },
  {
   "cell_type": "markdown",
   "metadata": {},
   "source": [
    "To get a better sense of what data types we have within our DataFrame, we can use the `.dtypes` command to have Python give us this info for each variable. For this example, we will create a new variable that is a string and convert it to an integer."
   ]
  },
  {
   "cell_type": "code",
   "execution_count": 54,
   "metadata": {},
   "outputs": [
    {
     "data": {
      "text/plain": "date                 object\nstate                object\nfips                  int64\ncases                 int64\ndeaths                int64\ndeath/case ratio    float64\nvar7                 object\ndtype: object"
     },
     "execution_count": 54,
     "metadata": {},
     "output_type": "execute_result"
    }
   ],
   "source": [
    "df['var7'] = '0'\n",
    "\n",
    "df.dtypes"
   ]
  },
  {
   "cell_type": "markdown",
   "metadata": {},
   "source": [
    "We will change the 'var7' variable from an 'object' type to an 'integer' type."
   ]
  },
  {
   "cell_type": "code",
   "execution_count": 55,
   "metadata": {},
   "outputs": [
    {
     "data": {
      "text/plain": "date                 object\nstate                object\nfips                  int64\ncases                 int64\ndeaths                int64\ndeath/case ratio    float64\nvar7                  int64\ndtype: object"
     },
     "execution_count": 55,
     "metadata": {},
     "output_type": "execute_result"
    }
   ],
   "source": [
    "df['var7'] = df['var7'].astype(int)\n",
    "\n",
    "df.dtypes"
   ]
  },
  {
   "cell_type": "markdown",
   "metadata": {},
   "source": [
    "As you can see, the 'var7' we created is now an integer. We can also turn it back into a string."
   ]
  },
  {
   "cell_type": "code",
   "execution_count": 56,
   "metadata": {},
   "outputs": [
    {
     "data": {
      "text/plain": "date                 object\nstate                object\nfips                  int64\ncases                 int64\ndeaths                int64\ndeath/case ratio    float64\nvar7                 object\ndtype: object"
     },
     "execution_count": 56,
     "metadata": {},
     "output_type": "execute_result"
    }
   ],
   "source": [
    "df['var7'] = df['var7'].astype(str)\n",
    "\n",
    "df.dtypes"
   ]
  },
  {
   "cell_type": "markdown",
   "metadata": {},
   "source": [
    "In DataFrames, a string is categorized as an object, so we know that if it says object, then it is a string type. <br>\n",
    "\n",
    "<br>\n",
    "\n",
    "#### Sorting and Grouping Data <br>\n",
    "\n",
    "Sometimes, you might might want to organize your DataFrame by a particular variable or perform operations across groups. We can do this using the `.sort_values()` and `.groupby()` functions. The `.sort_values()` function can organize your DataFrame by columns of choice, and the `.groupby()` function can perform statistical operations by categorical groups. It can also tabulate data (similar to the `table()` function in R)."
   ]
  },
  {
   "cell_type": "code",
   "execution_count": 57,
   "metadata": {},
   "outputs": [
    {
     "data": {
      "text/plain": "             date    state  fips    cases  deaths  death/case ratio var7\n25974  2021-06-18  Alabama     1   548657   11306          0.020607    0\n22784  2021-04-21  Alabama     1   524367   10807          0.020610    0\n3424   2020-05-04  Alabama     1     8112     298          0.036736    0\n22839  2021-04-22  Alabama     1   525049   10824          0.020615    0\n39206  2022-02-11  Alabama     1  1259580   17505          0.013897    0",
      "text/html": "<div>\n<style scoped>\n    .dataframe tbody tr th:only-of-type {\n        vertical-align: middle;\n    }\n\n    .dataframe tbody tr th {\n        vertical-align: top;\n    }\n\n    .dataframe thead th {\n        text-align: right;\n    }\n</style>\n<table border=\"1\" class=\"dataframe\">\n  <thead>\n    <tr style=\"text-align: right;\">\n      <th></th>\n      <th>date</th>\n      <th>state</th>\n      <th>fips</th>\n      <th>cases</th>\n      <th>deaths</th>\n      <th>death/case ratio</th>\n      <th>var7</th>\n    </tr>\n  </thead>\n  <tbody>\n    <tr>\n      <th>25974</th>\n      <td>2021-06-18</td>\n      <td>Alabama</td>\n      <td>1</td>\n      <td>548657</td>\n      <td>11306</td>\n      <td>0.020607</td>\n      <td>0</td>\n    </tr>\n    <tr>\n      <th>22784</th>\n      <td>2021-04-21</td>\n      <td>Alabama</td>\n      <td>1</td>\n      <td>524367</td>\n      <td>10807</td>\n      <td>0.020610</td>\n      <td>0</td>\n    </tr>\n    <tr>\n      <th>3424</th>\n      <td>2020-05-04</td>\n      <td>Alabama</td>\n      <td>1</td>\n      <td>8112</td>\n      <td>298</td>\n      <td>0.036736</td>\n      <td>0</td>\n    </tr>\n    <tr>\n      <th>22839</th>\n      <td>2021-04-22</td>\n      <td>Alabama</td>\n      <td>1</td>\n      <td>525049</td>\n      <td>10824</td>\n      <td>0.020615</td>\n      <td>0</td>\n    </tr>\n    <tr>\n      <th>39206</th>\n      <td>2022-02-11</td>\n      <td>Alabama</td>\n      <td>1</td>\n      <td>1259580</td>\n      <td>17505</td>\n      <td>0.013897</td>\n      <td>0</td>\n    </tr>\n  </tbody>\n</table>\n</div>"
     },
     "execution_count": 57,
     "metadata": {},
     "output_type": "execute_result"
    }
   ],
   "source": [
    "# Group DataFrame by state in ascending order\n",
    "df.sort_values(by=['state'], inplace=True)\n",
    "\n",
    "df.head()"
   ]
  },
  {
   "cell_type": "code",
   "execution_count": 58,
   "metadata": {},
   "outputs": [
    {
     "data": {
      "text/plain": "             date    state  fips   cases  deaths  death/case ratio var7\n61941  2023-03-23  Wyoming    56  185800    2014          0.010840    0\n57741  2023-01-07  Wyoming    56  183151    1959          0.010696    0\n47213  2022-07-03  Wyoming    56  164456    1834          0.011152    0\n47661  2022-07-11  Wyoming    56  165619    1834          0.011074    0\n43629  2022-04-30  Wyoming    56  156550    1812          0.011575    0",
      "text/html": "<div>\n<style scoped>\n    .dataframe tbody tr th:only-of-type {\n        vertical-align: middle;\n    }\n\n    .dataframe tbody tr th {\n        vertical-align: top;\n    }\n\n    .dataframe thead th {\n        text-align: right;\n    }\n</style>\n<table border=\"1\" class=\"dataframe\">\n  <thead>\n    <tr style=\"text-align: right;\">\n      <th></th>\n      <th>date</th>\n      <th>state</th>\n      <th>fips</th>\n      <th>cases</th>\n      <th>deaths</th>\n      <th>death/case ratio</th>\n      <th>var7</th>\n    </tr>\n  </thead>\n  <tbody>\n    <tr>\n      <th>61941</th>\n      <td>2023-03-23</td>\n      <td>Wyoming</td>\n      <td>56</td>\n      <td>185800</td>\n      <td>2014</td>\n      <td>0.010840</td>\n      <td>0</td>\n    </tr>\n    <tr>\n      <th>57741</th>\n      <td>2023-01-07</td>\n      <td>Wyoming</td>\n      <td>56</td>\n      <td>183151</td>\n      <td>1959</td>\n      <td>0.010696</td>\n      <td>0</td>\n    </tr>\n    <tr>\n      <th>47213</th>\n      <td>2022-07-03</td>\n      <td>Wyoming</td>\n      <td>56</td>\n      <td>164456</td>\n      <td>1834</td>\n      <td>0.011152</td>\n      <td>0</td>\n    </tr>\n    <tr>\n      <th>47661</th>\n      <td>2022-07-11</td>\n      <td>Wyoming</td>\n      <td>56</td>\n      <td>165619</td>\n      <td>1834</td>\n      <td>0.011074</td>\n      <td>0</td>\n    </tr>\n    <tr>\n      <th>43629</th>\n      <td>2022-04-30</td>\n      <td>Wyoming</td>\n      <td>56</td>\n      <td>156550</td>\n      <td>1812</td>\n      <td>0.011575</td>\n      <td>0</td>\n    </tr>\n  </tbody>\n</table>\n</div>"
     },
     "execution_count": 58,
     "metadata": {},
     "output_type": "execute_result"
    }
   ],
   "source": [
    "# Group DataFrame by state in descending order\n",
    "df.sort_values(by=['state'], inplace=True, ascending=False)\n",
    "\n",
    "df.head()"
   ]
  },
  {
   "cell_type": "markdown",
   "metadata": {},
   "source": [
    "The `.groupby()` function can be used in combination with other statistical operations to get particular answers that we might have."
   ]
  },
  {
   "cell_type": "code",
   "execution_count": 59,
   "metadata": {},
   "outputs": [
    {
     "data": {
      "text/plain": "state\nAlabama                     1106\nAlaska                      1107\nAmerican Samoa               548\nArizona                     1153\nArkansas                    1108\nCalifornia                  1154\nColorado                    1114\nConnecticut                 1111\nDelaware                    1108\nDistrict of Columbia        1112\nFlorida                     1118\nGeorgia                     1117\nGuam                        1104\nHawaii                      1113\nIdaho                       1106\nIllinois                    1155\nIndiana                     1113\nIowa                        1111\nKansas                      1112\nKentucky                    1113\nLouisiana                   1110\nMaine                       1107\nMaryland                    1114\nMassachusetts               1147\nMichigan                    1109\nMinnesota                   1113\nMississippi                 1108\nMissouri                    1112\nMontana                     1106\nNebraska                    1131\nNevada                      1114\nNew Hampshire               1117\nNew Jersey                  1115\nNew Mexico                  1108\nNew York                    1118\nNorth Carolina              1116\nNorth Dakota                1108\nNorthern Mariana Islands    1091\nOhio                        1110\nOklahoma                    1113\nOregon                      1120\nPennsylvania                1113\nPuerto Rico                 1106\nRhode Island                1118\nSouth Carolina              1113\nSouth Dakota                1109\nTennessee                   1114\nTexas                       1136\nUtah                        1123\nVermont                     1112\nVirgin Islands              1105\nVirginia                    1112\nWashington                  1158\nWest Virginia               1102\nWisconsin                   1143\nWyoming                     1108\nName: fips, dtype: int64"
     },
     "execution_count": 59,
     "metadata": {},
     "output_type": "execute_result"
    }
   ],
   "source": [
    "# Grouping DataFrame by state and fips codes to get the total number of observations per state\n",
    "df.groupby(\"state\")['fips'].count()"
   ]
  },
  {
   "cell_type": "code",
   "execution_count": 60,
   "metadata": {},
   "outputs": [
    {
     "data": {
      "text/plain": "state\nAlabama                     13758382\nAlaska                        747325\nAmerican Samoa                 11048\nArizona                     21257570\nArkansas                     7905784\nCalifornia                  67503932\nColorado                     8976123\nConnecticut                  9082510\nDelaware                     2113929\nDistrict of Columbia         1160633\nFlorida                     52694427\nGeorgia                     25872159\nGuam                          239558\nHawaii                        945585\nIdaho                        3264273\nIllinois                    28833752\nIndiana                     16853649\nIowa                         6953414\nKansas                       6182474\nKentucky                    10223505\nLouisiana                   13259185\nMaine                        1464390\nMaryland                    11055992\nMassachusetts               18434286\nMichigan                    26110438\nMinnesota                    9306987\nMississippi                  9103032\nMissouri                    13875907\nMontana                      2246802\nNebraska                     3034055\nNevada                       7437941\nNew Hampshire                1777416\nNew Jersey                  28482863\nNew Mexico                   5393922\nNew York                    59061061\nNorth Carolina              17314387\nNorth Dakota                 1729703\nNorthern Mariana Islands       17462\nOhio                        25744838\nOklahoma                     9457851\nOregon                       4865473\nPennsylvania                32653246\nPuerto Rico                  3223949\nRhode Island                 2855775\nSouth Carolina              12543645\nSouth Dakota                 2159513\nTennessee                   17188151\nTexas                       62871518\nUtah                         3194695\nVermont                       434397\nVirgin Islands                 72839\nVirginia                    14102858\nWashington                   8960697\nWest Virginia                4434127\nWisconsin                   10004696\nWyoming                      1164870\nName: deaths, dtype: int64"
     },
     "execution_count": 60,
     "metadata": {},
     "output_type": "execute_result"
    }
   ],
   "source": [
    "# Grouping DataFrame by state and getting the sum of deaths\n",
    "df.groupby(\"state\")['deaths'].sum()"
   ]
  },
  {
   "cell_type": "code",
   "execution_count": 61,
   "metadata": {},
   "outputs": [
    {
     "data": {
      "text/plain": "state\nAlabama                      21631\nAlaska                        1438\nAmerican Samoa                  34\nArizona                      33190\nArkansas                     13068\nCalifornia                  104277\nColorado                     14245\nConnecticut                  12270\nDelaware                      3352\nDistrict of Columbia          1487\nFlorida                      87141\nGeorgia                      41055\nGuam                           421\nHawaii                        1851\nIdaho                         5456\nIllinois                     41618\nIndiana                      26179\nIowa                         10770\nKansas                       10232\nKentucky                     18348\nLouisiana                    18835\nMaine                         2981\nMaryland                     16672\nMassachusetts                24441\nMichigan                     42311\nMinnesota                    14964\nMississippi                  13431\nMissouri                     23998\nMontana                       3701\nNebraska                      5068\nNevada                       12093\nNew Hampshire                 3018\nNew Jersey                   36097\nNew Mexico                    9110\nNew York                     80138\nNorth Carolina               29746\nNorth Dakota                  2529\nNorthern Mariana Islands        41\nOhio                         42061\nOklahoma                     16549\nOregon                        9451\nPennsylvania                 50701\nPuerto Rico                   5848\nRhode Island                  3915\nSouth Carolina               20192\nSouth Dakota                  3222\nTennessee                    29035\nTexas                        94518\nUtah                          5316\nVermont                        939\nVirgin Islands                 130\nVirginia                     23782\nWashington                   15905\nWest Virginia                 8132\nWisconsin                    16485\nWyoming                       2014\nName: deaths, dtype: int64"
     },
     "execution_count": 61,
     "metadata": {},
     "output_type": "execute_result"
    }
   ],
   "source": [
    "# Grouping DataFrame by state and getting the maximum number of deaths per state\n",
    "df.groupby(\"state\")['deaths'].max()"
   ]
  },
  {
   "cell_type": "markdown",
   "metadata": {},
   "source": [
    "Let's group by state and year now. When working with time series data, we must always convert our date variables to a format that Python can interpret, 'datetime'. Using a code similar to converting data types, the function `pd.to_datetime()` allows us to convert an existing date variable into a datetime object. From there, we can extract specific parts of the date we are interested in. For this example, we will create a year variable out of the date variable we already have."
   ]
  },
  {
   "cell_type": "code",
   "execution_count": 62,
   "metadata": {},
   "outputs": [
    {
     "data": {
      "text/plain": "date                 object\nstate                object\nfips                  int64\ncases                 int64\ndeaths                int64\ndeath/case ratio    float64\nvar7                 object\ndtype: object"
     },
     "execution_count": 62,
     "metadata": {},
     "output_type": "execute_result"
    }
   ],
   "source": [
    "# Getting Data Types of our current DataFrame\n",
    "df.dtypes"
   ]
  },
  {
   "cell_type": "markdown",
   "metadata": {},
   "source": [
    "Our current data variable is categorized as an object, which does not allow us to use it for anything useful, let's convert it to datetime.'"
   ]
  },
  {
   "cell_type": "code",
   "execution_count": 63,
   "metadata": {},
   "outputs": [
    {
     "data": {
      "text/plain": "date                datetime64[ns]\nstate                       object\nfips                         int64\ncases                        int64\ndeaths                       int64\ndeath/case ratio           float64\nvar7                        object\ndtype: object"
     },
     "execution_count": 63,
     "metadata": {},
     "output_type": "execute_result"
    }
   ],
   "source": [
    "# Converting current date to datetime type\n",
    "df['date'] = pd.to_datetime(df['date'])\n",
    "\n",
    "df.dtypes"
   ]
  },
  {
   "cell_type": "markdown",
   "metadata": {},
   "source": [
    "Now that date is a datetime object, let's get a year variable out in order to group our DataFrame by state and year.'"
   ]
  },
  {
   "cell_type": "code",
   "execution_count": 64,
   "metadata": {},
   "outputs": [
    {
     "data": {
      "text/plain": "state      year\nAlabama    2020     526388\n           2021    4330518\n           2022    7146725\n           2023    1754751\nAlaska     2020      13147\n                    ...   \nWisconsin  2023    1330461\nWyoming    2020      20734\n           2021     316182\n           2022     664976\n           2023     162978\nName: deaths, Length: 223, dtype: int64"
     },
     "execution_count": 64,
     "metadata": {},
     "output_type": "execute_result"
    }
   ],
   "source": [
    "# Creating year variable out of the date variable\n",
    "df['year'] = df['date'].dt.year\n",
    "\n",
    "# Grouping by state and year to get sum of deaths per year\n",
    "df.groupby(['state','year'])['deaths'].sum()"
   ]
  },
  {
   "cell_type": "markdown",
   "metadata": {},
   "source": [
    "If we want to perform multiple statistical operations, we can use the `.agg()` command to tell Python to place them all in one output."
   ]
  },
  {
   "cell_type": "code",
   "execution_count": 65,
   "metadata": {},
   "outputs": [
    {
     "data": {
      "text/plain": "                    sum    max          mean\nstate     year                              \nAlabama   2020   526388   4827   1790.435374\n          2021  4330518  16455  11864.432877\n          2022  7146725  21208  19580.068493\n          2023  1754751  21631  21399.402439\nAlaska    2020    13147    198     44.566102\n...                 ...    ...           ...\nWisconsin 2023  1330461  16485  16225.134146\nWyoming   2020    20734    438     70.047297\n          2021   316182   1526    866.252055\n          2022   664976   1959   1821.852055\n          2023   162978   2014   1987.536585\n\n[223 rows x 3 columns]",
      "text/html": "<div>\n<style scoped>\n    .dataframe tbody tr th:only-of-type {\n        vertical-align: middle;\n    }\n\n    .dataframe tbody tr th {\n        vertical-align: top;\n    }\n\n    .dataframe thead th {\n        text-align: right;\n    }\n</style>\n<table border=\"1\" class=\"dataframe\">\n  <thead>\n    <tr style=\"text-align: right;\">\n      <th></th>\n      <th></th>\n      <th>sum</th>\n      <th>max</th>\n      <th>mean</th>\n    </tr>\n    <tr>\n      <th>state</th>\n      <th>year</th>\n      <th></th>\n      <th></th>\n      <th></th>\n    </tr>\n  </thead>\n  <tbody>\n    <tr>\n      <th rowspan=\"4\" valign=\"top\">Alabama</th>\n      <th>2020</th>\n      <td>526388</td>\n      <td>4827</td>\n      <td>1790.435374</td>\n    </tr>\n    <tr>\n      <th>2021</th>\n      <td>4330518</td>\n      <td>16455</td>\n      <td>11864.432877</td>\n    </tr>\n    <tr>\n      <th>2022</th>\n      <td>7146725</td>\n      <td>21208</td>\n      <td>19580.068493</td>\n    </tr>\n    <tr>\n      <th>2023</th>\n      <td>1754751</td>\n      <td>21631</td>\n      <td>21399.402439</td>\n    </tr>\n    <tr>\n      <th>Alaska</th>\n      <th>2020</th>\n      <td>13147</td>\n      <td>198</td>\n      <td>44.566102</td>\n    </tr>\n    <tr>\n      <th>...</th>\n      <th>...</th>\n      <td>...</td>\n      <td>...</td>\n      <td>...</td>\n    </tr>\n    <tr>\n      <th>Wisconsin</th>\n      <th>2023</th>\n      <td>1330461</td>\n      <td>16485</td>\n      <td>16225.134146</td>\n    </tr>\n    <tr>\n      <th rowspan=\"4\" valign=\"top\">Wyoming</th>\n      <th>2020</th>\n      <td>20734</td>\n      <td>438</td>\n      <td>70.047297</td>\n    </tr>\n    <tr>\n      <th>2021</th>\n      <td>316182</td>\n      <td>1526</td>\n      <td>866.252055</td>\n    </tr>\n    <tr>\n      <th>2022</th>\n      <td>664976</td>\n      <td>1959</td>\n      <td>1821.852055</td>\n    </tr>\n    <tr>\n      <th>2023</th>\n      <td>162978</td>\n      <td>2014</td>\n      <td>1987.536585</td>\n    </tr>\n  </tbody>\n</table>\n<p>223 rows × 3 columns</p>\n</div>"
     },
     "execution_count": 65,
     "metadata": {},
     "output_type": "execute_result"
    }
   ],
   "source": [
    "# Grouping by state and year to get sum of deaths per year, highest amount of deaths per year, and average deaths per state\n",
    "df.groupby(['state','year'])['deaths'].agg(['sum','max','mean'])"
   ]
  },
  {
   "cell_type": "markdown",
   "metadata": {},
   "source": [
    "#### Concatenating (Rows) and Merging (Columns) Data <br>\n",
    "\n",
    "A final task we will be covering in relation to data handling is appending datasets. Python gives us the `concat()` and `merge()` functions to allow us to combine multiple data sources into a single dataset. Let's use the join function first. <br>\n",
    "\n",
    "Before concatenating or merging anything, we will be creating two new DataFrames out of our covid dataset. We will subset CA and Texas into their own DataFrames, then bring them back together."
   ]
  },
  {
   "cell_type": "code",
   "execution_count": 66,
   "metadata": {},
   "outputs": [],
   "source": [
    "# Creating new df in order to subset it to include CA and TX separately\n",
    "df_ca = df.copy()\n",
    "df_tx = df.copy()\n",
    "\n",
    "# Subsetting df to get CA\n",
    "df_ca = df_ca[df_ca['state']=='California']\n",
    "df_tx = df_tx[df_tx['state']=='Texas']\n",
    "\n",
    "# Subsetting CA to split variables\n",
    "df3 = df_ca[['date','state','cases']].reset_index(drop=True)\n",
    "df4 = df_ca[['date','deaths','year']].reset_index(drop=True)\n",
    "\n",
    "# Sorting new df by date\n",
    "df_ca.sort_values(by=['date'], inplace=True)\n",
    "df_tx.sort_values(by=['date'], inplace=True)\n",
    "df3.sort_values(by=['date'], inplace=True)\n",
    "df4.sort_values(by=['date'], inplace=True)\n",
    "\n",
    "# Resetting index | drop = true ensures we don't have an index variable in the df\n",
    "df_ca = df_ca.reset_index(drop=True)\n",
    "df_tx = df_tx.reset_index(drop=True)\n",
    "df3 = df3.reset_index(drop=True)\n",
    "df4 = df4.reset_index(drop=True)\n",
    "\n",
    "# Dropping unwanted variables\n",
    "df_ca.drop(['death/case ratio','fips','var7'], axis=1, inplace=True)\n",
    "df_tx.drop(['death/case ratio','fips','var7'], axis=1, inplace=True)"
   ]
  },
  {
   "cell_type": "markdown",
   "metadata": {},
   "source": [
    "Because we are interested in joining two datasets by rows, we will be using the `concat()` function. Setting 'ignore index = True' will tell Python not to create an additional column of an index it dropped as a result of the concatenation."
   ]
  },
  {
   "cell_type": "code",
   "execution_count": 67,
   "metadata": {},
   "outputs": [
    {
     "data": {
      "text/plain": "        date       state  cases  deaths  year\n0 2020-01-25  California      1       0  2020\n1 2020-01-26  California      2       0  2020\n2 2020-01-27  California      2       0  2020\n3 2020-01-28  California      2       0  2020\n4 2020-01-29  California      2       0  2020",
      "text/html": "<div>\n<style scoped>\n    .dataframe tbody tr th:only-of-type {\n        vertical-align: middle;\n    }\n\n    .dataframe tbody tr th {\n        vertical-align: top;\n    }\n\n    .dataframe thead th {\n        text-align: right;\n    }\n</style>\n<table border=\"1\" class=\"dataframe\">\n  <thead>\n    <tr style=\"text-align: right;\">\n      <th></th>\n      <th>date</th>\n      <th>state</th>\n      <th>cases</th>\n      <th>deaths</th>\n      <th>year</th>\n    </tr>\n  </thead>\n  <tbody>\n    <tr>\n      <th>0</th>\n      <td>2020-01-25</td>\n      <td>California</td>\n      <td>1</td>\n      <td>0</td>\n      <td>2020</td>\n    </tr>\n    <tr>\n      <th>1</th>\n      <td>2020-01-26</td>\n      <td>California</td>\n      <td>2</td>\n      <td>0</td>\n      <td>2020</td>\n    </tr>\n    <tr>\n      <th>2</th>\n      <td>2020-01-27</td>\n      <td>California</td>\n      <td>2</td>\n      <td>0</td>\n      <td>2020</td>\n    </tr>\n    <tr>\n      <th>3</th>\n      <td>2020-01-28</td>\n      <td>California</td>\n      <td>2</td>\n      <td>0</td>\n      <td>2020</td>\n    </tr>\n    <tr>\n      <th>4</th>\n      <td>2020-01-29</td>\n      <td>California</td>\n      <td>2</td>\n      <td>0</td>\n      <td>2020</td>\n    </tr>\n  </tbody>\n</table>\n</div>"
     },
     "execution_count": 67,
     "metadata": {},
     "output_type": "execute_result"
    }
   ],
   "source": [
    "df_both_states = pd.concat([df_ca, df_tx], ignore_index=True)\n",
    "df_both_states.head()"
   ]
  },
  {
   "cell_type": "markdown",
   "metadata": {},
   "source": [
    "If we wanted to join two datasets based on columns, unlike the concat that joins on rows, we would need to use the `merge()` command that allows to combine datasets horizontally. The `merge()` merges two datasets by keywords (variables). In addition, it comes with a few options for its \"how=\" argument: <br>\n",
    "* \"how = inner\" - it joins only existing pairs\n",
    "* \"how = outer\" - it joins all observations (expect a few NaNs as a result)\n",
    "* \"how = left\" - it joins with the calling dataset's index\n",
    "* \"how = right\" - it joins with the second dataset's index\n",
    "\n",
    "We will be merging with an inner option to ensure that both datasets are matched."
   ]
  },
  {
   "cell_type": "code",
   "execution_count": 68,
   "metadata": {},
   "outputs": [
    {
     "data": {
      "text/plain": "        date       state  cases  deaths  year\n0 2020-01-25  California      1       0  2020\n1 2020-01-26  California      2       0  2020\n2 2020-01-27  California      2       0  2020\n3 2020-01-28  California      2       0  2020\n4 2020-01-29  California      2       0  2020",
      "text/html": "<div>\n<style scoped>\n    .dataframe tbody tr th:only-of-type {\n        vertical-align: middle;\n    }\n\n    .dataframe tbody tr th {\n        vertical-align: top;\n    }\n\n    .dataframe thead th {\n        text-align: right;\n    }\n</style>\n<table border=\"1\" class=\"dataframe\">\n  <thead>\n    <tr style=\"text-align: right;\">\n      <th></th>\n      <th>date</th>\n      <th>state</th>\n      <th>cases</th>\n      <th>deaths</th>\n      <th>year</th>\n    </tr>\n  </thead>\n  <tbody>\n    <tr>\n      <th>0</th>\n      <td>2020-01-25</td>\n      <td>California</td>\n      <td>1</td>\n      <td>0</td>\n      <td>2020</td>\n    </tr>\n    <tr>\n      <th>1</th>\n      <td>2020-01-26</td>\n      <td>California</td>\n      <td>2</td>\n      <td>0</td>\n      <td>2020</td>\n    </tr>\n    <tr>\n      <th>2</th>\n      <td>2020-01-27</td>\n      <td>California</td>\n      <td>2</td>\n      <td>0</td>\n      <td>2020</td>\n    </tr>\n    <tr>\n      <th>3</th>\n      <td>2020-01-28</td>\n      <td>California</td>\n      <td>2</td>\n      <td>0</td>\n      <td>2020</td>\n    </tr>\n    <tr>\n      <th>4</th>\n      <td>2020-01-29</td>\n      <td>California</td>\n      <td>2</td>\n      <td>0</td>\n      <td>2020</td>\n    </tr>\n  </tbody>\n</table>\n</div>"
     },
     "execution_count": 68,
     "metadata": {},
     "output_type": "execute_result"
    }
   ],
   "source": [
    "df5 = df3.merge(df4, on=\"date\", how='inner')\n",
    "df5.head()"
   ]
  },
  {
   "cell_type": "markdown",
   "source": [
    "## 1.4 Using Matplot <br>\n",
    "\n",
    "The Matplot library is one that allows us to create basic plots out of arrays in Python. We can use this library package to create line, scatter, and bar plots to name a few.\n",
    "\n",
    "<br>\n",
    "\n",
    "We will start by importing the `matplotlib` lib package below."
   ],
   "metadata": {
    "collapsed": false
   }
  },
  {
   "cell_type": "code",
   "execution_count": 69,
   "metadata": {},
   "outputs": [],
   "source": [
    "import matplotlib.pyplot as plt"
   ]
  },
  {
   "cell_type": "markdown",
   "source": [
    "### 1.4.1 Creating Plots Out of Lists (Vectors) <br>\n",
    "\n",
    "In order to demonstrate its capabilities, let's create a simple set of variables that will be used to plot our X and Y axis."
   ],
   "metadata": {
    "collapsed": false
   }
  },
  {
   "cell_type": "code",
   "execution_count": 70,
   "metadata": {},
   "outputs": [],
   "source": [
    "Y = [100,200,300,400,500,600,700,800]\n",
    "X = [2016,2017,2018,2019,2020,2021,2022,2023]"
   ]
  },
  {
   "cell_type": "markdown",
   "source": [
    "Now that we created our variables, let's begin by plotting our data using a line plot, followed by a scatter plot."
   ],
   "metadata": {
    "collapsed": false
   }
  },
  {
   "cell_type": "markdown",
   "source": [
    "`plt.plot()` is the command for a line graph"
   ],
   "metadata": {
    "collapsed": false
   }
  },
  {
   "cell_type": "code",
   "execution_count": 71,
   "metadata": {},
   "outputs": [
    {
     "data": {
      "text/plain": "<Figure size 640x480 with 1 Axes>",
      "image/png": "[encoded data removed]"
     },
     "metadata": {},
     "output_type": "display_data"
    }
   ],
   "source": [
    "# plotting the data\n",
    "plt.plot(X, Y)\n",
    "\n",
    "# Adding a  title to our plot\n",
    "plt.title(\"Line Plot\")\n",
    "\n",
    "# Adding labels to our plot\n",
    "plt.ylabel(\"y-axis\")\n",
    "plt.xlabel(\"x-axis\")\n",
    "plt.show()"
   ]
  },
  {
   "cell_type": "markdown",
   "source": [
    "`plt.scatter()` is the command for a scatter plot."
   ],
   "metadata": {
    "collapsed": false
   }
  },
  {
   "cell_type": "code",
   "execution_count": 72,
   "outputs": [
    {
     "data": {
      "text/plain": "<Figure size 640x480 with 1 Axes>",
      "image/png": "[encoded data removed]"
     },
     "metadata": {},
     "output_type": "display_data"
    }
   ],
   "source": [
    "# plotting the data\n",
    "plt.scatter(X, Y)\n",
    "\n",
    "# Adding a  title to our plot\n",
    "plt.title(\"Scatter Plot\")\n",
    "\n",
    "# Adding labels to our plot\n",
    "plt.ylabel(\"y-axis\")\n",
    "plt.xlabel(\"x-axis\")\n",
    "plt.show()"
   ],
   "metadata": {
    "collapsed": false
   }
  },
  {
   "cell_type": "markdown",
   "source": [
    "`plt.bar()` is the command for a bar plot.\n"
   ],
   "metadata": {
    "collapsed": false
   }
  },
  {
   "cell_type": "code",
   "execution_count": 73,
   "outputs": [
    {
     "data": {
      "text/plain": "<Figure size 640x480 with 1 Axes>",
      "image/png": "[encoded data removed]"
     },
     "metadata": {},
     "output_type": "display_data"
    }
   ],
   "source": [
    "# plotting the data\n",
    "plt.bar(X, Y)\n",
    "\n",
    "# Adding a  title to our plot\n",
    "plt.title(\"Bar Plot\")\n",
    "\n",
    "# Adding labels to our plot\n",
    "plt.ylabel(\"y-axis\")\n",
    "plt.xlabel(\"x-axis\")\n",
    "plt.show()"
   ],
   "metadata": {
    "collapsed": false
   }
  },
  {
   "cell_type": "markdown",
   "source": [
    "### 1.4.2 Adding Additional Plot Arguments <br>\n",
    "\n",
    "Like in GGPlot, you are able to make additional adjustments to the plots we make–such as changing the color of our lines, adding markers alongside lines, and even changing the linestyle. The following links below provide information to the kinds of arguments you can give to the `plot()` function with respect to the aesthetics. <br>\n",
    "\n",
    "* [Colors available](https://i.stack.imgur.com/lFZum.png)\n",
    "* [Markers available](https://matplotlib.org/stable/api/markers_api.html)\n",
    "* [Linesytles available](https://matplotlib.org/stable/gallery/lines_bars_and_markers/linestyles.html) <br>\n",
    "\n",
    "The following code shows an example of how to integrate the arguments into the `plt.plot()` function."
   ],
   "metadata": {
    "collapsed": false
   }
  },
  {
   "cell_type": "code",
   "execution_count": 74,
   "outputs": [
    {
     "data": {
      "text/plain": "<Figure size 640x480 with 1 Axes>",
      "image/png": "[encoded data removed]"
     },
     "metadata": {},
     "output_type": "display_data"
    }
   ],
   "source": [
    "# plotting the data once more\n",
    "plt.plot(X, Y, color='coral', marker='o', linestyle='dashed'\n",
    "         )\n",
    "\n",
    "# Adding a  title to our plot just as before\n",
    "plt.title(\"Line Plot\")\n",
    "\n",
    "# Adding labels to our plot\n",
    "plt.ylabel(\"y-axis\")\n",
    "plt.xlabel(\"x-axis\")\n",
    "plt.show()"
   ],
   "metadata": {
    "collapsed": false
   }
  },
  {
   "cell_type": "markdown",
   "source": [
    "### 1.4.3 Plotting Variables From A DataFrame <br>\n",
    "\n",
    "The examples above show how to plot simple vectors, but what if we want to plot data from a DataFrame? We can use `.plot()` to plot specific variable from a DataFrame as well. <br>\n",
    "\n",
    "<br>\n",
    "\n",
    "Let's start by using the COVID dataset we imported earlier."
   ],
   "metadata": {
    "collapsed": false
   }
  },
  {
   "cell_type": "code",
   "execution_count": 75,
   "metadata": {},
   "outputs": [],
   "source": [
    "# Reading dataframe from a link online\n",
    "df = pd.read_csv('https://raw.githubusercontent.com/nytimes/covid-19-data/master/us-states.csv')\n",
    "\n",
    "# Grouping DataFrame by state and cases to get the total number of COVID cases per state\n",
    "df = df.groupby(\"state\")['cases'].count()\n",
    "\n",
    "# Keeping only the first 10 states in the data frame\n",
    "df = df[0:10]"
   ]
  },
  {
   "cell_type": "markdown",
   "source": [
    "For this example, we will be plotting the cumulative frequency distributions of COVID cases per state. Unlike the code above, we will use the `.plot()` function in a way that allows us to specify the type of plot and data objects we will be using."
   ],
   "metadata": {
    "collapsed": false
   }
  },
  {
   "cell_type": "code",
   "execution_count": 76,
   "outputs": [
    {
     "data": {
      "text/plain": "Text(0.5, 0, 'State')"
     },
     "execution_count": 76,
     "metadata": {},
     "output_type": "execute_result"
    },
    {
     "data": {
      "text/plain": "<Figure size 640x480 with 1 Axes>",
      "image/png": "[encoded data removed]"
     },
     "metadata": {},
     "output_type": "display_data"
    }
   ],
   "source": [
    "# plotting the COVID data\n",
    "# 'kind' tells Python to plot a bar graph\n",
    "# 'width' tells python to alter the width of the bars; default is set to 0.8\n",
    "df.plot(kind='bar', x='state', y='cases', color='y', width=0.4)\n",
    "\n",
    "# adding title\n",
    "plt.title(\"Frequency of COVID Cases Per State Plot\")\n",
    "\n",
    "# adding axis-labels\n",
    "plt.ylabel(\"Cases\")\n",
    "plt.xlabel(\"State\")"
   ],
   "metadata": {
    "collapsed": false
   }
  },
  {
   "cell_type": "markdown",
   "source": [
    "## 1.5 Using the Seaborn Library <br>\n",
    "\n",
    "While Matplot lib is a powerful library, its modularity can provide a steep learning curve. Luckily, Python offers another package that facilitates plot making. Seaborn, like Matplot, is also used for plotting graphs, and it builds on the Matplotlib, Pandas, and Numpy libraries to do so. Its simpler syntax allows users to quickly pick up on plotting and creating aesthetic graphs to display relationships of data. The remainder of the workshop lessons will mainly rely on Seaborn to produce graphs.\n",
    "\n",
    "<br>\n",
    "\n",
    "We will start by importing the `seaborn` package below."
   ],
   "metadata": {
    "collapsed": false
   }
  },
  {
   "cell_type": "code",
   "execution_count": 79,
   "outputs": [],
   "source": [
    "# Unlike the packages above, our program does not have seaborn internally, so we must use the `conda install` operator to download the library in order to use it. For easier downloading, remove the hash below and click on the icon that appears above the \"conda install seaborn\" line of code and click on install. After, it should be easy to import the seaborn package.\n",
    "# conda install seaborn\n",
    "import seaborn as sns"
   ],
   "metadata": {
    "collapsed": false
   }
  },
  {
   "cell_type": "markdown",
   "source": [
    "To show its power, let's use a simple example where we observe the average number of yearly COVID cases in California."
   ],
   "metadata": {
    "collapsed": false
   }
  },
  {
   "cell_type": "code",
   "execution_count": 77,
   "outputs": [],
   "source": [
    "# Reading dataframe from a link online\n",
    "df = pd.read_csv('https://raw.githubusercontent.com/nytimes/covid-19-data/master/us-states.csv')\n",
    "\n",
    "# Subsetting df to only include CA\n",
    "df = df[(df['state']==\"California\")]\n",
    "\n",
    "# Converting current date to datetime type\n",
    "df['date'] = pd.to_datetime(df['date'])\n",
    "\n",
    "# Creating year variable out of date variable\n",
    "df['year'] = df['date'].dt.year\n",
    "\n",
    "# Organizing data even further to remove cumulative deaths per day\n",
    "df['cases_(-1)']=df['cases'].shift(1)\n",
    "df['non_cum_cases']= df['cases']-df['cases_(-1)']"
   ],
   "metadata": {
    "collapsed": false
   }
  },
  {
   "cell_type": "markdown",
   "source": [
    "The following is the simplest way to plot a plot using seaborn. Like in Matplot, Seaborn allows us to produce line plots, barplots, box plots, scatter plots, kernel density plots, regression plots, etc."
   ],
   "metadata": {
    "collapsed": false
   }
  },
  {
   "cell_type": "code",
   "execution_count": 80,
   "outputs": [
    {
     "data": {
      "text/plain": "<Axes: xlabel='year', ylabel='non_cum_cases'>"
     },
     "execution_count": 80,
     "metadata": {},
     "output_type": "execute_result"
    },
    {
     "data": {
      "text/plain": "<Figure size 640x480 with 1 Axes>",
      "image/png": "[encoded data removed]"
     },
     "metadata": {},
     "output_type": "display_data"
    }
   ],
   "source": [
    "sns.lineplot(data=df, x='year', y='non_cum_cases')"
   ],
   "metadata": {
    "collapsed": false
   }
  },
  {
   "cell_type": "markdown",
   "source": [
    "Like in Matplot, we are able to give seaborn additional arguments to make our plots more customizable. The `sns.set_style` tells Python to set a preset theme for the plot we will be using. Some of the presets that seaborn has available are: <br>\n",
    "* 'whitegrid'\n",
    "* 'darkgrid'\n",
    "* 'white'\n",
    "* 'dark'\n",
    "* 'ticks' <br>"
   ],
   "metadata": {
    "collapsed": false
   }
  },
  {
   "cell_type": "code",
   "execution_count": 81,
   "outputs": [
    {
     "name": "stderr",
     "output_type": "stream",
     "text": [
      "/var/folders/j5/t1nww9c16m179sypjx0gjnc00000gn/T/ipykernel_24743/3383602791.py:7: FutureWarning: \n",
      "\n",
      "The `ci` parameter is deprecated. Use `errorbar=('ci', False)` for the same effect.\n",
      "\n",
      "  plot = sns.lineplot(data=df, x='year', y='non_cum_cases', color='y', linestyle = 'solid', ci=False)\n"
     ]
    },
    {
     "data": {
      "text/plain": "<Figure size 640x480 with 1 Axes>",
      "image/png": "[encoded data removed]"
     },
     "metadata": {},
     "output_type": "display_data"
    }
   ],
   "source": [
    "# Setting theme style\n",
    "sns.set_style('ticks')\n",
    "\n",
    "# ci as 'False' removes the confidence intervals\n",
    "# linestyle changes the style of the line\n",
    "# color changes the color of the line\n",
    "plot = sns.lineplot(data=df, x='year', y='non_cum_cases', color='y', linestyle = 'solid', ci=False)\n",
    "\n",
    "# Adding title and labels\n",
    "plot.set_title('Average COVID Cases per Year (CA)', fontdict={'size': 18, 'weight': 'normal'})\n",
    "plot.set_xlabel('Year', fontdict={'size': 12})\n",
    "plot.set_ylabel('COVID Cases (Avg)', fontdict={'size': 12})\n",
    "\n",
    "# Saving figure to your directory\n",
    "fig = plot.get_figure()\n",
    "fig.savefig('output.png')"
   ],
   "metadata": {
    "collapsed": false
   }
  }
 ],
 "metadata": {
  "kernelspec": {
   "display_name": "Python 3 (ipykernel)",
   "language": "python",
   "name": "python3"
  },
  "language_info": {
   "codemirror_mode": {
    "name": "ipython",
    "version": 3
   },
   "file_extension": ".py",
   "mimetype": "text/x-python",
   "name": "python",
   "nbconvert_exporter": "python",
   "pygments_lexer": "ipython3",
   "version": "3.9.13"
  }
 },
 "nbformat": 4,
 "nbformat_minor": 1
}
